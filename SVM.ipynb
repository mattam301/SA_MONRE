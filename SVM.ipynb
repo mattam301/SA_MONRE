{
 "cells": [
  {
   "cell_type": "code",
   "execution_count": 1,
   "metadata": {},
   "outputs": [],
   "source": [
    "import pandas as pd\n",
    "from nltk.corpus import stopwords\n",
    "import numpy as np\n",
    "from nltk.stem import WordNetLemmatizer\n",
    "from sklearn.preprocessing import LabelEncoder\n",
    "from sklearn.preprocessing import OrdinalEncoder\n",
    "from collections import defaultdict\n",
    "from nltk.corpus import wordnet as wn\n",
    "from sklearn.feature_extraction.text import TfidfVectorizer\n",
    "from sklearn import model_selection, naive_bayes, svm\n",
    "from sklearn.metrics import accuracy_score\n",
    "from sklearn.model_selection import train_test_split\n",
    "from sklearn.metrics import classification_report\n",
    "from sklearn.model_selection import GridSearchCV\n",
    "from lightgbm import LGBMClassifier\n",
    "from sklearn.ensemble import RandomForestClassifier"
   ]
  },
  {
   "cell_type": "code",
   "execution_count": 2,
   "metadata": {},
   "outputs": [],
   "source": [
    "# df = pd.read_csv('Data/Data_dat_dai/data_after_preprocessing.csv', index_col=0)\n",
    "# df.head()"
   ]
  },
  {
   "cell_type": "code",
   "execution_count": 3,
   "metadata": {},
   "outputs": [],
   "source": [
    "# X_train, X_test, Y_train, Y_test= model_selection.train_test_split(df['text'],df['label'],test_size=0.2,random_state=1)"
   ]
  },
  {
   "cell_type": "code",
   "execution_count": 4,
   "metadata": {},
   "outputs": [],
   "source": [
    "def read_splitted_data():\n",
    "\n",
    "    df_train = pd.read_csv('Data/Data_dat_dai/df_train_after.csv')\n",
    "    df_test = pd.read_csv('Data/Data_dat_dai/df_test_after.csv')\n",
    "\n",
    "\n",
    "    X_train = df_train[['text']]\n",
    "    Y_train = df_train[['label']]\n",
    "\n",
    "    X_test = df_test[['text']]\n",
    "    Y_test = df_test[['label']]   \n",
    "\n",
    "    return X_train, Y_train, X_test, Y_test"
   ]
  },
  {
   "cell_type": "code",
   "execution_count": 5,
   "metadata": {},
   "outputs": [],
   "source": [
    "def tf_idf_config(X_train, X_test):\n",
    "\n",
    "    Tfidf_vect = TfidfVectorizer(max_features=1000)\n",
    "    Tfidf_vect.fit(X_train['text'].to_list())\n",
    "    tfidf_train = Tfidf_vect.transform(X_train['text'])\n",
    "    tfidf_test = Tfidf_vect.transform(X_test['text'])\n",
    "\n",
    "    tfidf_train = tfidf_train.toarray()\n",
    "    tfidf_test = tfidf_test.toarray()\n",
    "\n",
    "    return Tfidf_vect, tfidf_train, tfidf_test"
   ]
  },
  {
   "cell_type": "code",
   "execution_count": 6,
   "metadata": {},
   "outputs": [],
   "source": [
    "def model_selection(model_name, tfidf_train, tfidf_test, Y_train, Y_test):\n",
    "    if (model_name == \"SVM\"):\n",
    "        model = svm.SVC(C=1.0, kernel='linear', gamma='auto', degree = 3)\n",
    "        model.fit(tfidf_train,Y_train)\n",
    "        # predict the labels on validation dataset\n",
    "        predictions_SVM = model.predict(tfidf_test)\n",
    "        # Use accuracy_score function to get the accuracy\n",
    "        print(\"SVM Accuracy Score -> \",accuracy_score(predictions_SVM, Y_test)*100)  \n",
    "        print(classification_report(Y_test,predictions_SVM)) \n",
    "        return model    \n",
    "\n",
    "    elif (model_name == \"LGBM\"):\n",
    "\n",
    "        model = LGBMClassifier()\n",
    "        model.fit(tfidf_train,Y_train)\n",
    "        predictions_lgbm = model.predict(tfidf_test)\n",
    "        # Use accuracy_score function to get the accuracy\n",
    "        print(\"ligbm Accuracy Score -> \",accuracy_score(predictions_lgbm, Y_test)*100)\n",
    "        print(classification_report(Y_test,predictions_lgbm))\n",
    "\n",
    "        return model\n",
    "\n",
    "    elif (model_name == \"Random Forest\"):\n",
    "\n",
    "        model = RandomForestClassifier(n_estimators=1000,min_samples_leaf=2,\n",
    "                                        min_samples_split= 10, max_features = 'sqrt', criterion = 'entropy', bootstrap= True,\n",
    "                                      random_state=25)\n",
    "        model.fit(tfidf_train,Y_train) \n",
    "        predictions_rf = model.predict(tfidf_test)\n",
    "        # Use accuracy_score function to get the accuracy\n",
    "        print(\"rf Accuracy Score -> \",accuracy_score(predictions_rf, Y_test)*100)\n",
    "        print(classification_report(Y_test,predictions_rf))\n",
    "\n",
    "        return model\n",
    "    else:\n",
    "        print(\"No invalid model selected, try again\")\n",
    "        return 0\n"
   ]
  },
  {
   "cell_type": "code",
   "execution_count": 7,
   "metadata": {},
   "outputs": [
    {
     "name": "stderr",
     "output_type": "stream",
     "text": [
      "d:\\Anaconda\\lib\\site-packages\\sklearn\\utils\\validation.py:63: DataConversionWarning: A column-vector y was passed when a 1d array was expected. Please change the shape of y to (n_samples, ), for example using ravel().\n",
      "  return f(*args, **kwargs)\n"
     ]
    },
    {
     "name": "stdout",
     "output_type": "stream",
     "text": [
      "ligbm Accuracy Score ->  87.71929824561403\n",
      "              precision    recall  f1-score   support\n",
      "\n",
      "          -1       0.85      0.85      0.85        46\n",
      "           1       0.90      0.90      0.90        68\n",
      "\n",
      "    accuracy                           0.88       114\n",
      "   macro avg       0.87      0.87      0.87       114\n",
      "weighted avg       0.88      0.88      0.88       114\n",
      "\n"
     ]
    }
   ],
   "source": [
    "X_train, Y_train, X_test, Y_test = read_splitted_data()\n",
    "Tfidf_vect, tfidf_train, tfidf_test = tf_idf_config(X_train, X_test)\n",
    "selected = model_selection(model_name = \"LGBM\", tfidf_train = tfidf_train, tfidf_test = tfidf_test, Y_train = Y_train, Y_test = Y_test)"
   ]
  }
 ],
 "metadata": {
  "kernelspec": {
   "display_name": "Python 3.8.8 ('base')",
   "language": "python",
   "name": "python3"
  },
  "language_info": {
   "codemirror_mode": {
    "name": "ipython",
    "version": 3
   },
   "file_extension": ".py",
   "mimetype": "text/x-python",
   "name": "python",
   "nbconvert_exporter": "python",
   "pygments_lexer": "ipython3",
   "version": "3.8.8"
  },
  "orig_nbformat": 4,
  "vscode": {
   "interpreter": {
    "hash": "88279d2366fe020547cde40dd65aa0e3aa662a6ec1f3ca12d88834876c85e1a6"
   }
  }
 },
 "nbformat": 4,
 "nbformat_minor": 2
}
