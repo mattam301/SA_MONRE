{
 "cells": [
  {
   "cell_type": "code",
   "execution_count": 1,
   "metadata": {},
   "outputs": [],
   "source": [
    "import pandas as pd\n",
    "from nltk.corpus import stopwords\n",
    "import numpy as np\n",
    "from nltk.stem import WordNetLemmatizer\n",
    "from sklearn.preprocessing import LabelEncoder\n",
    "from sklearn.preprocessing import OrdinalEncoder\n",
    "from collections import defaultdict\n",
    "from nltk.corpus import wordnet as wn\n",
    "from sklearn.feature_extraction.text import TfidfVectorizer\n",
    "from sklearn import model_selection, naive_bayes, svm\n",
    "from sklearn.metrics import accuracy_score\n",
    "from sklearn.model_selection import train_test_split\n",
    "from sklearn.metrics import classification_report\n",
    "from sklearn.model_selection import GridSearchCV\n",
    "from lightgbm import LGBMClassifier\n",
    "from sklearn.ensemble import RandomForestClassifier"
   ]
  },
  {
   "cell_type": "code",
   "execution_count": 2,
   "metadata": {},
   "outputs": [],
   "source": [
    "# !pip install lightgbm"
   ]
  },
  {
   "cell_type": "code",
   "execution_count": 3,
   "metadata": {},
   "outputs": [
    {
     "data": {
      "text/html": [
       "<div>\n",
       "<style scoped>\n",
       "    .dataframe tbody tr th:only-of-type {\n",
       "        vertical-align: middle;\n",
       "    }\n",
       "\n",
       "    .dataframe tbody tr th {\n",
       "        vertical-align: top;\n",
       "    }\n",
       "\n",
       "    .dataframe thead th {\n",
       "        text-align: right;\n",
       "    }\n",
       "</style>\n",
       "<table border=\"1\" class=\"dataframe\">\n",
       "  <thead>\n",
       "    <tr style=\"text-align: right;\">\n",
       "      <th></th>\n",
       "      <th>text</th>\n",
       "      <th>label</th>\n",
       "    </tr>\n",
       "  </thead>\n",
       "  <tbody>\n",
       "    <tr>\n",
       "      <th>0</th>\n",
       "      <td>tuần , báo sggp tổ_chức tọa_đàm “ góp_ý dự_thả...</td>\n",
       "      <td>-1</td>\n",
       "    </tr>\n",
       "    <tr>\n",
       "      <th>1</th>\n",
       "      <td>nghị_quyết 18 - nq / tw yêu_cầu quy_định thuế ...</td>\n",
       "      <td>1</td>\n",
       "    </tr>\n",
       "    <tr>\n",
       "      <th>2</th>\n",
       "      <td>, đất đánh_thuế . ( ảnh minh_họa : ttxvn ) 16/...</td>\n",
       "      <td>1</td>\n",
       "    </tr>\n",
       "    <tr>\n",
       "      <th>3</th>\n",
       "      <td>quy_định khung giá đất , sở_hữu nhà_đất đánh_t...</td>\n",
       "      <td>1</td>\n",
       "    </tr>\n",
       "    <tr>\n",
       "      <th>4</th>\n",
       "      <td>nghị_quyết 18 - nq / tw xây_dựng cơ_sở tổng_kế...</td>\n",
       "      <td>1</td>\n",
       "    </tr>\n",
       "  </tbody>\n",
       "</table>\n",
       "</div>"
      ],
      "text/plain": [
       "                                                text  label\n",
       "0  tuần , báo sggp tổ_chức tọa_đàm “ góp_ý dự_thả...     -1\n",
       "1  nghị_quyết 18 - nq / tw yêu_cầu quy_định thuế ...      1\n",
       "2  , đất đánh_thuế . ( ảnh minh_họa : ttxvn ) 16/...      1\n",
       "3  quy_định khung giá đất , sở_hữu nhà_đất đánh_t...      1\n",
       "4  nghị_quyết 18 - nq / tw xây_dựng cơ_sở tổng_kế...      1"
      ]
     },
     "execution_count": 3,
     "metadata": {},
     "output_type": "execute_result"
    }
   ],
   "source": [
    "df = pd.read_csv('data_after_preprocessing.csv', index_col=0)\n",
    "df.head()"
   ]
  },
  {
   "cell_type": "code",
   "execution_count": 4,
   "metadata": {},
   "outputs": [
    {
     "data": {
      "text/plain": [
       " 1    450\n",
       "-1    305\n",
       "Name: label, dtype: int64"
      ]
     },
     "execution_count": 4,
     "metadata": {},
     "output_type": "execute_result"
    }
   ],
   "source": [
    "df['label'].value_counts()\n"
   ]
  },
  {
   "cell_type": "code",
   "execution_count": 5,
   "metadata": {},
   "outputs": [],
   "source": [
    "X_train, X_test, Y_train, Y_test= model_selection.train_test_split(df[['text']],df['label'],test_size=0.15,random_state=25)"
   ]
  },
  {
   "cell_type": "code",
   "execution_count": 6,
   "metadata": {},
   "outputs": [],
   "source": [
    "# lb = LabelEncoder()\n",
    "# lb.fit(X_train['sourceName'])\n",
    "# le_dict = dict(zip(lb.classes_, lb.transform(lb.classes_)))\n",
    "# X_train['sourceName'] = X_train['sourceName'].apply(lambda x : le_dict.get(x,-1))\n",
    "# X_test['sourceName'] = X_test['sourceName'].apply(lambda x : le_dict.get(x,-1))"
   ]
  },
  {
   "cell_type": "code",
   "execution_count": 7,
   "metadata": {},
   "outputs": [],
   "source": [
    "Tfidf_vect = TfidfVectorizer(max_features=1500)\n",
    "Tfidf_vect.fit(X_train['text'].to_list())\n",
    "tfidf_train = Tfidf_vect.transform(X_train['text'])\n",
    "tfidf_test = Tfidf_vect.transform(X_test['text'])"
   ]
  },
  {
   "cell_type": "code",
   "execution_count": 8,
   "metadata": {},
   "outputs": [
    {
     "name": "stdout",
     "output_type": "stream",
     "text": [
      "(641, 1500)\n"
     ]
    }
   ],
   "source": [
    "print(tfidf_train.shape)\n",
    "# train_source = np.array(X_train['sourceName'])\n",
    "# train_source = np.array([train_source])\n",
    "# test_source = np.array(X_test['sourceName'])\n",
    "# test_source = np.array([test_source])"
   ]
  },
  {
   "cell_type": "code",
   "execution_count": 9,
   "metadata": {},
   "outputs": [],
   "source": [
    "tfidf_train = tfidf_train.toarray()\n",
    "tfidf_test = tfidf_test.toarray()"
   ]
  },
  {
   "cell_type": "code",
   "execution_count": 10,
   "metadata": {},
   "outputs": [],
   "source": [
    "# tfidf_train.shape\n",
    "# train_source.shape"
   ]
  },
  {
   "cell_type": "code",
   "execution_count": 11,
   "metadata": {},
   "outputs": [],
   "source": [
    "# tfidf_train = np.concatenate((tfidf_train, train_source.T),axis=1)\n",
    "# tfidf_test = np.concatenate((tfidf_test, test_source.T),axis=1)"
   ]
  },
  {
   "cell_type": "code",
   "execution_count": 12,
   "metadata": {},
   "outputs": [],
   "source": [
    "# print(Tfidf_vect.vocabulary_)"
   ]
  },
  {
   "cell_type": "code",
   "execution_count": 13,
   "metadata": {},
   "outputs": [],
   "source": [
    "# param_grid = {  'C': [0.1,1, 10, 100], \n",
    "#                 'gamma': ['auto',1,0.1,0.01,0.001],\n",
    "#                 'kernel': ['rbf', 'poly', 'sigmoid','linear'],\n",
    "#                 'coef0': [0.0, 0.1,0.2, 0.5, 0.8, 1]\n",
    "#             }"
   ]
  },
  {
   "cell_type": "code",
   "execution_count": 14,
   "metadata": {},
   "outputs": [],
   "source": [
    "# grid = GridSearchCV(svm.SVC(),param_grid,refit=True,verbose=2,scoring = 'roc_auc')\n",
    "# grid.fit(tfidf_train,Y_train)"
   ]
  },
  {
   "cell_type": "code",
   "execution_count": 15,
   "metadata": {},
   "outputs": [],
   "source": [
    "# grid.best_params_"
   ]
  },
  {
   "cell_type": "code",
   "execution_count": 16,
   "metadata": {},
   "outputs": [
    {
     "name": "stdout",
     "output_type": "stream",
     "text": [
      "SVM Accuracy Score ->  82.45614035087719\n"
     ]
    }
   ],
   "source": [
    "SVM = svm.SVC(C=1.0, kernel='linear', gamma='auto', degree = 3)\n",
    "SVM.fit(tfidf_train,Y_train)\n",
    "# predict the labels on validation dataset\n",
    "predictions_SVM = SVM.predict(tfidf_test)\n",
    "# Use accuracy_score function to get the accuracy\n",
    "print(\"SVM Accuracy Score -> \",accuracy_score(predictions_SVM, Y_test)*100)"
   ]
  },
  {
   "cell_type": "code",
   "execution_count": 17,
   "metadata": {},
   "outputs": [
    {
     "name": "stdout",
     "output_type": "stream",
     "text": [
      "              precision    recall  f1-score   support\n",
      "\n",
      "          -1       0.80      0.77      0.79        48\n",
      "           1       0.84      0.86      0.85        66\n",
      "\n",
      "    accuracy                           0.82       114\n",
      "   macro avg       0.82      0.82      0.82       114\n",
      "weighted avg       0.82      0.82      0.82       114\n",
      "\n"
     ]
    }
   ],
   "source": [
    "print(classification_report(Y_test,predictions_SVM))"
   ]
  },
  {
   "cell_type": "code",
   "execution_count": 18,
   "metadata": {},
   "outputs": [
    {
     "name": "stdout",
     "output_type": "stream",
     "text": [
      "ligbm Accuracy Score ->  79.82456140350878\n",
      "              precision    recall  f1-score   support\n",
      "\n",
      "          -1       0.78      0.73      0.75        48\n",
      "           1       0.81      0.85      0.83        66\n",
      "\n",
      "    accuracy                           0.80       114\n",
      "   macro avg       0.79      0.79      0.79       114\n",
      "weighted avg       0.80      0.80      0.80       114\n",
      "\n"
     ]
    }
   ],
   "source": [
    "lgbm = LGBMClassifier()\n",
    "lgbm.fit(tfidf_train,Y_train)\n",
    "predictions_lgbm = lgbm.predict(tfidf_test)\n",
    "# Use accuracy_score function to get the accuracy\n",
    "print(\"ligbm Accuracy Score -> \",accuracy_score(predictions_lgbm, Y_test)*100)\n",
    "print(classification_report(Y_test,predictions_lgbm))"
   ]
  },
  {
   "cell_type": "code",
   "execution_count": 19,
   "metadata": {},
   "outputs": [
    {
     "name": "stdout",
     "output_type": "stream",
     "text": [
      "rf Accuracy Score ->  82.45614035087719\n",
      "              precision    recall  f1-score   support\n",
      "\n",
      "          -1       0.85      0.71      0.77        48\n",
      "           1       0.81      0.91      0.86        66\n",
      "\n",
      "    accuracy                           0.82       114\n",
      "   macro avg       0.83      0.81      0.81       114\n",
      "weighted avg       0.83      0.82      0.82       114\n",
      "\n"
     ]
    }
   ],
   "source": [
    "rf = RandomForestClassifier(n_estimators=1000,min_samples_leaf=2,\n",
    "                                min_samples_split= 10, max_features = 'sqrt', criterion = 'entropy', bootstrap= True,\n",
    "                              random_state=42)\n",
    "rf.fit(tfidf_train,Y_train) \n",
    "predictions_rf = rf.predict(tfidf_test)\n",
    "# Use accuracy_score function to get the accuracy\n",
    "print(\"rf Accuracy Score -> \",accuracy_score(predictions_rf, Y_test)*100)\n",
    "print(classification_report(Y_test,predictions_rf))"
   ]
  },
  {
   "cell_type": "code",
   "execution_count": null,
   "metadata": {},
   "outputs": [],
   "source": []
  }
 ],
 "metadata": {
  "kernelspec": {
   "display_name": "Python 3.8.8 ('base')",
   "language": "python",
   "name": "python3"
  },
  "language_info": {
   "codemirror_mode": {
    "name": "ipython",
    "version": 3
   },
   "file_extension": ".py",
   "mimetype": "text/x-python",
   "name": "python",
   "nbconvert_exporter": "python",
   "pygments_lexer": "ipython3",
   "version": "3.8.8"
  },
  "orig_nbformat": 4,
  "vscode": {
   "interpreter": {
    "hash": "88279d2366fe020547cde40dd65aa0e3aa662a6ec1f3ca12d88834876c85e1a6"
   }
  }
 },
 "nbformat": 4,
 "nbformat_minor": 2
}
