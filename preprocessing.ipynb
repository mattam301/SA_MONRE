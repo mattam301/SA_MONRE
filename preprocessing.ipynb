{
 "cells": [
  {
   "cell_type": "code",
   "execution_count": 1,
   "metadata": {},
   "outputs": [
    {
     "name": "stderr",
     "output_type": "stream",
     "text": [
      "c:\\Python310\\lib\\site-packages\\tqdm\\auto.py:22: TqdmWarning: IProgress not found. Please update jupyter and ipywidgets. See https://ipywidgets.readthedocs.io/en/stable/user_install.html\n",
      "  from .autonotebook import tqdm as notebook_tqdm\n"
     ]
    }
   ],
   "source": [
    "import pandas as pd\n",
    "import numpy as np\n",
    "from nltk.tokenize import word_tokenize\n",
    "from nltk.corpus import stopwords\n",
    "from nltk.corpus import wordnet as wn\n",
    "from sklearn.metrics import accuracy_score\n",
    "from sklearn.model_selection import train_test_split\n",
    "from sklearn.metrics import classification_report\n",
    "from underthesea import word_tokenize\n",
    "# from CocCocTokenizer import PyTokenizer"
   ]
  },
  {
   "cell_type": "code",
   "execution_count": 244,
   "metadata": {},
   "outputs": [],
   "source": [
    "df = pd.read_csv('df_test.csv')"
   ]
  },
  {
   "cell_type": "code",
   "execution_count": 245,
   "metadata": {},
   "outputs": [],
   "source": [
    "# df = pd.read_excel('Data/Data_dat_dai/luat_dat_dai.xlsx')  \n",
    "# df.head()"
   ]
  },
  {
   "cell_type": "markdown",
   "metadata": {},
   "source": [
    "#### LOWERCASE"
   ]
  },
  {
   "cell_type": "code",
   "execution_count": 246,
   "metadata": {},
   "outputs": [],
   "source": [
    "df = df[df['label'] != 0]"
   ]
  },
  {
   "cell_type": "code",
   "execution_count": 247,
   "metadata": {},
   "outputs": [],
   "source": [
    "df['summary'] = df['summary'].str.lower()"
   ]
  },
  {
   "cell_type": "code",
   "execution_count": 248,
   "metadata": {},
   "outputs": [],
   "source": [
    "list_title = df['content'].to_list()\n",
    "list_summary = df['summary'].to_list()\n",
    "list_text = []\n",
    "for i in range(len(list_title)):\n",
    "    list_text.append(list_title[i] + ' ' + str(list_summary[i]))\n",
    "    \n",
    "df['text'] = list_text\n",
    "df['text'] = df['text'].str.lower()\n",
    "# df['sourceName'] = df['sourceName'].str.lower()"
   ]
  },
  {
   "cell_type": "markdown",
   "metadata": {},
   "source": [
    "#### Bỏ phần text thừa"
   ]
  },
  {
   "cell_type": "code",
   "execution_count": 250,
   "metadata": {},
   "outputs": [],
   "source": []
  },
  {
   "cell_type": "markdown",
   "metadata": {},
   "source": [
    "#### word segmentation"
   ]
  },
  {
   "cell_type": "code",
   "execution_count": 251,
   "metadata": {},
   "outputs": [],
   "source": [
    "'''UNDER THE SEA'''\n",
    "\n",
    "list_text = df['text'].to_list()\n",
    "#print(list_text[0])\n",
    "for i in range(len(list_text)):\n",
    "    list_text[i] = word_tokenize(list_text[i], format='text')\n",
    "\n",
    "df['text'] =  list_text"
   ]
  },
  {
   "cell_type": "code",
   "execution_count": 252,
   "metadata": {},
   "outputs": [
    {
     "data": {
      "text/html": [
       "<div>\n",
       "<style scoped>\n",
       "    .dataframe tbody tr th:only-of-type {\n",
       "        vertical-align: middle;\n",
       "    }\n",
       "\n",
       "    .dataframe tbody tr th {\n",
       "        vertical-align: top;\n",
       "    }\n",
       "\n",
       "    .dataframe thead th {\n",
       "        text-align: right;\n",
       "    }\n",
       "</style>\n",
       "<table border=\"1\" class=\"dataframe\">\n",
       "  <thead>\n",
       "    <tr style=\"text-align: right;\">\n",
       "      <th></th>\n",
       "      <th>Unnamed: 0</th>\n",
       "      <th>summary</th>\n",
       "      <th>content</th>\n",
       "      <th>label</th>\n",
       "      <th>text</th>\n",
       "    </tr>\n",
       "  </thead>\n",
       "  <tbody>\n",
       "    <tr>\n",
       "      <th>0</th>\n",
       "      <td>421</td>\n",
       "      <td>(hnm) - nghị quyết số 18-nq/tư, ngày 16-6-2022...</td>\n",
       "      <td>(HNM) - Nghị quyết số 18-NQ/TƯ, ngày 16-6-2022...</td>\n",
       "      <td>1</td>\n",
       "      <td>( hnm ) - nghị_quyết số 18 - nq / tư , ngày 16...</td>\n",
       "    </tr>\n",
       "    <tr>\n",
       "      <th>1</th>\n",
       "      <td>453</td>\n",
       "      <td>đno -</td>\n",
       "      <td>ĐNO - Ngày 6-8, tại Đà Nẵng, Thứ tưởng Bộ Tài ...</td>\n",
       "      <td>1</td>\n",
       "      <td>đno - ngày 6-8 , tại đà nẵng , thứ tưởng bộ tà...</td>\n",
       "    </tr>\n",
       "    <tr>\n",
       "      <th>2</th>\n",
       "      <td>698</td>\n",
       "      <td>trong vụ án cựu bí thư tỉnh uỷ bình dương trần...</td>\n",
       "      <td>Đó là ông Lê Văn Trang (SN 1959 tại Bình Dương...</td>\n",
       "      <td>-1</td>\n",
       "      <td>đó là ông lê_văn_trang ( sn 1959 tại bình_dươn...</td>\n",
       "    </tr>\n",
       "    <tr>\n",
       "      <th>3</th>\n",
       "      <td>267</td>\n",
       "      <td>cựu chủ tịch ubnd tỉnh nguyễn chiến thắng cùng...</td>\n",
       "      <td>Ngày 6/7, hành vi của ông Thắng cùng ông Đào C...</td>\n",
       "      <td>-1</td>\n",
       "      <td>ngày 6/7 , hành_vi của ông thắng cùng ông đào ...</td>\n",
       "    </tr>\n",
       "    <tr>\n",
       "      <th>4</th>\n",
       "      <td>366</td>\n",
       "      <td>tto - hài hòa lợi ích các bên khi thu hồi đất,...</td>\n",
       "      <td>Hàng loạt chung cư được xây dựng ở TP Thủ Đức ...</td>\n",
       "      <td>1</td>\n",
       "      <td>hàng_loạt chung_cư được xây_dựng ở tp thủ_đức ...</td>\n",
       "    </tr>\n",
       "  </tbody>\n",
       "</table>\n",
       "</div>"
      ],
      "text/plain": [
       "   Unnamed: 0                                            summary  \\\n",
       "0         421  (hnm) - nghị quyết số 18-nq/tư, ngày 16-6-2022...   \n",
       "1         453                                              đno -   \n",
       "2         698  trong vụ án cựu bí thư tỉnh uỷ bình dương trần...   \n",
       "3         267  cựu chủ tịch ubnd tỉnh nguyễn chiến thắng cùng...   \n",
       "4         366  tto - hài hòa lợi ích các bên khi thu hồi đất,...   \n",
       "\n",
       "                                             content  label  \\\n",
       "0  (HNM) - Nghị quyết số 18-NQ/TƯ, ngày 16-6-2022...      1   \n",
       "1  ĐNO - Ngày 6-8, tại Đà Nẵng, Thứ tưởng Bộ Tài ...      1   \n",
       "2  Đó là ông Lê Văn Trang (SN 1959 tại Bình Dương...     -1   \n",
       "3  Ngày 6/7, hành vi của ông Thắng cùng ông Đào C...     -1   \n",
       "4  Hàng loạt chung cư được xây dựng ở TP Thủ Đức ...      1   \n",
       "\n",
       "                                                text  \n",
       "0  ( hnm ) - nghị_quyết số 18 - nq / tư , ngày 16...  \n",
       "1  đno - ngày 6-8 , tại đà nẵng , thứ tưởng bộ tà...  \n",
       "2  đó là ông lê_văn_trang ( sn 1959 tại bình_dươn...  \n",
       "3  ngày 6/7 , hành_vi của ông thắng cùng ông đào ...  \n",
       "4  hàng_loạt chung_cư được xây_dựng ở tp thủ_đức ...  "
      ]
     },
     "execution_count": 252,
     "metadata": {},
     "output_type": "execute_result"
    }
   ],
   "source": [
    "df.head()"
   ]
  },
  {
   "cell_type": "code",
   "execution_count": 253,
   "metadata": {},
   "outputs": [],
   "source": [
    "# print(list_text[0])\n",
    "# print()\n",
    "# print(list_text[1])"
   ]
  },
  {
   "cell_type": "code",
   "execution_count": 254,
   "metadata": {},
   "outputs": [
    {
     "data": {
      "text/plain": [
       "'COC COC TOKENIZER'"
      ]
     },
     "execution_count": 254,
     "metadata": {},
     "output_type": "execute_result"
    }
   ],
   "source": [
    "'''COC COC TOKENIZER'''\n",
    "\n",
    "# T = PyTokenizer(load_nontone_data=True)\n",
    "# list_text = df['text'].to_list()\n",
    "\n",
    "# for i in range(len(list_text)):\n",
    "#     list_text[i] = \" \".join(T.word_tokenize(list_text[i],tokenize_option=0))\n",
    "\n",
    "# df['text'] =  list_text"
   ]
  },
  {
   "cell_type": "code",
   "execution_count": 255,
   "metadata": {},
   "outputs": [],
   "source": [
    "# print(list_text[0])\n",
    "# print()\n",
    "# print(list_text[1])"
   ]
  },
  {
   "cell_type": "code",
   "execution_count": 256,
   "metadata": {},
   "outputs": [
    {
     "data": {
      "text/html": [
       "<div>\n",
       "<style scoped>\n",
       "    .dataframe tbody tr th:only-of-type {\n",
       "        vertical-align: middle;\n",
       "    }\n",
       "\n",
       "    .dataframe tbody tr th {\n",
       "        vertical-align: top;\n",
       "    }\n",
       "\n",
       "    .dataframe thead th {\n",
       "        text-align: right;\n",
       "    }\n",
       "</style>\n",
       "<table border=\"1\" class=\"dataframe\">\n",
       "  <thead>\n",
       "    <tr style=\"text-align: right;\">\n",
       "      <th></th>\n",
       "      <th>text</th>\n",
       "      <th>label</th>\n",
       "    </tr>\n",
       "  </thead>\n",
       "  <tbody>\n",
       "    <tr>\n",
       "      <th>0</th>\n",
       "      <td>( hnm ) - nghị_quyết số 18 - nq / tư , ngày 16...</td>\n",
       "      <td>1</td>\n",
       "    </tr>\n",
       "    <tr>\n",
       "      <th>1</th>\n",
       "      <td>đno - ngày 6-8 , tại đà nẵng , thứ tưởng bộ tà...</td>\n",
       "      <td>1</td>\n",
       "    </tr>\n",
       "    <tr>\n",
       "      <th>2</th>\n",
       "      <td>đó là ông lê_văn_trang ( sn 1959 tại bình_dươn...</td>\n",
       "      <td>-1</td>\n",
       "    </tr>\n",
       "    <tr>\n",
       "      <th>3</th>\n",
       "      <td>ngày 6/7 , hành_vi của ông thắng cùng ông đào ...</td>\n",
       "      <td>-1</td>\n",
       "    </tr>\n",
       "    <tr>\n",
       "      <th>4</th>\n",
       "      <td>hàng_loạt chung_cư được xây_dựng ở tp thủ_đức ...</td>\n",
       "      <td>1</td>\n",
       "    </tr>\n",
       "  </tbody>\n",
       "</table>\n",
       "</div>"
      ],
      "text/plain": [
       "                                                text  label\n",
       "0  ( hnm ) - nghị_quyết số 18 - nq / tư , ngày 16...      1\n",
       "1  đno - ngày 6-8 , tại đà nẵng , thứ tưởng bộ tà...      1\n",
       "2  đó là ông lê_văn_trang ( sn 1959 tại bình_dươn...     -1\n",
       "3  ngày 6/7 , hành_vi của ông thắng cùng ông đào ...     -1\n",
       "4  hàng_loạt chung_cư được xây_dựng ở tp thủ_đức ...      1"
      ]
     },
     "execution_count": 256,
     "metadata": {},
     "output_type": "execute_result"
    }
   ],
   "source": [
    "df = df[['text','label']]\n",
    "df.head()"
   ]
  },
  {
   "cell_type": "markdown",
   "metadata": {},
   "source": [
    "#### removing stopwords\n"
   ]
  },
  {
   "cell_type": "code",
   "execution_count": 257,
   "metadata": {},
   "outputs": [],
   "source": [
    "def get_stopwords_list(stop_file_path):\n",
    "    \"\"\"load stop words \"\"\"\n",
    "    \n",
    "    with open(stop_file_path, 'r', encoding=\"utf-8\") as f:\n",
    "        stopwords = f.readlines()\n",
    "        stop_set = set(m.strip() for m in stopwords)\n",
    "        return list(frozenset(stop_set))"
   ]
  },
  {
   "cell_type": "code",
   "execution_count": 258,
   "metadata": {},
   "outputs": [],
   "source": [
    "stopwords_path = \"Data/Data_ref/vietnamese-stopwords.txt\"\n",
    "stopwords = get_stopwords_list(stopwords_path)"
   ]
  },
  {
   "cell_type": "code",
   "execution_count": 259,
   "metadata": {},
   "outputs": [
    {
     "data": {
      "text/plain": [
       "['mà vẫn',\n",
       " 'mức',\n",
       " 'coi mòi',\n",
       " 'thúng thắng',\n",
       " 'do',\n",
       " 'chuyện',\n",
       " 'xa tắp',\n",
       " 'trừ phi',\n",
       " 'nhất sinh',\n",
       " 'bắt đầu']"
      ]
     },
     "execution_count": 259,
     "metadata": {},
     "output_type": "execute_result"
    }
   ],
   "source": [
    "stopwords[0:10]"
   ]
  },
  {
   "cell_type": "code",
   "execution_count": 260,
   "metadata": {},
   "outputs": [],
   "source": [
    "def remove_stop_words(corpus):\n",
    "    results = []\n",
    "    for text in corpus:\n",
    "        tmp = text.split(' ')\n",
    "        for stop_word in stopwords:\n",
    "            if stop_word in tmp:\n",
    "                tmp.remove(stop_word)\n",
    "        results.append(\" \".join(tmp))\n",
    "        \n",
    "    return results"
   ]
  },
  {
   "cell_type": "code",
   "execution_count": 261,
   "metadata": {},
   "outputs": [],
   "source": [
    "list_text = remove_stop_words(list_text)"
   ]
  },
  {
   "cell_type": "code",
   "execution_count": 262,
   "metadata": {},
   "outputs": [],
   "source": [
    "df['text'] = list_text"
   ]
  },
  {
   "cell_type": "code",
   "execution_count": 263,
   "metadata": {},
   "outputs": [
    {
     "data": {
      "text/html": [
       "<div>\n",
       "<style scoped>\n",
       "    .dataframe tbody tr th:only-of-type {\n",
       "        vertical-align: middle;\n",
       "    }\n",
       "\n",
       "    .dataframe tbody tr th {\n",
       "        vertical-align: top;\n",
       "    }\n",
       "\n",
       "    .dataframe thead th {\n",
       "        text-align: right;\n",
       "    }\n",
       "</style>\n",
       "<table border=\"1\" class=\"dataframe\">\n",
       "  <thead>\n",
       "    <tr style=\"text-align: right;\">\n",
       "      <th></th>\n",
       "      <th>text</th>\n",
       "      <th>label</th>\n",
       "    </tr>\n",
       "  </thead>\n",
       "  <tbody>\n",
       "    <tr>\n",
       "      <th>0</th>\n",
       "      <td>( hnm ) - nghị_quyết 18 - nq / tư , 16-6-2022 ...</td>\n",
       "      <td>1</td>\n",
       "    </tr>\n",
       "    <tr>\n",
       "      <th>1</th>\n",
       "      <td>đno - 6-8 , đà nẵng , tưởng tài_nguyên môi_trư...</td>\n",
       "      <td>1</td>\n",
       "    </tr>\n",
       "    <tr>\n",
       "      <th>2</th>\n",
       "      <td>lê_văn_trang ( sn 1959 bình_dương , cựu cục_tr...</td>\n",
       "      <td>-1</td>\n",
       "    </tr>\n",
       "    <tr>\n",
       "      <th>3</th>\n",
       "      <td>6/7 , hành_vi thắng ông đào công thiên ( cựu p...</td>\n",
       "      <td>-1</td>\n",
       "    </tr>\n",
       "    <tr>\n",
       "      <th>4</th>\n",
       "      <td>hàng_loạt chung_cư xây_dựng tp thủ_đức ( tp.hc...</td>\n",
       "      <td>1</td>\n",
       "    </tr>\n",
       "  </tbody>\n",
       "</table>\n",
       "</div>"
      ],
      "text/plain": [
       "                                                text  label\n",
       "0  ( hnm ) - nghị_quyết 18 - nq / tư , 16-6-2022 ...      1\n",
       "1  đno - 6-8 , đà nẵng , tưởng tài_nguyên môi_trư...      1\n",
       "2  lê_văn_trang ( sn 1959 bình_dương , cựu cục_tr...     -1\n",
       "3  6/7 , hành_vi thắng ông đào công thiên ( cựu p...     -1\n",
       "4  hàng_loạt chung_cư xây_dựng tp thủ_đức ( tp.hc...      1"
      ]
     },
     "execution_count": 263,
     "metadata": {},
     "output_type": "execute_result"
    }
   ],
   "source": [
    "df.head()"
   ]
  },
  {
   "cell_type": "code",
   "execution_count": 264,
   "metadata": {},
   "outputs": [],
   "source": [
    "# df.to_csv('data_after_preprocessing.csv', encoding='utf-8-sig')"
   ]
  },
  {
   "cell_type": "code",
   "execution_count": 265,
   "metadata": {},
   "outputs": [],
   "source": [
    "# df.to_csv('df_test_after.csv', encoding= 'utf-8-sig')"
   ]
  },
  {
   "cell_type": "code",
   "execution_count": 3,
   "metadata": {},
   "outputs": [],
   "source": [
    "# unlabelled = pd.read_excel('Data/Data_dat_dai/ldd_full.xlsx')\n"
   ]
  },
  {
   "cell_type": "code",
   "execution_count": 5,
   "metadata": {},
   "outputs": [],
   "source": [
    "# unlabelled['summary'] = unlabelled['summary'].str.lower()\n",
    "# # \n",
    "# list_content = unlabelled['content'].to_list()\n",
    "# list_summary = unlabelled['summary'].to_list()\n",
    "# list_text = []\n",
    "# for i in range(len(list_content)):\n",
    "#     list_text.append(str(list_content[i]) + ' ' + str(list_summary[i]))\n",
    "    \n",
    "# unlabelled['text'] = list_text\n",
    "# # df['text'] = df['text'].str.lower()\n",
    "# # df['sourceName'] = df['sourceName'].str.lower()"
   ]
  },
  {
   "cell_type": "code",
   "execution_count": 6,
   "metadata": {},
   "outputs": [
    {
     "data": {
      "text/html": [
       "<div>\n",
       "<style scoped>\n",
       "    .dataframe tbody tr th:only-of-type {\n",
       "        vertical-align: middle;\n",
       "    }\n",
       "\n",
       "    .dataframe tbody tr th {\n",
       "        vertical-align: top;\n",
       "    }\n",
       "\n",
       "    .dataframe thead th {\n",
       "        text-align: right;\n",
       "    }\n",
       "</style>\n",
       "<table border=\"1\" class=\"dataframe\">\n",
       "  <thead>\n",
       "    <tr style=\"text-align: right;\">\n",
       "      <th></th>\n",
       "      <th>Unnamed: 0</th>\n",
       "      <th>summary</th>\n",
       "      <th>content</th>\n",
       "      <th>label</th>\n",
       "      <th>text</th>\n",
       "    </tr>\n",
       "  </thead>\n",
       "  <tbody>\n",
       "    <tr>\n",
       "      <th>0</th>\n",
       "      <td>0</td>\n",
       "      <td>(đttco) - thời gian qua đttc đã có rất nhiều b...</td>\n",
       "      <td>Tuần qua, Báo SGGP tổ chức tọa đàm “Góp ý Dự t...</td>\n",
       "      <td>-1.0</td>\n",
       "      <td>Tuần qua, Báo SGGP tổ chức tọa đàm “Góp ý Dự t...</td>\n",
       "    </tr>\n",
       "    <tr>\n",
       "      <th>1</th>\n",
       "      <td>1</td>\n",
       "      <td>bỏ khung giá đất</td>\n",
       "      <td>Nghị quyết 18-NQ/TW yêu cầu quy định mức thuế ...</td>\n",
       "      <td>1.0</td>\n",
       "      <td>Nghị quyết 18-NQ/TW yêu cầu quy định mức thuế ...</td>\n",
       "    </tr>\n",
       "    <tr>\n",
       "      <th>2</th>\n",
       "      <td>2</td>\n",
       "      <td>NaN</td>\n",
       "      <td>Người có nhiều nhà, đất sẽ bị đánh thuế cao hơ...</td>\n",
       "      <td>1.0</td>\n",
       "      <td>Người có nhiều nhà, đất sẽ bị đánh thuế cao hơ...</td>\n",
       "    </tr>\n",
       "    <tr>\n",
       "      <th>3</th>\n",
       "      <td>8</td>\n",
       "      <td>nghị quyết 18-nq/tw yêu cầu quy định mức thuế ...</td>\n",
       "      <td>Bỏ quy định về khung giá đất, người sở hữu nhi...</td>\n",
       "      <td>1.0</td>\n",
       "      <td>Bỏ quy định về khung giá đất, người sở hữu nhi...</td>\n",
       "    </tr>\n",
       "    <tr>\n",
       "      <th>4</th>\n",
       "      <td>9</td>\n",
       "      <td>mới đây, ban chấp hành trung ương đảng đã ban ...</td>\n",
       "      <td>Nghị quyết số 18-NQ/TW được xây dựng trên cơ s...</td>\n",
       "      <td>1.0</td>\n",
       "      <td>Nghị quyết số 18-NQ/TW được xây dựng trên cơ s...</td>\n",
       "    </tr>\n",
       "    <tr>\n",
       "      <th>...</th>\n",
       "      <td>...</td>\n",
       "      <td>...</td>\n",
       "      <td>...</td>\n",
       "      <td>...</td>\n",
       "      <td>...</td>\n",
       "    </tr>\n",
       "    <tr>\n",
       "      <th>8669</th>\n",
       "      <td>9972</td>\n",
       "      <td>NaN</td>\n",
       "      <td>Hôm nay, ngày 01/8/2022, ngành Tuyên giáo của ...</td>\n",
       "      <td>NaN</td>\n",
       "      <td>Hôm nay, ngày 01/8/2022, ngành Tuyên giáo của ...</td>\n",
       "    </tr>\n",
       "    <tr>\n",
       "      <th>8670</th>\n",
       "      <td>9973</td>\n",
       "      <td>phó thủ tướng lê minh khái vừa ký ban hành ngh...</td>\n",
       "      <td>Chính phủ ban hành Nghị quyết thúc đẩy giải ng...</td>\n",
       "      <td>NaN</td>\n",
       "      <td>Chính phủ ban hành Nghị quyết thúc đẩy giải ng...</td>\n",
       "    </tr>\n",
       "    <tr>\n",
       "      <th>8671</th>\n",
       "      <td>9974</td>\n",
       "      <td>17 bộ, địa phương xin trả lại hơn 6.800 tỉ vốn...</td>\n",
       "      <td>TIN MỚI Bộ Công Thương là một trong 14 bộ, địa...</td>\n",
       "      <td>NaN</td>\n",
       "      <td>TIN MỚI Bộ Công Thương là một trong 14 bộ, địa...</td>\n",
       "    </tr>\n",
       "    <tr>\n",
       "      <th>8672</th>\n",
       "      <td>9975</td>\n",
       "      <td>hnp - chiều 30/9, tại hội nghị cam kết tiến độ...</td>\n",
       "      <td>Thành lập Ban Chỉ đạo triển khai Dự án đầu tư ...</td>\n",
       "      <td>NaN</td>\n",
       "      <td>Thành lập Ban Chỉ đạo triển khai Dự án đầu tư ...</td>\n",
       "    </tr>\n",
       "    <tr>\n",
       "      <th>8673</th>\n",
       "      <td>9991</td>\n",
       "      <td>(vnf) - những năm qua, hải phòng triển khai th...</td>\n",
       "      <td>Theo Sở Kế hoạch và Đầu tư Hải Phòng, trong gi...</td>\n",
       "      <td>NaN</td>\n",
       "      <td>Theo Sở Kế hoạch và Đầu tư Hải Phòng, trong gi...</td>\n",
       "    </tr>\n",
       "  </tbody>\n",
       "</table>\n",
       "<p>8674 rows × 5 columns</p>\n",
       "</div>"
      ],
      "text/plain": [
       "      Unnamed: 0                                            summary  \\\n",
       "0              0  (đttco) - thời gian qua đttc đã có rất nhiều b...   \n",
       "1              1                                   bỏ khung giá đất   \n",
       "2              2                                                NaN   \n",
       "3              8  nghị quyết 18-nq/tw yêu cầu quy định mức thuế ...   \n",
       "4              9  mới đây, ban chấp hành trung ương đảng đã ban ...   \n",
       "...          ...                                                ...   \n",
       "8669        9972                                                NaN   \n",
       "8670        9973  phó thủ tướng lê minh khái vừa ký ban hành ngh...   \n",
       "8671        9974  17 bộ, địa phương xin trả lại hơn 6.800 tỉ vốn...   \n",
       "8672        9975  hnp - chiều 30/9, tại hội nghị cam kết tiến độ...   \n",
       "8673        9991  (vnf) - những năm qua, hải phòng triển khai th...   \n",
       "\n",
       "                                                content  label  \\\n",
       "0     Tuần qua, Báo SGGP tổ chức tọa đàm “Góp ý Dự t...   -1.0   \n",
       "1     Nghị quyết 18-NQ/TW yêu cầu quy định mức thuế ...    1.0   \n",
       "2     Người có nhiều nhà, đất sẽ bị đánh thuế cao hơ...    1.0   \n",
       "3     Bỏ quy định về khung giá đất, người sở hữu nhi...    1.0   \n",
       "4     Nghị quyết số 18-NQ/TW được xây dựng trên cơ s...    1.0   \n",
       "...                                                 ...    ...   \n",
       "8669  Hôm nay, ngày 01/8/2022, ngành Tuyên giáo của ...    NaN   \n",
       "8670  Chính phủ ban hành Nghị quyết thúc đẩy giải ng...    NaN   \n",
       "8671  TIN MỚI Bộ Công Thương là một trong 14 bộ, địa...    NaN   \n",
       "8672  Thành lập Ban Chỉ đạo triển khai Dự án đầu tư ...    NaN   \n",
       "8673  Theo Sở Kế hoạch và Đầu tư Hải Phòng, trong gi...    NaN   \n",
       "\n",
       "                                                   text  \n",
       "0     Tuần qua, Báo SGGP tổ chức tọa đàm “Góp ý Dự t...  \n",
       "1     Nghị quyết 18-NQ/TW yêu cầu quy định mức thuế ...  \n",
       "2     Người có nhiều nhà, đất sẽ bị đánh thuế cao hơ...  \n",
       "3     Bỏ quy định về khung giá đất, người sở hữu nhi...  \n",
       "4     Nghị quyết số 18-NQ/TW được xây dựng trên cơ s...  \n",
       "...                                                 ...  \n",
       "8669  Hôm nay, ngày 01/8/2022, ngành Tuyên giáo của ...  \n",
       "8670  Chính phủ ban hành Nghị quyết thúc đẩy giải ng...  \n",
       "8671  TIN MỚI Bộ Công Thương là một trong 14 bộ, địa...  \n",
       "8672  Thành lập Ban Chỉ đạo triển khai Dự án đầu tư ...  \n",
       "8673  Theo Sở Kế hoạch và Đầu tư Hải Phòng, trong gi...  \n",
       "\n",
       "[8674 rows x 5 columns]"
      ]
     },
     "execution_count": 6,
     "metadata": {},
     "output_type": "execute_result"
    }
   ],
   "source": [
    "# unlabelled"
   ]
  },
  {
   "cell_type": "code",
   "execution_count": 7,
   "metadata": {},
   "outputs": [],
   "source": [
    "# unlabelled = unlabelled[['text','label']]"
   ]
  },
  {
   "cell_type": "code",
   "execution_count": 9,
   "metadata": {},
   "outputs": [
    {
     "data": {
      "text/html": [
       "<div>\n",
       "<style scoped>\n",
       "    .dataframe tbody tr th:only-of-type {\n",
       "        vertical-align: middle;\n",
       "    }\n",
       "\n",
       "    .dataframe tbody tr th {\n",
       "        vertical-align: top;\n",
       "    }\n",
       "\n",
       "    .dataframe thead th {\n",
       "        text-align: right;\n",
       "    }\n",
       "</style>\n",
       "<table border=\"1\" class=\"dataframe\">\n",
       "  <thead>\n",
       "    <tr style=\"text-align: right;\">\n",
       "      <th></th>\n",
       "      <th>text</th>\n",
       "      <th>label</th>\n",
       "    </tr>\n",
       "  </thead>\n",
       "  <tbody>\n",
       "    <tr>\n",
       "      <th>0</th>\n",
       "      <td>Tuần qua, Báo SGGP tổ chức tọa đàm “Góp ý Dự t...</td>\n",
       "      <td>-1.0</td>\n",
       "    </tr>\n",
       "    <tr>\n",
       "      <th>1</th>\n",
       "      <td>Nghị quyết 18-NQ/TW yêu cầu quy định mức thuế ...</td>\n",
       "      <td>1.0</td>\n",
       "    </tr>\n",
       "    <tr>\n",
       "      <th>2</th>\n",
       "      <td>Người có nhiều nhà, đất sẽ bị đánh thuế cao hơ...</td>\n",
       "      <td>1.0</td>\n",
       "    </tr>\n",
       "    <tr>\n",
       "      <th>3</th>\n",
       "      <td>Bỏ quy định về khung giá đất, người sở hữu nhi...</td>\n",
       "      <td>1.0</td>\n",
       "    </tr>\n",
       "    <tr>\n",
       "      <th>4</th>\n",
       "      <td>Nghị quyết số 18-NQ/TW được xây dựng trên cơ s...</td>\n",
       "      <td>1.0</td>\n",
       "    </tr>\n",
       "    <tr>\n",
       "      <th>...</th>\n",
       "      <td>...</td>\n",
       "      <td>...</td>\n",
       "    </tr>\n",
       "    <tr>\n",
       "      <th>8669</th>\n",
       "      <td>Hôm nay, ngày 01/8/2022, ngành Tuyên giáo của ...</td>\n",
       "      <td>NaN</td>\n",
       "    </tr>\n",
       "    <tr>\n",
       "      <th>8670</th>\n",
       "      <td>Chính phủ ban hành Nghị quyết thúc đẩy giải ng...</td>\n",
       "      <td>NaN</td>\n",
       "    </tr>\n",
       "    <tr>\n",
       "      <th>8671</th>\n",
       "      <td>TIN MỚI Bộ Công Thương là một trong 14 bộ, địa...</td>\n",
       "      <td>NaN</td>\n",
       "    </tr>\n",
       "    <tr>\n",
       "      <th>8672</th>\n",
       "      <td>Thành lập Ban Chỉ đạo triển khai Dự án đầu tư ...</td>\n",
       "      <td>NaN</td>\n",
       "    </tr>\n",
       "    <tr>\n",
       "      <th>8673</th>\n",
       "      <td>Theo Sở Kế hoạch và Đầu tư Hải Phòng, trong gi...</td>\n",
       "      <td>NaN</td>\n",
       "    </tr>\n",
       "  </tbody>\n",
       "</table>\n",
       "<p>8674 rows × 2 columns</p>\n",
       "</div>"
      ],
      "text/plain": [
       "                                                   text  label\n",
       "0     Tuần qua, Báo SGGP tổ chức tọa đàm “Góp ý Dự t...   -1.0\n",
       "1     Nghị quyết 18-NQ/TW yêu cầu quy định mức thuế ...    1.0\n",
       "2     Người có nhiều nhà, đất sẽ bị đánh thuế cao hơ...    1.0\n",
       "3     Bỏ quy định về khung giá đất, người sở hữu nhi...    1.0\n",
       "4     Nghị quyết số 18-NQ/TW được xây dựng trên cơ s...    1.0\n",
       "...                                                 ...    ...\n",
       "8669  Hôm nay, ngày 01/8/2022, ngành Tuyên giáo của ...    NaN\n",
       "8670  Chính phủ ban hành Nghị quyết thúc đẩy giải ng...    NaN\n",
       "8671  TIN MỚI Bộ Công Thương là một trong 14 bộ, địa...    NaN\n",
       "8672  Thành lập Ban Chỉ đạo triển khai Dự án đầu tư ...    NaN\n",
       "8673  Theo Sở Kế hoạch và Đầu tư Hải Phòng, trong gi...    NaN\n",
       "\n",
       "[8674 rows x 2 columns]"
      ]
     },
     "execution_count": 9,
     "metadata": {},
     "output_type": "execute_result"
    }
   ],
   "source": [
    "# unlabelled"
   ]
  },
  {
   "cell_type": "code",
   "execution_count": 8,
   "metadata": {},
   "outputs": [
    {
     "data": {
      "text/plain": [
       " 1.0    450\n",
       "-1.0    305\n",
       "Name: label, dtype: int64"
      ]
     },
     "execution_count": 8,
     "metadata": {},
     "output_type": "execute_result"
    }
   ],
   "source": [
    "# unlabelled['label'].value_counts()"
   ]
  },
  {
   "cell_type": "code",
   "execution_count": 13,
   "metadata": {},
   "outputs": [],
   "source": [
    "# unlabelled = unlabelled[unlabelled['label'].isna()]"
   ]
  },
  {
   "cell_type": "code",
   "execution_count": 14,
   "metadata": {},
   "outputs": [
    {
     "data": {
      "text/html": [
       "<div>\n",
       "<style scoped>\n",
       "    .dataframe tbody tr th:only-of-type {\n",
       "        vertical-align: middle;\n",
       "    }\n",
       "\n",
       "    .dataframe tbody tr th {\n",
       "        vertical-align: top;\n",
       "    }\n",
       "\n",
       "    .dataframe thead th {\n",
       "        text-align: right;\n",
       "    }\n",
       "</style>\n",
       "<table border=\"1\" class=\"dataframe\">\n",
       "  <thead>\n",
       "    <tr style=\"text-align: right;\">\n",
       "      <th></th>\n",
       "      <th>text</th>\n",
       "      <th>label</th>\n",
       "    </tr>\n",
       "  </thead>\n",
       "  <tbody>\n",
       "    <tr>\n",
       "      <th>104</th>\n",
       "      <td>Sang tên sổ đỏ hết bao nhiêu tiền? Đất đai là ...</td>\n",
       "      <td>NaN</td>\n",
       "    </tr>\n",
       "    <tr>\n",
       "      <th>272</th>\n",
       "      <td>nan nan</td>\n",
       "      <td>NaN</td>\n",
       "    </tr>\n",
       "    <tr>\n",
       "      <th>604</th>\n",
       "      <td>Tin từ VKSND tỉnh Quảng Trị cho biết, để tăng ...</td>\n",
       "      <td>NaN</td>\n",
       "    </tr>\n",
       "    <tr>\n",
       "      <th>605</th>\n",
       "      <td>DNHN - Bộ Kế hoạch và Đầu tư đang lấy ý kiến g...</td>\n",
       "      <td>NaN</td>\n",
       "    </tr>\n",
       "    <tr>\n",
       "      <th>608</th>\n",
       "      <td>Chủ tịch Quốc hội: “Hà Nội cần rà soát, tránh ...</td>\n",
       "      <td>NaN</td>\n",
       "    </tr>\n",
       "    <tr>\n",
       "      <th>...</th>\n",
       "      <td>...</td>\n",
       "      <td>...</td>\n",
       "    </tr>\n",
       "    <tr>\n",
       "      <th>8669</th>\n",
       "      <td>Hôm nay, ngày 01/8/2022, ngành Tuyên giáo của ...</td>\n",
       "      <td>NaN</td>\n",
       "    </tr>\n",
       "    <tr>\n",
       "      <th>8670</th>\n",
       "      <td>Chính phủ ban hành Nghị quyết thúc đẩy giải ng...</td>\n",
       "      <td>NaN</td>\n",
       "    </tr>\n",
       "    <tr>\n",
       "      <th>8671</th>\n",
       "      <td>TIN MỚI Bộ Công Thương là một trong 14 bộ, địa...</td>\n",
       "      <td>NaN</td>\n",
       "    </tr>\n",
       "    <tr>\n",
       "      <th>8672</th>\n",
       "      <td>Thành lập Ban Chỉ đạo triển khai Dự án đầu tư ...</td>\n",
       "      <td>NaN</td>\n",
       "    </tr>\n",
       "    <tr>\n",
       "      <th>8673</th>\n",
       "      <td>Theo Sở Kế hoạch và Đầu tư Hải Phòng, trong gi...</td>\n",
       "      <td>NaN</td>\n",
       "    </tr>\n",
       "  </tbody>\n",
       "</table>\n",
       "<p>7919 rows × 2 columns</p>\n",
       "</div>"
      ],
      "text/plain": [
       "                                                   text  label\n",
       "104   Sang tên sổ đỏ hết bao nhiêu tiền? Đất đai là ...    NaN\n",
       "272                                             nan nan    NaN\n",
       "604   Tin từ VKSND tỉnh Quảng Trị cho biết, để tăng ...    NaN\n",
       "605   DNHN - Bộ Kế hoạch và Đầu tư đang lấy ý kiến g...    NaN\n",
       "608   Chủ tịch Quốc hội: “Hà Nội cần rà soát, tránh ...    NaN\n",
       "...                                                 ...    ...\n",
       "8669  Hôm nay, ngày 01/8/2022, ngành Tuyên giáo của ...    NaN\n",
       "8670  Chính phủ ban hành Nghị quyết thúc đẩy giải ng...    NaN\n",
       "8671  TIN MỚI Bộ Công Thương là một trong 14 bộ, địa...    NaN\n",
       "8672  Thành lập Ban Chỉ đạo triển khai Dự án đầu tư ...    NaN\n",
       "8673  Theo Sở Kế hoạch và Đầu tư Hải Phòng, trong gi...    NaN\n",
       "\n",
       "[7919 rows x 2 columns]"
      ]
     },
     "execution_count": 14,
     "metadata": {},
     "output_type": "execute_result"
    }
   ],
   "source": [
    "# unlabelled"
   ]
  },
  {
   "cell_type": "code",
   "execution_count": 15,
   "metadata": {},
   "outputs": [],
   "source": [
    "# unlabelled = unlabelled['text']"
   ]
  },
  {
   "cell_type": "code",
   "execution_count": 16,
   "metadata": {},
   "outputs": [],
   "source": [
    "# unlabelled.to_csv(\"unlabelled.csv\", encoding = \"utf-8-sig\")"
   ]
  },
  {
   "cell_type": "code",
   "execution_count": null,
   "metadata": {},
   "outputs": [],
   "source": []
  }
 ],
 "metadata": {
  "kernelspec": {
   "display_name": "Python 3.10.4 64-bit",
   "language": "python",
   "name": "python3"
  },
  "language_info": {
   "codemirror_mode": {
    "name": "ipython",
    "version": 3
   },
   "file_extension": ".py",
   "mimetype": "text/x-python",
   "name": "python",
   "nbconvert_exporter": "python",
   "pygments_lexer": "ipython3",
   "version": "3.10.4"
  },
  "orig_nbformat": 4,
  "vscode": {
   "interpreter": {
    "hash": "369f2c481f4da34e4445cda3fffd2e751bd1c4d706f27375911949ba6bb62e1c"
   }
  }
 },
 "nbformat": 4,
 "nbformat_minor": 2
}
