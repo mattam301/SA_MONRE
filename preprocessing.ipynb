{
 "cells": [
  {
   "cell_type": "code",
   "execution_count": 1,
   "metadata": {},
   "outputs": [
    {
     "name": "stderr",
     "output_type": "stream",
     "text": [
      "c:\\Python310\\lib\\site-packages\\tqdm\\auto.py:22: TqdmWarning: IProgress not found. Please update jupyter and ipywidgets. See https://ipywidgets.readthedocs.io/en/stable/user_install.html\n",
      "  from .autonotebook import tqdm as notebook_tqdm\n"
     ]
    }
   ],
   "source": [
    "import pandas as pd\n",
    "import numpy as np\n",
    "from nltk.tokenize import word_tokenize\n",
    "from nltk.corpus import stopwords\n",
    "from nltk.corpus import wordnet as wn\n",
    "from sklearn.metrics import accuracy_score\n",
    "from sklearn.model_selection import train_test_split\n",
    "from sklearn.metrics import classification_report\n",
    "from underthesea import word_tokenize\n",
    "# from CocCocTokenizer import PyTokenizer"
   ]
  },
  {
   "cell_type": "code",
   "execution_count": 2,
   "metadata": {},
   "outputs": [
    {
     "data": {
      "text/html": [
       "<div>\n",
       "<style scoped>\n",
       "    .dataframe tbody tr th:only-of-type {\n",
       "        vertical-align: middle;\n",
       "    }\n",
       "\n",
       "    .dataframe tbody tr th {\n",
       "        vertical-align: top;\n",
       "    }\n",
       "\n",
       "    .dataframe thead th {\n",
       "        text-align: right;\n",
       "    }\n",
       "</style>\n",
       "<table border=\"1\" class=\"dataframe\">\n",
       "  <thead>\n",
       "    <tr style=\"text-align: right;\">\n",
       "      <th></th>\n",
       "      <th>summary</th>\n",
       "      <th>content</th>\n",
       "      <th>label</th>\n",
       "    </tr>\n",
       "  </thead>\n",
       "  <tbody>\n",
       "    <tr>\n",
       "      <th>0</th>\n",
       "      <td>(ĐTTCO) - Thời gian qua ĐTTC đã có rất nhiều b...</td>\n",
       "      <td>Tuần qua, Báo SGGP tổ chức tọa đàm “Góp ý Dự t...</td>\n",
       "      <td>-1</td>\n",
       "    </tr>\n",
       "    <tr>\n",
       "      <th>1</th>\n",
       "      <td>Bỏ khung giá đất</td>\n",
       "      <td>Nghị quyết 18-NQ/TW yêu cầu quy định mức thuế ...</td>\n",
       "      <td>1</td>\n",
       "    </tr>\n",
       "    <tr>\n",
       "      <th>2</th>\n",
       "      <td>NaN</td>\n",
       "      <td>Người có nhiều nhà, đất sẽ bị đánh thuế cao hơ...</td>\n",
       "      <td>1</td>\n",
       "    </tr>\n",
       "    <tr>\n",
       "      <th>3</th>\n",
       "      <td>Nghị quyết 18-NQ/TW yêu cầu quy định mức thuế ...</td>\n",
       "      <td>Bỏ quy định về khung giá đất, người sở hữu nhi...</td>\n",
       "      <td>1</td>\n",
       "    </tr>\n",
       "    <tr>\n",
       "      <th>4</th>\n",
       "      <td>Mới đây, Ban Chấp hành Trung ương Đảng đã ban ...</td>\n",
       "      <td>Nghị quyết số 18-NQ/TW được xây dựng trên cơ s...</td>\n",
       "      <td>1</td>\n",
       "    </tr>\n",
       "  </tbody>\n",
       "</table>\n",
       "</div>"
      ],
      "text/plain": [
       "                                             summary  \\\n",
       "0  (ĐTTCO) - Thời gian qua ĐTTC đã có rất nhiều b...   \n",
       "1                                   Bỏ khung giá đất   \n",
       "2                                                NaN   \n",
       "3  Nghị quyết 18-NQ/TW yêu cầu quy định mức thuế ...   \n",
       "4  Mới đây, Ban Chấp hành Trung ương Đảng đã ban ...   \n",
       "\n",
       "                                             content  label  \n",
       "0  Tuần qua, Báo SGGP tổ chức tọa đàm “Góp ý Dự t...     -1  \n",
       "1  Nghị quyết 18-NQ/TW yêu cầu quy định mức thuế ...      1  \n",
       "2  Người có nhiều nhà, đất sẽ bị đánh thuế cao hơ...      1  \n",
       "3  Bỏ quy định về khung giá đất, người sở hữu nhi...      1  \n",
       "4  Nghị quyết số 18-NQ/TW được xây dựng trên cơ s...      1  "
      ]
     },
     "execution_count": 2,
     "metadata": {},
     "output_type": "execute_result"
    }
   ],
   "source": [
    "df = pd.read_excel('luat_dat_dai.xlsx')  \n",
    "df.head()"
   ]
  },
  {
   "cell_type": "markdown",
   "metadata": {},
   "source": [
    "#### LOWERCASE"
   ]
  },
  {
   "cell_type": "code",
   "execution_count": 3,
   "metadata": {},
   "outputs": [],
   "source": [
    "df = df[df['label'] != 0]"
   ]
  },
  {
   "cell_type": "code",
   "execution_count": 4,
   "metadata": {},
   "outputs": [],
   "source": [
    "df['summary'] = df['summary'].str.lower()"
   ]
  },
  {
   "cell_type": "code",
   "execution_count": 5,
   "metadata": {},
   "outputs": [],
   "source": [
    "list_title = df['content'].to_list()\n",
    "list_summary = df['summary'].to_list()\n",
    "list_text = []\n",
    "for i in range(len(list_title)):\n",
    "    list_text.append(list_title[i] + ' ' + str(list_summary[i]))\n",
    "    \n",
    "df['text'] = list_text\n",
    "df['text'] = df['text'].str.lower()\n",
    "# df['sourceName'] = df['sourceName'].str.lower()"
   ]
  },
  {
   "cell_type": "markdown",
   "metadata": {},
   "source": [
    "#### remove duplicated data"
   ]
  },
  {
   "cell_type": "code",
   "execution_count": 6,
   "metadata": {},
   "outputs": [],
   "source": [
    "# df['summary'] = df['summary'].str.strip()\n",
    "# list_i = ['\\\"', '\\'','\\t','\\n']\n",
    "# for i in list_i:\n",
    "#     df['summary'] = df['summary'].apply(lambda x: x.replace(i,\"\"))\n",
    "# df['summary'].value_counts()"
   ]
  },
  {
   "cell_type": "code",
   "execution_count": 7,
   "metadata": {},
   "outputs": [],
   "source": [
    "# df = df.drop_duplicates(subset = ['title'])"
   ]
  },
  {
   "cell_type": "markdown",
   "metadata": {},
   "source": [
    "#### word segmentation"
   ]
  },
  {
   "cell_type": "code",
   "execution_count": 8,
   "metadata": {},
   "outputs": [],
   "source": [
    "'''UNDER THE SEA'''\n",
    "\n",
    "list_text = df['text'].to_list()\n",
    "#print(list_text[0])\n",
    "for i in range(len(list_text)):\n",
    "    list_text[i] = word_tokenize(list_text[i], format='text')\n",
    "\n",
    "df['text'] =  list_text"
   ]
  },
  {
   "cell_type": "code",
   "execution_count": 9,
   "metadata": {},
   "outputs": [
    {
     "data": {
      "text/html": [
       "<div>\n",
       "<style scoped>\n",
       "    .dataframe tbody tr th:only-of-type {\n",
       "        vertical-align: middle;\n",
       "    }\n",
       "\n",
       "    .dataframe tbody tr th {\n",
       "        vertical-align: top;\n",
       "    }\n",
       "\n",
       "    .dataframe thead th {\n",
       "        text-align: right;\n",
       "    }\n",
       "</style>\n",
       "<table border=\"1\" class=\"dataframe\">\n",
       "  <thead>\n",
       "    <tr style=\"text-align: right;\">\n",
       "      <th></th>\n",
       "      <th>summary</th>\n",
       "      <th>content</th>\n",
       "      <th>label</th>\n",
       "      <th>text</th>\n",
       "    </tr>\n",
       "  </thead>\n",
       "  <tbody>\n",
       "    <tr>\n",
       "      <th>0</th>\n",
       "      <td>(đttco) - thời gian qua đttc đã có rất nhiều b...</td>\n",
       "      <td>Tuần qua, Báo SGGP tổ chức tọa đàm “Góp ý Dự t...</td>\n",
       "      <td>-1</td>\n",
       "      <td>tuần qua , báo sggp tổ_chức tọa_đàm “ góp_ý dự...</td>\n",
       "    </tr>\n",
       "    <tr>\n",
       "      <th>1</th>\n",
       "      <td>bỏ khung giá đất</td>\n",
       "      <td>Nghị quyết 18-NQ/TW yêu cầu quy định mức thuế ...</td>\n",
       "      <td>1</td>\n",
       "      <td>nghị_quyết 18 - nq / tw yêu_cầu quy_định mức t...</td>\n",
       "    </tr>\n",
       "    <tr>\n",
       "      <th>2</th>\n",
       "      <td>NaN</td>\n",
       "      <td>Người có nhiều nhà, đất sẽ bị đánh thuế cao hơ...</td>\n",
       "      <td>1</td>\n",
       "      <td>người có nhiều nhà , đất sẽ bị đánh_thuế cao h...</td>\n",
       "    </tr>\n",
       "    <tr>\n",
       "      <th>3</th>\n",
       "      <td>nghị quyết 18-nq/tw yêu cầu quy định mức thuế ...</td>\n",
       "      <td>Bỏ quy định về khung giá đất, người sở hữu nhi...</td>\n",
       "      <td>1</td>\n",
       "      <td>bỏ quy_định về khung giá đất , người sở_hữu nh...</td>\n",
       "    </tr>\n",
       "    <tr>\n",
       "      <th>4</th>\n",
       "      <td>mới đây, ban chấp hành trung ương đảng đã ban ...</td>\n",
       "      <td>Nghị quyết số 18-NQ/TW được xây dựng trên cơ s...</td>\n",
       "      <td>1</td>\n",
       "      <td>nghị_quyết số 18 - nq / tw được xây_dựng trên ...</td>\n",
       "    </tr>\n",
       "  </tbody>\n",
       "</table>\n",
       "</div>"
      ],
      "text/plain": [
       "                                             summary  \\\n",
       "0  (đttco) - thời gian qua đttc đã có rất nhiều b...   \n",
       "1                                   bỏ khung giá đất   \n",
       "2                                                NaN   \n",
       "3  nghị quyết 18-nq/tw yêu cầu quy định mức thuế ...   \n",
       "4  mới đây, ban chấp hành trung ương đảng đã ban ...   \n",
       "\n",
       "                                             content  label  \\\n",
       "0  Tuần qua, Báo SGGP tổ chức tọa đàm “Góp ý Dự t...     -1   \n",
       "1  Nghị quyết 18-NQ/TW yêu cầu quy định mức thuế ...      1   \n",
       "2  Người có nhiều nhà, đất sẽ bị đánh thuế cao hơ...      1   \n",
       "3  Bỏ quy định về khung giá đất, người sở hữu nhi...      1   \n",
       "4  Nghị quyết số 18-NQ/TW được xây dựng trên cơ s...      1   \n",
       "\n",
       "                                                text  \n",
       "0  tuần qua , báo sggp tổ_chức tọa_đàm “ góp_ý dự...  \n",
       "1  nghị_quyết 18 - nq / tw yêu_cầu quy_định mức t...  \n",
       "2  người có nhiều nhà , đất sẽ bị đánh_thuế cao h...  \n",
       "3  bỏ quy_định về khung giá đất , người sở_hữu nh...  \n",
       "4  nghị_quyết số 18 - nq / tw được xây_dựng trên ...  "
      ]
     },
     "execution_count": 9,
     "metadata": {},
     "output_type": "execute_result"
    }
   ],
   "source": [
    "df.head()"
   ]
  },
  {
   "cell_type": "code",
   "execution_count": 10,
   "metadata": {},
   "outputs": [],
   "source": [
    "# print(list_text[0])\n",
    "# print()\n",
    "# print(list_text[1])"
   ]
  },
  {
   "cell_type": "code",
   "execution_count": 11,
   "metadata": {},
   "outputs": [
    {
     "data": {
      "text/plain": [
       "'COC COC TOKENIZER'"
      ]
     },
     "execution_count": 11,
     "metadata": {},
     "output_type": "execute_result"
    }
   ],
   "source": [
    "'''COC COC TOKENIZER'''\n",
    "\n",
    "# T = PyTokenizer(load_nontone_data=True)\n",
    "# list_text = df['text'].to_list()\n",
    "\n",
    "# for i in range(len(list_text)):\n",
    "#     list_text[i] = \" \".join(T.word_tokenize(list_text[i],tokenize_option=0))\n",
    "\n",
    "# df['text'] =  list_text"
   ]
  },
  {
   "cell_type": "code",
   "execution_count": 12,
   "metadata": {},
   "outputs": [],
   "source": [
    "# print(list_text[0])\n",
    "# print()\n",
    "# print(list_text[1])"
   ]
  },
  {
   "cell_type": "code",
   "execution_count": 13,
   "metadata": {},
   "outputs": [
    {
     "data": {
      "text/html": [
       "<div>\n",
       "<style scoped>\n",
       "    .dataframe tbody tr th:only-of-type {\n",
       "        vertical-align: middle;\n",
       "    }\n",
       "\n",
       "    .dataframe tbody tr th {\n",
       "        vertical-align: top;\n",
       "    }\n",
       "\n",
       "    .dataframe thead th {\n",
       "        text-align: right;\n",
       "    }\n",
       "</style>\n",
       "<table border=\"1\" class=\"dataframe\">\n",
       "  <thead>\n",
       "    <tr style=\"text-align: right;\">\n",
       "      <th></th>\n",
       "      <th>text</th>\n",
       "      <th>label</th>\n",
       "    </tr>\n",
       "  </thead>\n",
       "  <tbody>\n",
       "    <tr>\n",
       "      <th>0</th>\n",
       "      <td>tuần qua , báo sggp tổ_chức tọa_đàm “ góp_ý dự...</td>\n",
       "      <td>-1</td>\n",
       "    </tr>\n",
       "    <tr>\n",
       "      <th>1</th>\n",
       "      <td>nghị_quyết 18 - nq / tw yêu_cầu quy_định mức t...</td>\n",
       "      <td>1</td>\n",
       "    </tr>\n",
       "    <tr>\n",
       "      <th>2</th>\n",
       "      <td>người có nhiều nhà , đất sẽ bị đánh_thuế cao h...</td>\n",
       "      <td>1</td>\n",
       "    </tr>\n",
       "    <tr>\n",
       "      <th>3</th>\n",
       "      <td>bỏ quy_định về khung giá đất , người sở_hữu nh...</td>\n",
       "      <td>1</td>\n",
       "    </tr>\n",
       "    <tr>\n",
       "      <th>4</th>\n",
       "      <td>nghị_quyết số 18 - nq / tw được xây_dựng trên ...</td>\n",
       "      <td>1</td>\n",
       "    </tr>\n",
       "  </tbody>\n",
       "</table>\n",
       "</div>"
      ],
      "text/plain": [
       "                                                text  label\n",
       "0  tuần qua , báo sggp tổ_chức tọa_đàm “ góp_ý dự...     -1\n",
       "1  nghị_quyết 18 - nq / tw yêu_cầu quy_định mức t...      1\n",
       "2  người có nhiều nhà , đất sẽ bị đánh_thuế cao h...      1\n",
       "3  bỏ quy_định về khung giá đất , người sở_hữu nh...      1\n",
       "4  nghị_quyết số 18 - nq / tw được xây_dựng trên ...      1"
      ]
     },
     "execution_count": 13,
     "metadata": {},
     "output_type": "execute_result"
    }
   ],
   "source": [
    "df = df[['text','label']]\n",
    "df.head()"
   ]
  },
  {
   "cell_type": "markdown",
   "metadata": {},
   "source": [
    "#### removing stopwords\n"
   ]
  },
  {
   "cell_type": "code",
   "execution_count": 14,
   "metadata": {},
   "outputs": [],
   "source": [
    "def get_stopwords_list(stop_file_path):\n",
    "    \"\"\"load stop words \"\"\"\n",
    "    \n",
    "    with open(stop_file_path, 'r', encoding=\"utf-8\") as f:\n",
    "        stopwords = f.readlines()\n",
    "        stop_set = set(m.strip() for m in stopwords)\n",
    "        return list(frozenset(stop_set))"
   ]
  },
  {
   "cell_type": "code",
   "execution_count": 15,
   "metadata": {},
   "outputs": [],
   "source": [
    "stopwords_path = \"vietnamese-stopwords.txt\"\n",
    "stopwords = get_stopwords_list(stopwords_path)"
   ]
  },
  {
   "cell_type": "code",
   "execution_count": 16,
   "metadata": {},
   "outputs": [
    {
     "data": {
      "text/plain": [
       "['mà vẫn',\n",
       " 'mức',\n",
       " 'coi mòi',\n",
       " 'thúng thắng',\n",
       " 'do',\n",
       " 'chuyện',\n",
       " 'xa tắp',\n",
       " 'trừ phi',\n",
       " 'nhất sinh',\n",
       " 'bắt đầu']"
      ]
     },
     "execution_count": 16,
     "metadata": {},
     "output_type": "execute_result"
    }
   ],
   "source": [
    "stopwords[0:10]"
   ]
  },
  {
   "cell_type": "code",
   "execution_count": 17,
   "metadata": {},
   "outputs": [
    {
     "data": {
      "text/plain": [
       "['tuần qua , báo sggp tổ_chức tọa_đàm “ góp_ý dự_thảo lđđ ( sửa_đổi ) : gỡ rào_cản , phát_huy nội_lực ” , nhằm tiếp_tục ghi_nhận các ý_kiến từ các nhà quản_lý , chuyên_gia đóng_góp cho dự_thảo luật lần này hoàn_thiện trước khi trình quốc_hội xem_xét thông_qua . đttc trích_đăng ý_kiến của ông nguyễn toàn_thắng , giám_đốc sở tài_nguyên môi_trường tphcm . về giao đất , cho thuê đất trả tiền một lần và trả tiền hàng năm , lđđ cần quy_định cụ_thể , rõ_ràng các nội_dung này khi thực_hiện đấu_thầu dự_án có sử_dụng đất , tránh tình_trạng phải vận_dụng trong quá_trình thực_hiện . cần bổ_sung quy_định đối_với quỹ đất thanh_toán cho nhà_đầu_tư thực_hiện dự_án bt ; đồng_thời áp_dụng cơ_chế nhà_nước thu_hồi đất và thực_hiện việc bồi_thường , giải_phóng mặt_bằng ( gpmb ) để tạo quỹ đất thanh_toán cho nhà_đầu_tư , bằng hình_thức giao đất có thu tiền sử_dụng đất hoặc cho thuê đất trả tiền một lần cho cả thời_gian thuê . bổ_sung khái_niệm về chuyển mục_đích sử_dụng đất ; quy_định chuyển mục_đích sử_dụng đất là một quyền của người sử_dụng đất , nhằm làm rõ các thuật_ngữ giao đất , cho thuê đất và cho_phép chuyển mục_đích sử_dụng đất , trong đó người sử_dụng đất khi chuyển mục_đích sử_dụng đất được sử_dụng đất theo hình_thức giao đất hoặc thuê đất . kiến_nghị bỏ căn_cứ để giao đất , cho thuê đất , cho_phép chuyển mục_đích là kế_hoạch sử_dụng đất hàng năm cấp huyện , chỉ quy_định căn_cứ để giao đất , cho thuê đất , cho_phép chuyển mục_đích là quy_hoạch sử_dụng đất hoặc quy_hoạch chi_tiết xây_dựng đô_thị được phê_duyệt . quy_định cụ_thể đối_với việc sử_dụng đất của các trường_hợp đang sử_dụng đất là tổ_chức mà khu đất không phù_hợp quy_hoạch nhưng chưa có kế_hoạch thu_hồi đất , hoặc tổ_chức chưa di_dời ( dễ dẫn đến lúng_túng trong việc quản_lý đất_đai kéo_theo việc thu tiền thuê đất theo đơn_giá không chính_thức ) . về bồi_thường , hỗ_trợ , tái_định_cư , gpmb , trường_hợp trên 80 % người dân đã chấp_thuận nhận bồi_thường trong các dự_án đã được nhà_nước chấp_thuận chủ_trương , cần có quy_định để chủ đầu_tư tiếp_tục bồi_thường phần đất còn lại để dự_án sớm được triển_khai . tách nội_dung bồi_thường , hỗ_trợ , tái_định_cư thành tiểu dự_án ( hoặc dự_án ) bồi_thường , hỗ_trợ , tái_định_cư để tổ_chức thực_hiện độc_lập . áp_dụng chính_sách hỗ_trợ đối_với các trường_hợp chậm chi_trả tại các dự_án sử_dụng nguồn vốn ngân_sách có phương_án bồi_thường , hỗ_trợ , tái_định_cư được phê_duyệt trước ngày 1-7-2014 , theo hướng không thay_đổi chính_sách và đơn_giá tái_định_cư đã phê_duyệt , thực_hiện hỗ_trợ lãi_suất phần giá_trị bồi_thường , hỗ_trợ chậm chi_trả . về thu_hồi đất theo quy_hoạch , kế_hoạch sử_dụng đất của tp , tạo quỹ đất sạch , đấu_giá quyền sử_dụng đất , dự_thảo lđđ sửa_đổi cần có quy_định cho_phép việc thu_hồi đất theo quy_hoạch , kế_hoạch sử_dụng đất để tạo quỹ đất sạch phục_vụ đấu_giá quyền sử_dụng đất , tạo sự chủ_động trong việc chuẩn_bị mặt_bằng đối_với các dự_án đầu_tư nói_chung và đấu_giá quyền sử_dụng đất nói_riêng . về gpmb và đảm_bảo hài hòa lợi_ích của nhà_nước , nhà_đầu_tư và người sử_dụng đất , phân_cấp cho hđnd tp được quyền quyết_định việc chuyển mục_đích sử_dụng trên 10 ha đất trồng lúa ; rút ngắn thời_gian thông_báo đối_với đất nông_nghiệp từ 3 tháng xuống còn 1 tháng , đất ở từ 6 tháng xuống còn 3 tháng ; phân_cấp việc xác_định giá đất để bồi_thường , hỗ_trợ cho ubnd cấp huyện thực_hiện ; cải_tiến quy_trình , phương_pháp xác_định giá đất theo hướng chỉ quy_định phương_pháp duy_nhất là hệ_số điều_chỉnh giá đất . về xác_định giá đất , hoàn_thiện các phương_pháp xác_định giá đất cụ_thể . theo đó , quy_định rõ_ràng việc xác_định giá đất theo từng phương_pháp , bỏ cơ_chế khung giá đất và trên cơ_sở kết_quả tư_vấn , thẩm_định_giá đất , các địa_phương ban_hành bảng giá đất để sử_dụng vào mục_đích thu thuế , phí . thiết_lập cơ_quan chuyên_trách về giá đất của nhà_nước để giải_quyết các vấn_đề liên_quan đến giá đất , kể_cả việc giải_quyết tranh_chấp về giá đất , ngăn_ngừa nguy_cơ gia_tăng sự bất_bình_đẳng giữa các khu_vực , gây ra xung_đột về giá đất giữa các địa_phương giáp_ranh . bổ_sung trách_nhiệm , cơ_chế của cơ_quan , đơn_vị có chức_năng xác_định giá đất , và cơ_quan , đơn_vị cung_cấp thông_tin về giá chuyển_nhượng , tránh các trường_hợp hội_đồng thẩm_định_giá đất cấp tỉnh đã thẩm_định , ubnd cấp tỉnh đã phê_duyệt nhưng giá đất vẫn chênh_lệch rất cao … ông phan_đức hiếu , ủy_viên thường_trực ủy_ban kinh_tế quốc_hội : sửa_đổi thể_chế , chính_sách quản_lý đất việc xây_dựng thông_qua dự_thảo lđđ sẽ trình quốc_hội khóa 15 tại kỳ họp thứ 4 trong tháng 10 tới ._kỳ họp thứ 5 ( 2023 ) quốc_hội sẽ thảo_luận và cho ý_kiến lần 2 , và ý_kiến lần 3 tại kỳ họp thứ 6 . nếu_như dự_thảo đạt chất_lượng sẽ thông_qua lđđ vào năm 2023 ._ủy_ban kinh_tế quốc_hội được giao chủ_trì , phối_hợp các cơ_quan liên_quan để thẩm_tra dự_án luật . thực_ra việc sửa_đổi lđđ không chỉ mới tiến_hành mà đã soạn_thảo từ 2 năm trước . do vậy định_hướng sửa_đổi lần này đưa các vấn_đề thể_chế , chính_sách quản_lý đất là nội_dung quan_trọng nhất . trong định_hướng thể_chế có 8 nội_dung , nghị_quyết 18 - nq / tw nhấn_mạnh hoàn_thiện nội_dung thể_chế . thứ nhất , nếu quy_hoạch tốt sẽ thúc_đẩy phát_triển , nếu quy_hoạch không tốt sẽ trở_thành rào_cản và kiềm hãm sự phát_triển . vì_thế , phải có sự phù_hợp , thống_nhất , đồng_bộ , gắn_kết chặt_chẽ giữa các loại quy_hoạch để thúc_đẩy phát_triển lẫn nhau . thứ hai , phải giải bài_toán quy_hoạch treo , chậm_trễ , làm ảnh_hưởng đời_sống người dân . thông_điệp của trung_ương là người tái_định_cư bằng hoặc tốt hơn , có_thể tái_định_cư trước khi bồi_thường . giải_quyết vấn_đề này , trung_ương đã tổng_kết không có khung giá đất . trong cơ_chế hiện_hành sẽ có công_cụ là khung giá đất , bảng giá đất của địa_phương và giá đất cụ_thể để thực_hiện . tuy_nhiên , yêu_cầu ở đây là đảm_bảo theo nguyên_tắc sát giá thị_trường , nhà_nước chỉ can_thiệp khi cần_thiết … đỗ trà_giang ( ghi ) ( đttco ) - thời_gian qua đttc đã có rất nhiều bài phản_ánh ý_kiến của chuyên_gia , doanh_nghiệp , cơ_quan quản_lý nhà_nước cũng như người dân về những bất_cập của luật đất_đai ( lđd ) .']"
      ]
     },
     "execution_count": 17,
     "metadata": {},
     "output_type": "execute_result"
    }
   ],
   "source": [
    "list_text[:1]"
   ]
  },
  {
   "cell_type": "code",
   "execution_count": 18,
   "metadata": {},
   "outputs": [],
   "source": [
    "def remove_stop_words(corpus):\n",
    "    results = []\n",
    "    for text in corpus:\n",
    "        tmp = text.split(' ')\n",
    "        for stop_word in stopwords:\n",
    "            if stop_word in tmp:\n",
    "                tmp.remove(stop_word)\n",
    "        results.append(\" \".join(tmp))\n",
    "        \n",
    "    return results"
   ]
  },
  {
   "cell_type": "code",
   "execution_count": 19,
   "metadata": {},
   "outputs": [],
   "source": [
    "list_text = remove_stop_words(list_text)"
   ]
  },
  {
   "cell_type": "code",
   "execution_count": 20,
   "metadata": {},
   "outputs": [
    {
     "name": "stdout",
     "output_type": "stream",
     "text": [
      "['tuần , báo sggp tổ_chức tọa_đàm “ góp_ý dự_thảo lđđ ( sửa_đổi ) : gỡ rào_cản , phát_huy nội_lực ” , tiếp_tục ghi_nhận ý_kiến các quản_lý , chuyên_gia đóng_góp dự_thảo luật hoàn_thiện trình quốc_hội xem_xét thông_qua . đttc trích_đăng ý_kiến nguyễn toàn_thắng , giám_đốc sở tài_nguyên môi_trường tphcm . giao đất , cho thuê đất tiền lần trả tiền hàng , lđđ quy_định cụ_thể , rõ_ràng các nội_dung này khi thực_hiện đấu_thầu dự_án sử_dụng đất , tình_trạng vận_dụng quá_trình thực_hiện . cần bổ_sung quy_định đối_với quỹ đất thanh_toán cho nhà_đầu_tư thực_hiện dự_án bt ; đồng_thời áp_dụng cơ_chế nhà_nước thu_hồi đất và thực_hiện bồi_thường , giải_phóng mặt_bằng ( gpmb ) quỹ đất thanh_toán cho nhà_đầu_tư , hình_thức giao đất có thu tiền sử_dụng đất cho thuê đất trả tiền một lần cho thời_gian thuê . bổ_sung khái_niệm về mục_đích sử_dụng đất ; quy_định chuyển mục_đích sử_dụng đất một quyền của sử_dụng đất , nhằm các thuật_ngữ giao đất , cho thuê đất và cho_phép chuyển mục_đích sử_dụng đất , trong người sử_dụng đất khi chuyển mục_đích sử_dụng đất sử_dụng đất hình_thức giao đất hoặc thuê đất . kiến_nghị căn_cứ để giao đất , cho thuê đất , cho_phép chuyển mục_đích là kế_hoạch sử_dụng đất hàng năm huyện , quy_định căn_cứ để giao đất , cho thuê đất , cho_phép chuyển mục_đích là quy_hoạch sử_dụng đất hoặc quy_hoạch chi_tiết xây_dựng đô_thị được phê_duyệt . quy_định cụ_thể đối_với việc sử_dụng đất của các trường_hợp sử_dụng đất là tổ_chức khu đất phù_hợp quy_hoạch có kế_hoạch thu_hồi đất , hoặc tổ_chức chưa di_dời ( lúng_túng trong việc quản_lý đất_đai kéo_theo việc thu tiền thuê đất theo đơn_giá không chính_thức ) . về bồi_thường , hỗ_trợ , tái_định_cư , gpmb , trường_hợp 80 % người dân chấp_thuận bồi_thường trong các dự_án đã được nhà_nước chấp_thuận chủ_trương , cần có quy_định để chủ đầu_tư tiếp_tục bồi_thường đất để dự_án được triển_khai . tách nội_dung bồi_thường , hỗ_trợ , tái_định_cư thành tiểu dự_án ( hoặc dự_án ) bồi_thường , hỗ_trợ , tái_định_cư để tổ_chức thực_hiện độc_lập . áp_dụng chính_sách hỗ_trợ đối_với các trường_hợp chậm chi_trả các dự_án sử_dụng vốn ngân_sách có phương_án bồi_thường , hỗ_trợ , tái_định_cư được phê_duyệt trước 1-7-2014 , theo hướng không thay_đổi chính_sách và đơn_giá tái_định_cư đã phê_duyệt , thực_hiện hỗ_trợ lãi_suất phần giá_trị bồi_thường , hỗ_trợ chậm chi_trả . về thu_hồi đất theo quy_hoạch , kế_hoạch sử_dụng đất của tp , tạo quỹ đất sạch , đấu_giá quyền sử_dụng đất , dự_thảo lđđ sửa_đổi cần có quy_định cho_phép việc thu_hồi đất theo quy_hoạch , kế_hoạch sử_dụng đất để tạo quỹ đất sạch phục_vụ đấu_giá quyền sử_dụng đất , tạo chủ_động trong việc chuẩn_bị mặt_bằng đối_với các dự_án đầu_tư nói_chung và đấu_giá quyền sử_dụng đất nói_riêng . về gpmb và đảm_bảo hài hòa lợi_ích của nhà_nước , nhà_đầu_tư và người sử_dụng đất , phân_cấp cho hđnd tp được quyền quyết_định việc chuyển mục_đích sử_dụng trên 10 ha đất trồng lúa ; rút ngắn thời_gian thông_báo đối_với đất nông_nghiệp từ 3 còn 1 tháng , đất từ 6 tháng xuống còn 3 tháng ; phân_cấp việc xác_định giá đất để bồi_thường , hỗ_trợ cho ubnd cấp huyện thực_hiện ; cải_tiến quy_trình , phương_pháp xác_định giá đất theo hướng chỉ quy_định phương_pháp duy_nhất là hệ_số điều_chỉnh giá đất . về xác_định giá đất , hoàn_thiện các phương_pháp xác_định giá đất cụ_thể . theo đó , quy_định rõ_ràng việc xác_định giá đất theo phương_pháp , bỏ cơ_chế khung giá đất và trên cơ_sở kết_quả tư_vấn , thẩm_định_giá đất , các địa_phương ban_hành bảng giá đất để sử_dụng mục_đích thu thuế , phí . thiết_lập cơ_quan chuyên_trách về giá đất của nhà_nước để giải_quyết các vấn_đề liên_quan đến giá đất , kể_cả việc giải_quyết tranh_chấp về giá đất , ngăn_ngừa nguy_cơ gia_tăng sự bất_bình_đẳng các khu_vực , xung_đột về giá đất giữa các địa_phương giáp_ranh . bổ_sung trách_nhiệm , cơ_chế của cơ_quan , đơn_vị có chức_năng xác_định giá đất , và cơ_quan , đơn_vị cung_cấp thông_tin về giá chuyển_nhượng , tránh các trường_hợp hội_đồng thẩm_định_giá đất cấp tỉnh đã thẩm_định , ubnd cấp tỉnh đã phê_duyệt nhưng giá đất chênh_lệch … ông phan_đức hiếu , ủy_viên thường_trực ủy_ban kinh_tế quốc_hội : sửa_đổi thể_chế , chính_sách quản_lý đất việc xây_dựng thông_qua dự_thảo lđđ trình quốc_hội khóa 15 tại kỳ họp 4 trong tháng 10 ._kỳ họp thứ 5 ( 2023 ) quốc_hội sẽ thảo_luận và cho ý_kiến lần 2 , và ý_kiến lần 3 tại kỳ họp thứ 6 . nếu_như dự_thảo chất_lượng sẽ thông_qua lđđ vào năm 2023 ._ủy_ban kinh_tế quốc_hội được giao chủ_trì , phối_hợp các cơ_quan liên_quan để thẩm_tra dự_án luật . thực_ra việc sửa_đổi lđđ không chỉ tiến_hành mà đã soạn_thảo từ 2 năm trước . định_hướng sửa_đổi lần này các vấn_đề thể_chế , chính_sách quản_lý đất là nội_dung quan_trọng . trong định_hướng thể_chế có 8 nội_dung , nghị_quyết 18 - nq / tw nhấn_mạnh hoàn_thiện nội_dung thể_chế . thứ nhất , quy_hoạch sẽ thúc_đẩy phát_triển , nếu quy_hoạch không tốt sẽ trở_thành rào_cản và kiềm hãm sự phát_triển . vì_thế , phải có sự phù_hợp , thống_nhất , đồng_bộ , gắn_kết chặt_chẽ giữa các quy_hoạch để thúc_đẩy phát_triển lẫn . thứ hai , phải giải bài_toán quy_hoạch treo , chậm_trễ , làm ảnh_hưởng đời_sống người dân . thông_điệp của trung_ương là người tái_định_cư bằng hoặc tốt , có_thể tái_định_cư trước khi bồi_thường . giải_quyết vấn_đề này , trung_ương đã tổng_kết không có khung giá đất . trong cơ_chế hiện_hành sẽ có công_cụ là khung giá đất , bảng giá đất của địa_phương và giá đất cụ_thể để thực_hiện . tuy_nhiên , yêu_cầu ở là đảm_bảo theo nguyên_tắc sát giá thị_trường , nhà_nước chỉ can_thiệp khi cần_thiết … đỗ trà_giang ( ghi ) ( đttco ) - thời_gian qua đttc đã có rất phản_ánh ý_kiến của chuyên_gia , doanh_nghiệp , cơ_quan quản_lý nhà_nước người dân về bất_cập của luật đất_đai ( lđd ) .']\n"
     ]
    }
   ],
   "source": [
    "print(list_text[:1])"
   ]
  },
  {
   "cell_type": "code",
   "execution_count": 21,
   "metadata": {},
   "outputs": [],
   "source": [
    "df['text'] = list_text"
   ]
  },
  {
   "cell_type": "code",
   "execution_count": 22,
   "metadata": {},
   "outputs": [
    {
     "data": {
      "text/html": [
       "<div>\n",
       "<style scoped>\n",
       "    .dataframe tbody tr th:only-of-type {\n",
       "        vertical-align: middle;\n",
       "    }\n",
       "\n",
       "    .dataframe tbody tr th {\n",
       "        vertical-align: top;\n",
       "    }\n",
       "\n",
       "    .dataframe thead th {\n",
       "        text-align: right;\n",
       "    }\n",
       "</style>\n",
       "<table border=\"1\" class=\"dataframe\">\n",
       "  <thead>\n",
       "    <tr style=\"text-align: right;\">\n",
       "      <th></th>\n",
       "      <th>text</th>\n",
       "      <th>label</th>\n",
       "    </tr>\n",
       "  </thead>\n",
       "  <tbody>\n",
       "    <tr>\n",
       "      <th>0</th>\n",
       "      <td>tuần , báo sggp tổ_chức tọa_đàm “ góp_ý dự_thả...</td>\n",
       "      <td>-1</td>\n",
       "    </tr>\n",
       "    <tr>\n",
       "      <th>1</th>\n",
       "      <td>nghị_quyết 18 - nq / tw yêu_cầu quy_định thuế ...</td>\n",
       "      <td>1</td>\n",
       "    </tr>\n",
       "    <tr>\n",
       "      <th>2</th>\n",
       "      <td>, đất đánh_thuế . ( ảnh minh_họa : ttxvn ) 16/...</td>\n",
       "      <td>1</td>\n",
       "    </tr>\n",
       "    <tr>\n",
       "      <th>3</th>\n",
       "      <td>quy_định khung giá đất , sở_hữu nhà_đất đánh_t...</td>\n",
       "      <td>1</td>\n",
       "    </tr>\n",
       "    <tr>\n",
       "      <th>4</th>\n",
       "      <td>nghị_quyết 18 - nq / tw xây_dựng cơ_sở tổng_kế...</td>\n",
       "      <td>1</td>\n",
       "    </tr>\n",
       "  </tbody>\n",
       "</table>\n",
       "</div>"
      ],
      "text/plain": [
       "                                                text  label\n",
       "0  tuần , báo sggp tổ_chức tọa_đàm “ góp_ý dự_thả...     -1\n",
       "1  nghị_quyết 18 - nq / tw yêu_cầu quy_định thuế ...      1\n",
       "2  , đất đánh_thuế . ( ảnh minh_họa : ttxvn ) 16/...      1\n",
       "3  quy_định khung giá đất , sở_hữu nhà_đất đánh_t...      1\n",
       "4  nghị_quyết 18 - nq / tw xây_dựng cơ_sở tổng_kế...      1"
      ]
     },
     "execution_count": 22,
     "metadata": {},
     "output_type": "execute_result"
    }
   ],
   "source": [
    "df.head()"
   ]
  },
  {
   "cell_type": "code",
   "execution_count": 23,
   "metadata": {},
   "outputs": [],
   "source": [
    "df.to_csv('data_after_preprocessing.csv', encoding='utf-8-sig')"
   ]
  },
  {
   "cell_type": "code",
   "execution_count": null,
   "metadata": {},
   "outputs": [],
   "source": []
  }
 ],
 "metadata": {
  "kernelspec": {
   "display_name": "Python 3.10.4 64-bit",
   "language": "python",
   "name": "python3"
  },
  "language_info": {
   "codemirror_mode": {
    "name": "ipython",
    "version": 3
   },
   "file_extension": ".py",
   "mimetype": "text/x-python",
   "name": "python",
   "nbconvert_exporter": "python",
   "pygments_lexer": "ipython3",
   "version": "3.10.4"
  },
  "orig_nbformat": 4,
  "vscode": {
   "interpreter": {
    "hash": "369f2c481f4da34e4445cda3fffd2e751bd1c4d706f27375911949ba6bb62e1c"
   }
  }
 },
 "nbformat": 4,
 "nbformat_minor": 2
}
