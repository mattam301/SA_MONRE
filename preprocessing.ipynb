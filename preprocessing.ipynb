{
 "cells": [
  {
   "cell_type": "code",
   "execution_count": 243,
   "metadata": {},
   "outputs": [],
   "source": [
    "import pandas as pd\n",
    "import numpy as np\n",
    "from nltk.tokenize import word_tokenize\n",
    "from nltk.corpus import stopwords\n",
    "from nltk.corpus import wordnet as wn\n",
    "from sklearn.metrics import accuracy_score\n",
    "from sklearn.model_selection import train_test_split\n",
    "from sklearn.metrics import classification_report\n",
    "from underthesea import word_tokenize\n",
    "# from CocCocTokenizer import PyTokenizer"
   ]
  },
  {
   "cell_type": "code",
   "execution_count": 244,
   "metadata": {},
   "outputs": [],
   "source": [
    "df = pd.read_csv('df_test.csv')"
   ]
  },
  {
   "cell_type": "code",
   "execution_count": 245,
   "metadata": {},
   "outputs": [],
   "source": [
    "# df = pd.read_excel('Data/Data_dat_dai/luat_dat_dai.xlsx')  \n",
    "# df.head()"
   ]
  },
  {
   "cell_type": "markdown",
   "metadata": {},
   "source": [
    "#### LOWERCASE"
   ]
  },
  {
   "cell_type": "code",
   "execution_count": 246,
   "metadata": {},
   "outputs": [],
   "source": [
    "df = df[df['label'] != 0]"
   ]
  },
  {
   "cell_type": "code",
   "execution_count": 247,
   "metadata": {},
   "outputs": [],
   "source": [
    "df['summary'] = df['summary'].str.lower()"
   ]
  },
  {
   "cell_type": "code",
   "execution_count": 248,
   "metadata": {},
   "outputs": [],
   "source": [
    "list_title = df['content'].to_list()\n",
    "list_summary = df['summary'].to_list()\n",
    "list_text = []\n",
    "for i in range(len(list_title)):\n",
    "    list_text.append(list_title[i] + ' ' + str(list_summary[i]))\n",
    "    \n",
    "df['text'] = list_text\n",
    "df['text'] = df['text'].str.lower()\n",
    "# df['sourceName'] = df['sourceName'].str.lower()"
   ]
  },
  {
   "cell_type": "markdown",
   "metadata": {},
   "source": [
    "#### remove duplicated data"
   ]
  },
  {
   "cell_type": "code",
   "execution_count": 249,
   "metadata": {},
   "outputs": [],
   "source": [
    "# df['summary'] = df['summary'].str.strip()\n",
    "# list_i = ['\\\"', '\\'','\\t','\\n']\n",
    "# for i in list_i:\n",
    "#     df['summary'] = df['summary'].apply(lambda x: x.replace(i,\"\"))\n",
    "# df['summary'].value_counts()"
   ]
  },
  {
   "cell_type": "code",
   "execution_count": 250,
   "metadata": {},
   "outputs": [],
   "source": [
    "# df = df.drop_duplicates(subset = ['title'])"
   ]
  },
  {
   "cell_type": "markdown",
   "metadata": {},
   "source": [
    "#### word segmentation"
   ]
  },
  {
   "cell_type": "code",
   "execution_count": 251,
   "metadata": {},
   "outputs": [],
   "source": [
    "'''UNDER THE SEA'''\n",
    "\n",
    "list_text = df['text'].to_list()\n",
    "#print(list_text[0])\n",
    "for i in range(len(list_text)):\n",
    "    list_text[i] = word_tokenize(list_text[i], format='text')\n",
    "\n",
    "df['text'] =  list_text"
   ]
  },
  {
   "cell_type": "code",
   "execution_count": 252,
   "metadata": {},
   "outputs": [
    {
     "data": {
      "text/html": [
       "<div>\n",
       "<style scoped>\n",
       "    .dataframe tbody tr th:only-of-type {\n",
       "        vertical-align: middle;\n",
       "    }\n",
       "\n",
       "    .dataframe tbody tr th {\n",
       "        vertical-align: top;\n",
       "    }\n",
       "\n",
       "    .dataframe thead th {\n",
       "        text-align: right;\n",
       "    }\n",
       "</style>\n",
       "<table border=\"1\" class=\"dataframe\">\n",
       "  <thead>\n",
       "    <tr style=\"text-align: right;\">\n",
       "      <th></th>\n",
       "      <th>Unnamed: 0</th>\n",
       "      <th>summary</th>\n",
       "      <th>content</th>\n",
       "      <th>label</th>\n",
       "      <th>text</th>\n",
       "    </tr>\n",
       "  </thead>\n",
       "  <tbody>\n",
       "    <tr>\n",
       "      <th>0</th>\n",
       "      <td>421</td>\n",
       "      <td>(hnm) - nghị quyết số 18-nq/tư, ngày 16-6-2022...</td>\n",
       "      <td>(HNM) - Nghị quyết số 18-NQ/TƯ, ngày 16-6-2022...</td>\n",
       "      <td>1</td>\n",
       "      <td>( hnm ) - nghị_quyết số 18 - nq / tư , ngày 16...</td>\n",
       "    </tr>\n",
       "    <tr>\n",
       "      <th>1</th>\n",
       "      <td>453</td>\n",
       "      <td>đno -</td>\n",
       "      <td>ĐNO - Ngày 6-8, tại Đà Nẵng, Thứ tưởng Bộ Tài ...</td>\n",
       "      <td>1</td>\n",
       "      <td>đno - ngày 6-8 , tại đà nẵng , thứ tưởng bộ tà...</td>\n",
       "    </tr>\n",
       "    <tr>\n",
       "      <th>2</th>\n",
       "      <td>698</td>\n",
       "      <td>trong vụ án cựu bí thư tỉnh uỷ bình dương trần...</td>\n",
       "      <td>Đó là ông Lê Văn Trang (SN 1959 tại Bình Dương...</td>\n",
       "      <td>-1</td>\n",
       "      <td>đó là ông lê_văn_trang ( sn 1959 tại bình_dươn...</td>\n",
       "    </tr>\n",
       "    <tr>\n",
       "      <th>3</th>\n",
       "      <td>267</td>\n",
       "      <td>cựu chủ tịch ubnd tỉnh nguyễn chiến thắng cùng...</td>\n",
       "      <td>Ngày 6/7, hành vi của ông Thắng cùng ông Đào C...</td>\n",
       "      <td>-1</td>\n",
       "      <td>ngày 6/7 , hành_vi của ông thắng cùng ông đào ...</td>\n",
       "    </tr>\n",
       "    <tr>\n",
       "      <th>4</th>\n",
       "      <td>366</td>\n",
       "      <td>tto - hài hòa lợi ích các bên khi thu hồi đất,...</td>\n",
       "      <td>Hàng loạt chung cư được xây dựng ở TP Thủ Đức ...</td>\n",
       "      <td>1</td>\n",
       "      <td>hàng_loạt chung_cư được xây_dựng ở tp thủ_đức ...</td>\n",
       "    </tr>\n",
       "  </tbody>\n",
       "</table>\n",
       "</div>"
      ],
      "text/plain": [
       "   Unnamed: 0                                            summary  \\\n",
       "0         421  (hnm) - nghị quyết số 18-nq/tư, ngày 16-6-2022...   \n",
       "1         453                                              đno -   \n",
       "2         698  trong vụ án cựu bí thư tỉnh uỷ bình dương trần...   \n",
       "3         267  cựu chủ tịch ubnd tỉnh nguyễn chiến thắng cùng...   \n",
       "4         366  tto - hài hòa lợi ích các bên khi thu hồi đất,...   \n",
       "\n",
       "                                             content  label  \\\n",
       "0  (HNM) - Nghị quyết số 18-NQ/TƯ, ngày 16-6-2022...      1   \n",
       "1  ĐNO - Ngày 6-8, tại Đà Nẵng, Thứ tưởng Bộ Tài ...      1   \n",
       "2  Đó là ông Lê Văn Trang (SN 1959 tại Bình Dương...     -1   \n",
       "3  Ngày 6/7, hành vi của ông Thắng cùng ông Đào C...     -1   \n",
       "4  Hàng loạt chung cư được xây dựng ở TP Thủ Đức ...      1   \n",
       "\n",
       "                                                text  \n",
       "0  ( hnm ) - nghị_quyết số 18 - nq / tư , ngày 16...  \n",
       "1  đno - ngày 6-8 , tại đà nẵng , thứ tưởng bộ tà...  \n",
       "2  đó là ông lê_văn_trang ( sn 1959 tại bình_dươn...  \n",
       "3  ngày 6/7 , hành_vi của ông thắng cùng ông đào ...  \n",
       "4  hàng_loạt chung_cư được xây_dựng ở tp thủ_đức ...  "
      ]
     },
     "execution_count": 252,
     "metadata": {},
     "output_type": "execute_result"
    }
   ],
   "source": [
    "df.head()"
   ]
  },
  {
   "cell_type": "code",
   "execution_count": 253,
   "metadata": {},
   "outputs": [],
   "source": [
    "# print(list_text[0])\n",
    "# print()\n",
    "# print(list_text[1])"
   ]
  },
  {
   "cell_type": "code",
   "execution_count": 254,
   "metadata": {},
   "outputs": [
    {
     "data": {
      "text/plain": [
       "'COC COC TOKENIZER'"
      ]
     },
     "execution_count": 254,
     "metadata": {},
     "output_type": "execute_result"
    }
   ],
   "source": [
    "'''COC COC TOKENIZER'''\n",
    "\n",
    "# T = PyTokenizer(load_nontone_data=True)\n",
    "# list_text = df['text'].to_list()\n",
    "\n",
    "# for i in range(len(list_text)):\n",
    "#     list_text[i] = \" \".join(T.word_tokenize(list_text[i],tokenize_option=0))\n",
    "\n",
    "# df['text'] =  list_text"
   ]
  },
  {
   "cell_type": "code",
   "execution_count": 255,
   "metadata": {},
   "outputs": [],
   "source": [
    "# print(list_text[0])\n",
    "# print()\n",
    "# print(list_text[1])"
   ]
  },
  {
   "cell_type": "code",
   "execution_count": 256,
   "metadata": {},
   "outputs": [
    {
     "data": {
      "text/html": [
       "<div>\n",
       "<style scoped>\n",
       "    .dataframe tbody tr th:only-of-type {\n",
       "        vertical-align: middle;\n",
       "    }\n",
       "\n",
       "    .dataframe tbody tr th {\n",
       "        vertical-align: top;\n",
       "    }\n",
       "\n",
       "    .dataframe thead th {\n",
       "        text-align: right;\n",
       "    }\n",
       "</style>\n",
       "<table border=\"1\" class=\"dataframe\">\n",
       "  <thead>\n",
       "    <tr style=\"text-align: right;\">\n",
       "      <th></th>\n",
       "      <th>text</th>\n",
       "      <th>label</th>\n",
       "    </tr>\n",
       "  </thead>\n",
       "  <tbody>\n",
       "    <tr>\n",
       "      <th>0</th>\n",
       "      <td>( hnm ) - nghị_quyết số 18 - nq / tư , ngày 16...</td>\n",
       "      <td>1</td>\n",
       "    </tr>\n",
       "    <tr>\n",
       "      <th>1</th>\n",
       "      <td>đno - ngày 6-8 , tại đà nẵng , thứ tưởng bộ tà...</td>\n",
       "      <td>1</td>\n",
       "    </tr>\n",
       "    <tr>\n",
       "      <th>2</th>\n",
       "      <td>đó là ông lê_văn_trang ( sn 1959 tại bình_dươn...</td>\n",
       "      <td>-1</td>\n",
       "    </tr>\n",
       "    <tr>\n",
       "      <th>3</th>\n",
       "      <td>ngày 6/7 , hành_vi của ông thắng cùng ông đào ...</td>\n",
       "      <td>-1</td>\n",
       "    </tr>\n",
       "    <tr>\n",
       "      <th>4</th>\n",
       "      <td>hàng_loạt chung_cư được xây_dựng ở tp thủ_đức ...</td>\n",
       "      <td>1</td>\n",
       "    </tr>\n",
       "  </tbody>\n",
       "</table>\n",
       "</div>"
      ],
      "text/plain": [
       "                                                text  label\n",
       "0  ( hnm ) - nghị_quyết số 18 - nq / tư , ngày 16...      1\n",
       "1  đno - ngày 6-8 , tại đà nẵng , thứ tưởng bộ tà...      1\n",
       "2  đó là ông lê_văn_trang ( sn 1959 tại bình_dươn...     -1\n",
       "3  ngày 6/7 , hành_vi của ông thắng cùng ông đào ...     -1\n",
       "4  hàng_loạt chung_cư được xây_dựng ở tp thủ_đức ...      1"
      ]
     },
     "execution_count": 256,
     "metadata": {},
     "output_type": "execute_result"
    }
   ],
   "source": [
    "df = df[['text','label']]\n",
    "df.head()"
   ]
  },
  {
   "cell_type": "markdown",
   "metadata": {},
   "source": [
    "#### removing stopwords\n"
   ]
  },
  {
   "cell_type": "code",
   "execution_count": 257,
   "metadata": {},
   "outputs": [],
   "source": [
    "def get_stopwords_list(stop_file_path):\n",
    "    \"\"\"load stop words \"\"\"\n",
    "    \n",
    "    with open(stop_file_path, 'r', encoding=\"utf-8\") as f:\n",
    "        stopwords = f.readlines()\n",
    "        stop_set = set(m.strip() for m in stopwords)\n",
    "        return list(frozenset(stop_set))"
   ]
  },
  {
   "cell_type": "code",
   "execution_count": 258,
   "metadata": {},
   "outputs": [],
   "source": [
    "stopwords_path = \"Data/Data_ref/vietnamese-stopwords.txt\"\n",
    "stopwords = get_stopwords_list(stopwords_path)"
   ]
  },
  {
   "cell_type": "code",
   "execution_count": 259,
   "metadata": {},
   "outputs": [
    {
     "data": {
      "text/plain": [
       "['mà vẫn',\n",
       " 'mức',\n",
       " 'coi mòi',\n",
       " 'thúng thắng',\n",
       " 'do',\n",
       " 'chuyện',\n",
       " 'xa tắp',\n",
       " 'trừ phi',\n",
       " 'nhất sinh',\n",
       " 'bắt đầu']"
      ]
     },
     "execution_count": 259,
     "metadata": {},
     "output_type": "execute_result"
    }
   ],
   "source": [
    "stopwords[0:10]"
   ]
  },
  {
   "cell_type": "code",
   "execution_count": 260,
   "metadata": {},
   "outputs": [],
   "source": [
    "def remove_stop_words(corpus):\n",
    "    results = []\n",
    "    for text in corpus:\n",
    "        tmp = text.split(' ')\n",
    "        for stop_word in stopwords:\n",
    "            if stop_word in tmp:\n",
    "                tmp.remove(stop_word)\n",
    "        results.append(\" \".join(tmp))\n",
    "        \n",
    "    return results"
   ]
  },
  {
   "cell_type": "code",
   "execution_count": 261,
   "metadata": {},
   "outputs": [],
   "source": [
    "list_text = remove_stop_words(list_text)"
   ]
  },
  {
   "cell_type": "code",
   "execution_count": 262,
   "metadata": {},
   "outputs": [],
   "source": [
    "df['text'] = list_text"
   ]
  },
  {
   "cell_type": "code",
   "execution_count": 263,
   "metadata": {},
   "outputs": [
    {
     "data": {
      "text/html": [
       "<div>\n",
       "<style scoped>\n",
       "    .dataframe tbody tr th:only-of-type {\n",
       "        vertical-align: middle;\n",
       "    }\n",
       "\n",
       "    .dataframe tbody tr th {\n",
       "        vertical-align: top;\n",
       "    }\n",
       "\n",
       "    .dataframe thead th {\n",
       "        text-align: right;\n",
       "    }\n",
       "</style>\n",
       "<table border=\"1\" class=\"dataframe\">\n",
       "  <thead>\n",
       "    <tr style=\"text-align: right;\">\n",
       "      <th></th>\n",
       "      <th>text</th>\n",
       "      <th>label</th>\n",
       "    </tr>\n",
       "  </thead>\n",
       "  <tbody>\n",
       "    <tr>\n",
       "      <th>0</th>\n",
       "      <td>( hnm ) - nghị_quyết 18 - nq / tư , 16-6-2022 ...</td>\n",
       "      <td>1</td>\n",
       "    </tr>\n",
       "    <tr>\n",
       "      <th>1</th>\n",
       "      <td>đno - 6-8 , đà nẵng , tưởng tài_nguyên môi_trư...</td>\n",
       "      <td>1</td>\n",
       "    </tr>\n",
       "    <tr>\n",
       "      <th>2</th>\n",
       "      <td>lê_văn_trang ( sn 1959 bình_dương , cựu cục_tr...</td>\n",
       "      <td>-1</td>\n",
       "    </tr>\n",
       "    <tr>\n",
       "      <th>3</th>\n",
       "      <td>6/7 , hành_vi thắng ông đào công thiên ( cựu p...</td>\n",
       "      <td>-1</td>\n",
       "    </tr>\n",
       "    <tr>\n",
       "      <th>4</th>\n",
       "      <td>hàng_loạt chung_cư xây_dựng tp thủ_đức ( tp.hc...</td>\n",
       "      <td>1</td>\n",
       "    </tr>\n",
       "  </tbody>\n",
       "</table>\n",
       "</div>"
      ],
      "text/plain": [
       "                                                text  label\n",
       "0  ( hnm ) - nghị_quyết 18 - nq / tư , 16-6-2022 ...      1\n",
       "1  đno - 6-8 , đà nẵng , tưởng tài_nguyên môi_trư...      1\n",
       "2  lê_văn_trang ( sn 1959 bình_dương , cựu cục_tr...     -1\n",
       "3  6/7 , hành_vi thắng ông đào công thiên ( cựu p...     -1\n",
       "4  hàng_loạt chung_cư xây_dựng tp thủ_đức ( tp.hc...      1"
      ]
     },
     "execution_count": 263,
     "metadata": {},
     "output_type": "execute_result"
    }
   ],
   "source": [
    "df.head()"
   ]
  },
  {
   "cell_type": "code",
   "execution_count": 264,
   "metadata": {},
   "outputs": [],
   "source": [
    "# df.to_csv('data_after_preprocessing.csv', encoding='utf-8-sig')"
   ]
  },
  {
   "cell_type": "code",
   "execution_count": 265,
   "metadata": {},
   "outputs": [],
   "source": [
    "df.to_csv('df_test_after.csv', encoding= 'utf-8-sig')"
   ]
  }
 ],
 "metadata": {
  "kernelspec": {
   "display_name": "Python 3.10.4 64-bit",
   "language": "python",
   "name": "python3"
  },
  "language_info": {
   "codemirror_mode": {
    "name": "ipython",
    "version": 3
   },
   "file_extension": ".py",
   "mimetype": "text/x-python",
   "name": "python",
   "nbconvert_exporter": "python",
   "pygments_lexer": "ipython3",
   "version": "3.10.4"
  },
  "orig_nbformat": 4,
  "vscode": {
   "interpreter": {
    "hash": "369f2c481f4da34e4445cda3fffd2e751bd1c4d706f27375911949ba6bb62e1c"
   }
  }
 },
 "nbformat": 4,
 "nbformat_minor": 2
}
