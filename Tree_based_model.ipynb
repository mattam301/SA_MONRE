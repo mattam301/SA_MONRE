{
 "cells": [
  {
   "cell_type": "code",
   "execution_count": 95,
   "metadata": {},
   "outputs": [],
   "source": [
    "import pandas as pd\n",
    "from nltk.corpus import stopwords\n",
    "import numpy as np\n",
    "from nltk.stem import WordNetLemmatizer\n",
    "from sklearn.preprocessing import LabelEncoder\n",
    "from sklearn.preprocessing import OrdinalEncoder\n",
    "from collections import defaultdict\n",
    "from nltk.corpus import wordnet as wn\n",
    "from sklearn.feature_extraction.text import TfidfVectorizer\n",
    "from sklearn import model_selection, naive_bayes, svm\n",
    "from sklearn.metrics import accuracy_score\n",
    "from sklearn.model_selection import train_test_split\n",
    "from sklearn.metrics import classification_report\n",
    "from sklearn.model_selection import GridSearchCV\n",
    "from lightgbm import LGBMClassifier\n",
    "from sklearn.ensemble import RandomForestClassifier"
   ]
  },
  {
   "cell_type": "code",
   "execution_count": 96,
   "metadata": {},
   "outputs": [],
   "source": [
    "from underthesea import word_tokenize"
   ]
  },
  {
   "cell_type": "code",
   "execution_count": 97,
   "metadata": {},
   "outputs": [],
   "source": [
    "stopwords_path = \"Data/Data_ref/vietnamese-stopwords.txt\""
   ]
  },
  {
   "cell_type": "code",
   "execution_count": 98,
   "metadata": {},
   "outputs": [],
   "source": [
    "# df = pd.read_csv('Data/Data_dat_dai/data_after_preprocessing.csv', index_col=0)\n",
    "# df.head()"
   ]
  },
  {
   "cell_type": "code",
   "execution_count": 99,
   "metadata": {},
   "outputs": [],
   "source": [
    "# X_train, X_test, Y_train, Y_test= model_selection.train_test_split(df['text'],df['label'],test_size=0.2,random_state=1)"
   ]
  },
  {
   "cell_type": "code",
   "execution_count": 100,
   "metadata": {},
   "outputs": [],
   "source": [
    "def read_splitted_data():\n",
    "\n",
    "    df_train = pd.read_csv('Data/Data_dat_dai/df_train_after.csv')\n",
    "    df_test = pd.read_csv('Data/Data_dat_dai/df_test_after.csv')\n",
    "\n",
    "\n",
    "    X_train = df_train[['text']]\n",
    "    Y_train = df_train[['label']]\n",
    "\n",
    "    X_test = df_test[['text']]\n",
    "    Y_test = df_test[['label']]   \n",
    "\n",
    "    return X_train, Y_train, X_test, Y_test"
   ]
  },
  {
   "cell_type": "code",
   "execution_count": 101,
   "metadata": {},
   "outputs": [],
   "source": [
    "def tf_idf_config(X_train, X_test):\n",
    "\n",
    "    Tfidf_vect = TfidfVectorizer(max_features=1000)\n",
    "    Tfidf_vect.fit(X_train['text'].to_list())\n",
    "    tfidf_train = Tfidf_vect.transform(X_train['text'])\n",
    "    tfidf_test = Tfidf_vect.transform(X_test['text'])\n",
    "\n",
    "    tfidf_train = tfidf_train.toarray()\n",
    "    tfidf_test = tfidf_test.toarray()\n",
    "\n",
    "    return Tfidf_vect, tfidf_train, tfidf_test"
   ]
  },
  {
   "cell_type": "code",
   "execution_count": 102,
   "metadata": {},
   "outputs": [],
   "source": [
    "def model_selection(model_name, tfidf_train, tfidf_test, Y_train, Y_test):\n",
    "    if (model_name == \"SVM\"):\n",
    "        model = svm.SVC(C=1.0, kernel='linear', gamma='auto', degree = 3)\n",
    "        model.fit(tfidf_train,Y_train)\n",
    "        # predict the labels on validation dataset\n",
    "        predictions_SVM = model.predict(tfidf_test)\n",
    "        # Use accuracy_score function to get the accuracy\n",
    "        print(\"SVM Accuracy Score -> \",accuracy_score(predictions_SVM, Y_test)*100)  \n",
    "        print(classification_report(Y_test,predictions_SVM)) \n",
    "        return model    \n",
    "\n",
    "    elif (model_name == \"LGBM\"):\n",
    "\n",
    "        model = LGBMClassifier()\n",
    "        model.fit(tfidf_train,Y_train)\n",
    "        predictions_lgbm = model.predict(tfidf_test)\n",
    "        # Use accuracy_score function to get the accuracy\n",
    "        print(\"ligbm Accuracy Score -> \",accuracy_score(predictions_lgbm, Y_test)*100)\n",
    "        print(classification_report(Y_test,predictions_lgbm))\n",
    "\n",
    "        return model\n",
    "\n",
    "    elif (model_name == \"Random Forest\"):\n",
    "\n",
    "        model = RandomForestClassifier(n_estimators=1000,min_samples_leaf=2,\n",
    "                                        min_samples_split= 10, max_features = 'sqrt', criterion = 'entropy', bootstrap= True,\n",
    "                                      random_state=25)\n",
    "        model.fit(tfidf_train,Y_train) \n",
    "        predictions_rf = model.predict(tfidf_test)\n",
    "        # Use accuracy_score function to get the accuracy\n",
    "        print(\"rf Accuracy Score -> \",accuracy_score(predictions_rf, Y_test)*100)\n",
    "        print(classification_report(Y_test,predictions_rf))\n",
    "\n",
    "        return model\n",
    "    else:\n",
    "        print(\"No invalid model selected, try again\")\n",
    "        return 0\n"
   ]
  },
  {
   "cell_type": "code",
   "execution_count": 103,
   "metadata": {},
   "outputs": [
    {
     "name": "stderr",
     "output_type": "stream",
     "text": [
      "C:\\Users\\admin\\AppData\\Local\\Temp\\ipykernel_4276\\3729757558.py:28: DataConversionWarning: A column-vector y was passed when a 1d array was expected. Please change the shape of y to (n_samples,), for example using ravel().\n",
      "  model.fit(tfidf_train,Y_train)\n"
     ]
    },
    {
     "name": "stdout",
     "output_type": "stream",
     "text": [
      "rf Accuracy Score ->  87.71929824561403\n",
      "              precision    recall  f1-score   support\n",
      "\n",
      "          -1       0.90      0.78      0.84        46\n",
      "           1       0.86      0.94      0.90        68\n",
      "\n",
      "    accuracy                           0.88       114\n",
      "   macro avg       0.88      0.86      0.87       114\n",
      "weighted avg       0.88      0.88      0.88       114\n",
      "\n"
     ]
    }
   ],
   "source": [
    "X_train, Y_train, X_test, Y_test = read_splitted_data()\n",
    "Tfidf_vect, tfidf_train, tfidf_test = tf_idf_config(X_train, X_test)\n",
    "selected = model_selection(model_name = \"Random Forest\", tfidf_train = tfidf_train, tfidf_test = tfidf_test, Y_train = Y_train, Y_test = Y_test)"
   ]
  },
  {
   "cell_type": "markdown",
   "metadata": {},
   "source": [
    "### Test Prediction"
   ]
  },
  {
   "cell_type": "code",
   "execution_count": 104,
   "metadata": {},
   "outputs": [],
   "source": [
    "def lower_df(df):\n",
    "    df['text'] = df['text'].str.lower()\n",
    "    return df"
   ]
  },
  {
   "cell_type": "code",
   "execution_count": 105,
   "metadata": {},
   "outputs": [],
   "source": [
    "def segmentation(df):\n",
    "\n",
    "\n",
    "    '''UNDER THE SEA'''\n",
    "    \n",
    "    list_text = df['text'].to_list()\n",
    "    #print(list_text[0])\n",
    "    for i in range(len(list_text)):\n",
    "        list_text[i] = word_tokenize(list_text[i], format='text')\n",
    "    \n",
    "    df['text'] =  list_text\n",
    "    return df"
   ]
  },
  {
   "cell_type": "code",
   "execution_count": 106,
   "metadata": {},
   "outputs": [],
   "source": [
    "def get_stopwords_list(stop_file_path):\n",
    "    \"\"\"load stop words \"\"\"\n",
    "    \n",
    "    with open(stop_file_path, 'r', encoding=\"utf-8\") as f:\n",
    "        stopwords = f.readlines()\n",
    "        stop_set = set(m.strip() for m in stopwords)\n",
    "        return list(frozenset(stop_set))"
   ]
  },
  {
   "cell_type": "code",
   "execution_count": 107,
   "metadata": {},
   "outputs": [],
   "source": [
    "def remove_stopwords(df):\n",
    "    stopwords = get_stopwords_list(stopwords_path)\n",
    "\n",
    "    list_text = df['text'].tolist()\n",
    "\n",
    "    results = []\n",
    "    for text in list_text:\n",
    "        tmp = text.split(' ')\n",
    "        for stop_word in stopwords:\n",
    "            if stop_word in tmp:\n",
    "                tmp.remove(stop_word)\n",
    "        results.append(\" \".join(tmp))\n",
    "\n",
    "    df['text'] = results\n",
    "    return df"
   ]
  },
  {
   "cell_type": "code",
   "execution_count": 108,
   "metadata": {},
   "outputs": [],
   "source": [
    "def data_preprocessing(df):\n",
    "    df = lower_df(df)\n",
    "    df = segmentation(df)\n",
    "    df = remove_stopwords(df)\n",
    "\n",
    "    return df"
   ]
  },
  {
   "cell_type": "code",
   "execution_count": 109,
   "metadata": {},
   "outputs": [],
   "source": [
    "def predict_sample(tmp_text):\n",
    "    input = tmp_text\n",
    "    list_input = [input]\n",
    "    test_df = pd.DataFrame()\n",
    "    test_df['text'] = list_input\n",
    "    test_df = data_preprocessing(test_df)\n",
    "\n",
    "    test_df = Tfidf_vect.transform(test_df['text'])\n",
    "    test_df = test_df.toarray()\n",
    "    prediction = selected.predict(test_df)   \n",
    "\n",
    "    return prediction\n",
    "\n"
   ]
  },
  {
   "cell_type": "code",
   "execution_count": 110,
   "metadata": {},
   "outputs": [
    {
     "name": "stdout",
     "output_type": "stream",
     "text": [
      "Bai viet co kha nang tieu cuc thap :3\n"
     ]
    }
   ],
   "source": [
    "input  = \"\"\"Gia đình người nước ngoài tìm hiểu dự án để mua nhà ở tại Khu đô thị Phú Mỹ Hưng (TP.HCM). Ảnh: Lê Toàn Dự thảo đang bỏ ngỏ Tuần qua, Dự thảo Luật Đất đai (sửa đổi) đã được đặt lên bàn nghị sự của Chính phủ trong phiên họp chuyên đề về xây dựng pháp luật do Thủ tướng Chính phủ Phạm Minh Chính chủ trì. Một trong những nội dung được các thành viên Chính phủ quan tâm thảo luận là quyền của người nước ngoài liên quan đến đất đai tại Việt Nam. Đây cũng chính là vấn đề được nhiều doanh nhân, chuyên gia quan tâm, góp ý, bởi đang có vướng mắc với một số luật khác. Cụ thể, Điều 159, Luật Nhà ở quy định tổ chức, cá nhân người nước ngoài là một trong những đối tượng được sở hữu nhà ở tại Việt Nam. Khoản 2, Điều 14, Luật Kinh doanh bất động sản quy định người Việt Nam định cư ở nước ngoài, tổ chức, cá nhân nước ngoài được thuê các loại bất động sản để sử dụng, được mua, thuê nhà ở theo quy định của pháp luật về nhà ở. “Nội dung về quyền sở hữu nhà ở tại Việt Nam của tổ chức, cá nhân nước ngoài đã được Bộ Xây dựng báo cáo và Bộ Chính trị thống nhất đưa vào Luật Nhà ở”, Bộ Tài nguyên và Môi trường nêu rõ trong hồ sơ Dự án Luật Đất đai (sửa đổi). Tuy nhiên, Điều 5, Luật Đất đai hiện hành quy định về người sử dụng đất chỉ quy định tổ chức nước ngoài được thực hiện dự án nhà ở tại Việt Nam, không quy định cá nhân là người nước ngoài được sử dụng đất ở tại Việt Nam. Để đảm bảo tính thống nhất, đồng bộ của hệ thống pháp luật, cần sửa đổi Luật Đất đai theo hướng bổ sung đối tượng cá nhân nước ngoài được sở hữu nhà ở tại Việt Nam theo pháp luật về nhà ở thì được sử dụng đất theo pháp luật về đất đai. Nhưng, theo Bộ Tài nguyên và Môi trường (cơ quan chủ trì soạn thảo Dự án Luật Đất đai sửa đổi), đây không phải là phương án duy nhất. “Hầu hết các nước trên thế giới đều có các quy định nhằm hạn chế hoặc kiểm soát các quyền và nghĩa vụ của người nước ngoài liên quan đến đất đai, bất động sản ở các mức độ khác nhau. Trong bối cảnh đất đai ở nước ta thuộc sở hữu toàn dân, nên việc trao quyền sử dụng đất cho người nước ngoài cần thận trọng và phải trên cơ sở quan điểm chỉ đạo của Trung ương. “Trong quá trình tổng kết Nghị quyết số 19-NQ/TW, vấn đề này đã được đưa vào báo cáo, tuy nhiên, sau đó đã có chỉ đạo đưa ra”, cơ quan chủ trì soạn thảo nêu lý do cần thận trọng. Từ giải thích này, Bộ Tài nguyên và Môi trường đề xuất hai phương án xử lý. Phương án 1: Bộ Xây dựng và Bộ Tài nguyên và Môi trường phối hợp trong quá trình dự thảo luật tiếp tục báo cáo Ban Cán sự đảng Chính phủ, Đảng đoàn Quốc hội xem xét báo cáo Bộ Chính trị cho phép người nước ngoài sở hữu nhà ở tại Việt Nam được sử dụng đất tại Việt Nam. Theo đó, Dự thảo sẽ sửa đổi quy định về người sử dụng đất tại Điều 5, Luật Đất đai và các quy định tại chương quy định về quyền và nghĩa vụ của người sử dụng đất để đảm bảo tương thích sau khi có ý kiến chỉ đạo của cấp có thẩm quyền. Phương án 2 được tính đến là, Nghị quyết số 18-NQ/TW đã có quy định về việc sử dụng không gian ngầm, không gian trên không. Vì vậy, có thể xem xét giải quyết vấn đề sử dụng đất của tổ chức, cá nhân nước ngoài thông qua bổ sung quy định mới liên quan đến người nước ngoài được sử dụng không gian xây dựng công trình gắn liền với đất giống như kinh nghiệm của một số nước hiện nay cho phép đất của một người nhưng tài sản trên đất thuộc sở hữu của người khác. Tuy nhiên, Dự thảo cũng chưa có quy định về vấn đề này, tức là vẫn đang bỏ ngỏ cả hai phương án. Theo quy định tại Điều 6, Dự thảo, “cá nhân người nước ngoài” không được xem là người sử dụng đất, không được Nhà nước giao đất, cho thuê đất, công nhận quyền sử dụng đất, nhận chuyển quyền sử dụng đất; thuê lại đất trong khu công nghiệp, cụm công nghiệp, khu công nghệ cao. Cần thống nhất Thông tin từ cuộc họp chuyên đề xây dựng pháp luật của Chính phủ tháng 8/2022 cho biết, đối với nội dung về tiếp cận đất đai của tổ chức kinh tế có vốn đầu tư nước ngoài, Thủ tướng yêu cầu bổ sung quy định về hạn chế và kiểm soát được việc tiếp cận các khu vực trọng yếu, nhạy cảm về quốc phòng, an ninh. Ngoài ra, Thủ tướng cũng chỉ đạo cân nhắc bổ sung quy định người nước ngoài thuộc đối tượng được phép sở hữu nhà ở theo pháp luật về nhà ở thì được quyền sử dụng đất ở để có căn cứ cấp giấy chứng nhận quyền sử dụng đất và tài sản gắn liền với đất nhằm thống nhất với Dự án Luật Nhà ở (sửa đổi) về đối tượng được sở hữu nhà ở là người nước ngoài. Xem xét lại quy định về người sử dụng đất đối với người nước ngoài để đảm bảo tính đồng bộ trong hệ thống pháp luật cũng là quan điểm của Liên đoàn Thương mại và Công nghiệp Việt Nam (VCCI) khi tham gia thẩm định Dự thảo Luật Đất đai (sửa đổi). Giữ như quy định hiện hành, nếu người nước ngoài bán nhà cho người Việt Nam thì vô hình trung, quyền của người mua là người Việt Nam sẽ không được đảm bảo. Đó là điều bất hợp lý mà theo VCCI, cần sửa đổi. Vướng mắc ở quy định về quyền sử dụng đất của người nước ngoài tại Việt Nam cũng được ông Nguyễn Văn Đỉnh, chuyên gia pháp lý đất đai, đầu tư xây dựng, kinh doanh bất động sản đề cập khá sâu trong hội thảo đầu tiên góp ý về Dự thảo. Ông Đỉnh phân tích, về mặt logic, người bán (người nước ngoài) không có quyền sử dụng đất thì đương nhiên người mua cũng không có quyền sử dụng đất (bởi không được nhận chuyển giao quyền này từ người bán). Như thế, người Việt Nam mua nhà ở của người nước ngoài chịu quy chế pháp lý như người nước ngoài (chỉ có quyền sở hữu nhà ở, mà không gắn với quyền sử dụng đất). Mặt khác, trong tờ trình đề nghị xây dựng Luật Nhà ở sửa đổi (dự kiến thông qua cùng thời điểm với Luật Đất đai sửa đổi), Bộ Xây dựng đề xuất tập trung giải quyết 8 nhóm chính sách lớn, đầu tiên là chính sách về sở hữu nhà ở: “Tiếp tục chính sách khuyến khích, tạo điều kiện thuận lợi cho cá nhân, tổ chức nước ngoài được mua và sở hữu nhà ở tại Việt Nam, phù hợp với thông lệ quốc tế, thu hút đầu tư, đồng thời vẫn bảo đảm an ninh, quốc phòng”. Nhưng chính sách khuyến khích cá nhân nước ngoài mua nhà ở sẽ không thể thực hiện trọn vẹn nếu không giải quyết được tận gốc vấn đề chứng nhận quyền sở hữu. “Để giải quyết tận gốc, Luật Đất đai (sửa đổi) cần thiết phải ghi nhận quyền sử dụng đất của cá nhân nước ngoài”, vị chuyên gia này góp ý. Sau khi được Ủy ban Kinh tế thẩm tra, Ủy ban Thường vụ Quốc hội cho ý kiến, xin ý kiến đại biểu chuyên trách, Dự thảo Luật Đất đai (sửa đổi) sẽ được trình Quốc hội tại Kỳ họp thứ tư (tháng 10/2022). Tránh lạm dụng trong thu hồi đất Sửa đổi Luật Đất đai, một trong các vấn đề được đặc biệt quan tâm là cơ chế thu hồi đất. Về vấn đề này, Thủ tướng yêu cầu, đối với các trường hợp Nhà nước thu hồi đất, cần cụ thể hóa trong Dự thảo các tiêu chí, điều kiện đối với trường hợp Nhà nước thu hồi đất, tránh tình trạng lạm dụng các trường hợp phát triển kinh tế để thu hồi đất, gây bức xúc trong nhân dân, nhất là thu hồi cho dự án nhà ở thương mại. Thủ tướng cũng lưu ý, đối với trường hợp dự án khu đô thị, dự án nhà ở thương mại vừa thuộc đối tượng thu hồi đất, vừa thuộc đối tượng nhận chuyển nhượng, thì cần có quy định cụ thể khi nào thực hiện thu hồi đất, khi nào thực hiện nhận chuyển nhượng.\n",
    "\"\"\"\n",
    "\n",
    "\n",
    "output = predict_sample(input)\n",
    "\n",
    "if (output[0] == -1):\n",
    "    print(\"Bai viet co kha nang tieu cuc cao !!!\")   \n",
    "else:\n",
    "    print(\"Bai viet co kha nang tieu cuc thap :3\")"
   ]
  },
  {
   "cell_type": "markdown",
   "metadata": {},
   "source": []
  },
  {
   "cell_type": "code",
   "execution_count": 111,
   "metadata": {},
   "outputs": [
    {
     "name": "stdout",
     "output_type": "stream",
     "text": [
      "Bai viet co kha nang tieu cuc cao !!!\n"
     ]
    }
   ],
   "source": [
    "input  = \"\"\"Cơ quan Cảnh sát Điều tra Công an tỉnh Khánh Hòa vừa đề nghị Viện Kiểm sát Nhân dân tỉnh Khánh Hòa truy tố các ông Nguyễn Chiến Thắng, cựu Chủ tịch UBND tỉnh Khánh Hòa; Đào Công Thiên, cựu Phó Chủ tịch UBND tỉnh và Võ Tấn Thái, cựu Giám đốc Sở Tài nguyên và Môi trường về tội “Vi phạm các quy định về quản lý đất đai” xảy ra tại dự án Nha Trang Golden Gate tại địa chỉ 28E Trần Phú, phường Vĩnh Nguyên, thành phố Nha Trang. Dự án Tổ hợp khách sạn và căn hộ du lịch cao cấp Nha Trang Golden Gate rộng hơn 20 ngàn m2, có vị trí đắc địa, nằm trải dài trên đường Trần Phú, con đường ven biển đẹp nhất thành phố Nha Trang. Đây là khu đất trước đây do Công ty Điện lực Khánh Hòa sử dụng. Tháng 2/2013, UBND tỉnh Khánh Hòa yêu cầu Điện lực Khánh Hòa di dời các cơ sở ra khỏi khu đất. Đến nay, Khu đất 28E, đường Trần Phú, TP Nha Trang vẫn bỏ hoang Sau đó, Ban Thường vụ Tỉnh ủy Khánh Hòa đã có văn bản thống nhất giao khu vực này cho dự án Nha Trang Golden Gate do Công ty TNHH Đỉnh Vàng Nha Trang làm chủ đầu tư có diện tích trên 14.200 m2. Mục đích dự án là xây dựng khu tổ hợp khách sạn và căn hộ du lịch cao cấp có tiêu chuẩn 5 sao với tổng mức đầu tư 1.250 tỷ đồng. Đến tháng 2/2016, UBND tỉnh Khánh Hòa có quyết định giao đất, cho thuê đất đối với chủ đầu tư, tổng diện tích dự án tăng lên hơn 20.000 m2. Đặc biệt, dự án này có diện tích đất không thu tiền sử dụng đất lên đến hơn 7.000 m2, gồm đất công viên, giao thông, sân bãi. Sau khi xây dựng, chủ đầu tư bàn giao lại cho nhà nước quản lý. Tháng 9/2016, Cục Thuế tỉnh Khánh Hòa có quyết định miễn tiền thuế đất phải nộp lên đến 3,4 tỷ đồng. Chủ đầu tư chỉ phải nộp tiền thuê đất để thực hiện dự án Nha Trang Golden Gate khoảng 75,9 tỷ đồng. Khu đất vàng 28E Trần Phú nằm bên bờ biển vịnh Nha Trang Sau khi chủ đầu tư hoàn tất nghĩa vụ tài chính, tháng 4/2018, UBND tỉnh Khánh Hòa đã cấp giấy chứng nhận Quyền sử dụng đất, Quyền sở hữu nhà ở và tài sản gắn liền với đất trên diện tích hơn 12.900 m2; trong đó có hơn 4.600 m2 đất ở tại đô thị, hơn 8 ngàn m2 đất thương mại dịch vụ. Theo Kết luận điều tra, việc ông Nguyễn Chiến Thắng ký cấp Giấy chứng nhận đầu tư, điều chỉnh và thỏa thuận phương án kiến trúc cho dự án là hành vi lạm quyền, biến một dự án chưa được Thủ tướng chấp thuận chủ trương đầu tư trở thành một dự án được công nhận, được thỏa thuận phương án kiến trúc. Qua các quyết định này, doanh nghiệp được giao đất, cho thuê đất không đúng căn cứ, không đúng đối tượng, không đúng hình thức của Luật Đất đai 2013. Trong khi đó, với tư cách Phó Chủ tịch UBND tỉnh Khánh Hòa, ông Đào Công Thiên đã có hành vi giao đất, cho thuê đất là trái với pháp luật đất đai. Ngoài ra, việc giao đất, cho thuê đất không qua đấu giá quyền sử dụng đất hoặc đấu thầu dự án có sử dụng đất là trái pháp luật về nhà ở. Ông Nguyễn Chiến Thắng, cựu Chủ tịch UBND tỉnh Khánh Hòa đã bị khởi tố trong một vụ án khác Với vai trò là Giám đốc Sở Kế hoạch và Đầu tư, sau đó là Giám đốc Sở Tài nguyên và Môi trường, ông Võ Tấn Thái đã ký các Tờ trình tham mưu UBND tỉnh chỉ định nhà đầu tư dự án và ký hàng loạt tờ trình khác trái với Luật Đất đai 2013.\n",
    "\"\"\"\n",
    "\n",
    "output = predict_sample(input)\n",
    "\n",
    "if (output[0] == -1):\n",
    "    print(\"Bai viet co kha nang tieu cuc cao !!!\")   \n",
    "else:\n",
    "    print(\"Bai viet co kha nang tieu cuc thap :3\")"
   ]
  },
  {
   "cell_type": "code",
   "execution_count": 112,
   "metadata": {},
   "outputs": [],
   "source": [
    "import pickle"
   ]
  },
  {
   "cell_type": "code",
   "execution_count": 113,
   "metadata": {},
   "outputs": [],
   "source": [
    "pickle.dump(selected, open('Data/model/rf.pkl', 'wb'))"
   ]
  },
  {
   "cell_type": "code",
   "execution_count": 116,
   "metadata": {},
   "outputs": [],
   "source": [
    "pickle.dump(Tfidf_vect, open(\"Data/model/tfidf.pickle\", \"wb\"))"
   ]
  },
  {
   "cell_type": "code",
   "execution_count": null,
   "metadata": {},
   "outputs": [],
   "source": []
  }
 ],
 "metadata": {
  "kernelspec": {
   "display_name": "Python 3.10.4 64-bit",
   "language": "python",
   "name": "python3"
  },
  "language_info": {
   "codemirror_mode": {
    "name": "ipython",
    "version": 3
   },
   "file_extension": ".py",
   "mimetype": "text/x-python",
   "name": "python",
   "nbconvert_exporter": "python",
   "pygments_lexer": "ipython3",
   "version": "3.10.4"
  },
  "orig_nbformat": 4,
  "vscode": {
   "interpreter": {
    "hash": "369f2c481f4da34e4445cda3fffd2e751bd1c4d706f27375911949ba6bb62e1c"
   }
  }
 },
 "nbformat": 4,
 "nbformat_minor": 2
}
