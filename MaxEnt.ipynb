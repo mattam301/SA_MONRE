{
 "cells": [
  {
   "cell_type": "code",
   "execution_count": 1,
   "metadata": {},
   "outputs": [],
   "source": [
    "import pandas as pd\n",
    "from nltk.classify.maxent import MaxentClassifier\n",
    "from sklearn.model_selection import train_test_split\n",
    "import nltk\n",
    "from sklearn.metrics import classification_report\n",
    "from sklearn.metrics import accuracy_score"
   ]
  },
  {
   "cell_type": "code",
   "execution_count": 2,
   "metadata": {},
   "outputs": [
    {
     "data": {
      "text/html": [
       "<div>\n",
       "<style scoped>\n",
       "    .dataframe tbody tr th:only-of-type {\n",
       "        vertical-align: middle;\n",
       "    }\n",
       "\n",
       "    .dataframe tbody tr th {\n",
       "        vertical-align: top;\n",
       "    }\n",
       "\n",
       "    .dataframe thead th {\n",
       "        text-align: right;\n",
       "    }\n",
       "</style>\n",
       "<table border=\"1\" class=\"dataframe\">\n",
       "  <thead>\n",
       "    <tr style=\"text-align: right;\">\n",
       "      <th></th>\n",
       "      <th>Unnamed: 0</th>\n",
       "      <th>text</th>\n",
       "      <th>label</th>\n",
       "    </tr>\n",
       "  </thead>\n",
       "  <tbody>\n",
       "    <tr>\n",
       "      <th>0</th>\n",
       "      <td>0</td>\n",
       "      <td>tuần , báo sggp tổ_chức tọa_đàm “ góp_ý dự_thả...</td>\n",
       "      <td>-1</td>\n",
       "    </tr>\n",
       "    <tr>\n",
       "      <th>1</th>\n",
       "      <td>1</td>\n",
       "      <td>nghị_quyết 18 - nq / tw yêu_cầu quy_định thuế ...</td>\n",
       "      <td>1</td>\n",
       "    </tr>\n",
       "    <tr>\n",
       "      <th>2</th>\n",
       "      <td>2</td>\n",
       "      <td>, đất đánh_thuế . ( ảnh minh_họa : ttxvn ) 16/...</td>\n",
       "      <td>1</td>\n",
       "    </tr>\n",
       "    <tr>\n",
       "      <th>3</th>\n",
       "      <td>3</td>\n",
       "      <td>quy_định khung giá đất , sở_hữu nhà_đất đánh_t...</td>\n",
       "      <td>1</td>\n",
       "    </tr>\n",
       "    <tr>\n",
       "      <th>4</th>\n",
       "      <td>4</td>\n",
       "      <td>nghị_quyết 18 - nq / tw xây_dựng cơ_sở tổng_kế...</td>\n",
       "      <td>1</td>\n",
       "    </tr>\n",
       "  </tbody>\n",
       "</table>\n",
       "</div>"
      ],
      "text/plain": [
       "   Unnamed: 0                                               text  label\n",
       "0           0  tuần , báo sggp tổ_chức tọa_đàm “ góp_ý dự_thả...     -1\n",
       "1           1  nghị_quyết 18 - nq / tw yêu_cầu quy_định thuế ...      1\n",
       "2           2  , đất đánh_thuế . ( ảnh minh_họa : ttxvn ) 16/...      1\n",
       "3           3  quy_định khung giá đất , sở_hữu nhà_đất đánh_t...      1\n",
       "4           4  nghị_quyết 18 - nq / tw xây_dựng cơ_sở tổng_kế...      1"
      ]
     },
     "execution_count": 2,
     "metadata": {},
     "output_type": "execute_result"
    }
   ],
   "source": [
    "df = pd.read_csv('data_after_preprocessing.csv')\n",
    "df.head()"
   ]
  },
  {
   "cell_type": "code",
   "execution_count": 3,
   "metadata": {},
   "outputs": [],
   "source": [
    "df_train, df_test = train_test_split(df,test_size=0.15,random_state=25)"
   ]
  },
  {
   "cell_type": "code",
   "execution_count": 4,
   "metadata": {},
   "outputs": [
    {
     "name": "stdout",
     "output_type": "stream",
     "text": [
      "(641, 3)\n",
      "(114, 3)\n"
     ]
    }
   ],
   "source": [
    "print(df_train.shape)\n",
    "print(df_test.shape)"
   ]
  },
  {
   "cell_type": "code",
   "execution_count": 5,
   "metadata": {},
   "outputs": [],
   "source": [
    "list_label_train = df_train['label'].to_list()\n",
    "list_text_train = df_train['text'].to_list()\n",
    "list_train = []\n",
    "for i in range(len(list_text_train)):\n",
    "    list_train.append((list_text_train[i].split(' '),list_label_train[i]))\n",
    "\n",
    "list_label_test = df_test['label'].to_list()\n",
    "list_text_test = df_test['text'].to_list()\n",
    "list_test = []\n",
    "for i in range(len(list_label_test)):\n",
    "    list_test.append((list_text_test[i].split(' '),list_label_test[i]))"
   ]
  },
  {
   "cell_type": "code",
   "execution_count": 6,
   "metadata": {},
   "outputs": [
    {
     "name": "stdout",
     "output_type": "stream",
     "text": [
      "(['vốn', 'đầu_tư', 'công', 'hai', 'nguồn', 'đầu_tư', 'tăng_trưởng', 'kinh_tế', '.', 'tuy_nhiên', ',', ',', 'giải_ngân', 'nguồn', 'vốn', 'đầu_tư', 'công', 'tỉnh', 'đồng', 'nai', 'liên_tiếp', 'chậm', 'ảnh_hưởng', 'phát_triển', 'kinh_tế', '-', 'xã_hội', ',', 'hiệu_quả', 'sử_dụng', 'vốn', '…', '1', ':', 'động_lực', 'tăng_trưởng', 'bị', 'ảnh_hưởng', 'chiếm', 'tỷ_lệ', 'trong', 'tổng', 'vốn', 'đầu_tư', 'toàn', 'xã_hội', 'vốn', 'đầu_tư', 'công', 'vai_trò', 'là', 'nguồn', 'vốn', '“', 'mồi', '”', 'dẫn_dắt', 'tăng_trưởng', '.', 'chính', 'vì_vậy', ',', 'chậm', 'giải_ngân', 'vốn', 'đầu_tư', 'công', 'ảnh_hưởng', 'trực_tiếp', 'đến', 'tăng_trưởng', 'toàn', 'xã_hội', '.', 'dự_án', 'xây_dựng', 'cầu', 'vàm', 'sứt', 'hiện', 'bị', 'chậm', 'tiến_độ', 'vướng', 'mặt_bằng', '.', 'ảnh', ':', 'phạm', 'tùng', '*', 'chật_vật', 'giải_ngân', 'vốn', 'nguồn', 'vốn', 'đầu_tư', 'công', 'có', 'vai_trò', 'trong', 'việc', 'tạo', 'tăng_trưởng', ',', 'phát_triển', 'kinh_tế', '.', 'chính', 'vì_vậy', ',', 'địa_phương', ',', 'hằng', 'năm', ',', 'đồng', 'nai', 'xác_định', 'thực_hiện', 'giải_ngân', 'nguồn', 'vốn', 'đầu_tư', 'công', 'là', 'một', 'trong', 'nhiệm_vụ', 'trọng_tâm', ',', 'quan_trọng', '.', 'thực_tế', ',', 'trong', '3', 'năm', 'trở_lại', ',', 'giải_ngân', 'vốn', 'đầu_tư', 'công', 'trên', 'địa_bàn', 'tỉnh', 'nhiều', 'khó_khăn', 'trong', 'tình_trạng', '“', 'đầu', 'năm', 'đủng_đỉnh', ',', 'năm', 'vội_vàng', '”', '.', 'phó', 'chủ_tịch', 'ubnd', 'tỉnh', 'võ', 'đức', ',', 'nguyên_nhân', 'lớn', 'đến', 'tình_trạng', 'chậm', 'tiến_độ', 'các', 'dự_án', 'đầu_tư', 'công', 'chủ_yếu', 'là', 'do', 'khó_khăn', 'trong', 'khâu', 'giải_phóng', 'mặt_bằng', '.', 'năm', '2020', ',', 'tổng', 'vốn', 'đầu_tư', 'công', 'là', '25', 'ngàn', 'tỷ', 'đồng', ',', ':', 'nguồn', 'vốn', 'ngân_sách', 'trung_ương', ',', 'tỉnh', 'và', 'huyện', 'thực_hiện', 'các', 'công_trình', ',', 'dự_án', '.', 'tuy_nhiên', ',', 'kết_quả', 'giải_ngân', 'của', 'tỉnh', 'đầu', 'năm', 'đến', 'đầu', '11-2020', 'chậm', 'bình_quân', 'khoảng', '10', '%', '.', 'đến', 'năm', ',', 'giải_ngân', 'các', 'công_trình', 'trên', '80', '%', '.', 'đến', 'năm', '2021', ',', 'tổng', 'nguồn', 'vốn', 'đầu_tư', 'công', 'điều_chỉnh', 'là', 'hơn', '24,4', 'ngàn', 'tỷ', 'đồng', '.', 'theo', 'kế_hoạch', 'ra', ',', 'trong', 'năm', '2021', ',', 'đồng', 'nai', 'giải_ngân', 'đạt', 'từ', '95', '%', 'trở', '.', 'tuy_nhiên', ',', 'quá_trình', 'giải_ngân', 'nguồn', 'vốn', 'chậm', ',', 'gặp', 'nhiều', 'khó_khăn', '.', 'trong', '6', 'tháng', 'đầu', 'năm', '2021', ',', 'tổng', 'nguồn', 'vốn', 'đầu_tư', 'công', 'giải_ngân', 'chỉ', 'đạt', '30', '%', 'kế_hoạch', 'vốn', 'được', 'giao', '.', 'chính', 'vì_vậy', ',', 'mục_tiêu', 'giải_ngân', 'nguồn', 'vốn', 'ban_đầu', 'được', '“', 'hạ', '”', 'đạt', '90', '%', '.', 'đến', '31-1-2021', ',', 'nguồn', 'vốn', 'đầu_tư', 'công', 'trên', 'địa_bàn', 'tỉnh', 'được', 'giải_ngân', 'đạt', 'gần', '15', 'ngàn', 'tỷ', 'đồng', ',', 'đạt', 'mục_tiêu', 'kế_hoạch', 'đề', 'ra', '.', 'tuy_nhiên', ',', 'thực_tế', ',', 'giải_ngân', 'nguồn', 'vốn', 'đầu_tư', 'công', 'trong', 'năm', '2021', 'cũng', 'diễn', 'ra', 'hết_sức', 'khó_khăn', 'và', 'chậm_chạp', '.', 'đặc_biệt', ',', 'tỷ_lệ', 'giải_ngân', 'của', 'một_số', 'đơn_vị', 'trên', 'địa_bàn', 'tỉnh', 'kết_thúc', 'năm', '2021', 'là', '0', '%', '.', 'theo', 'sở', 'kh-đt', ',', 'giải_ngân', 'nguồn', 'vốn', 'đầu_tư', 'công', 'trong', 'năm', '2021', 'bị', 'chậm', 'và', 'gặp', 'nhiều', 'khó_khăn', 'do', 'đây', 'là', 'năm', 'ảnh_hưởng', 'nặng_nề', 'của', 'dịch_bệnh', 'covid-19', '.', 'đồng', 'nai', 'đã', 'có', '3', 'tháng', 'liền', 'phải', 'thực_hiện', 'giãn', 'xã_hội', 'để', 'phòng', ',', 'chống', 'dịch', '.', 'do_đó', ',', 'việc', 'triển_khai', 'thi_công', 'các', 'dự_án', 'cũng', 'như', 'hoàn_thiện', 'các', 'thủ_tục', 'đầu_tư', 'bị', 'ngưng_trệ', ',', 'ảnh_hưởng', 'tiến_độ', 'giải_ngân', 'nguồn', 'vốn', '.', 'đến', 'các', 'biện_pháp', 'phòng', ',', 'chống', 'dịch', 'covid-19', 'được', 'nới_lỏng', ',', 'giá', 'các', 'vật_liệu', 'xây_dựng', 'lại', 'liên_tục', 'cao', ',', 'các', 'dự_án', 'bị', 'đội', 'vốn', ',', 'chủ', 'đầu_tư', ',', 'nhà_thầu', 'thi_công', 'phải', 'chờ', 'điều_chỉnh', 'lại', 'giá', ',', 'kế_hoạch', 'thi_công', ',', 'gây', 'cản_trở', 'tiến_độ', 'các', 'dự_án', '.', 'năm', '2022', ',', 'tổng', 'vốn', 'đầu_tư', 'công', 'trên', 'địa_bàn', 'tỉnh', 'là', 'hơn', '14,1', 'ngàn', 'tỷ', 'đồng', '.', 'đồng', 'nai', 'tiếp_tục', 'đặt', 'mục_tiêu', 'giải_ngân', 'đạt', 'từ', '95', '%', 'trở_lên', '.', 'giám_đốc', 'sở', 'kh-đt', 'nguyễn_hữu_nguyên', ',', 'đến', 'ngày', '18-8', ',', 'đồng', 'nai', 'đã', 'giải_ngân', 'đạt', 'gần', '34', '%', 'đối_với', 'nguồn', 'vốn', 'ngân_sách', 'địa_phương', 'và', 'gần', '40', '%', 'nguồn', 'vốn', 'ngân_sách', 'trung_ương', '.', 'kết_quả', 'cách', 'mục_tiêu', 'đồng', 'nai', 'đề', 'ra', 'là', 'kết_thúc', '9', 'tháng', 'của', 'năm', ',', 'tỷ_lệ', 'giải_ngân', 'phải', 'đạt', '60', '%', '.', '“', 'các', 'địa_phương', 'và', 'các', 'đơn_vị', 'liên_quan', 'đã', 'có', 'nhiều', 'cố_gắng', ',', 'nỗ_lực', ',', 'tuy_nhiên', 'tình_hình', 'giải_ngân', 'vốn', 'đầu_tư', 'công', 'trên', 'địa_bàn', 'tỉnh', 'trong', '8', 'tháng', 'đầu', 'năm', 'vẫn', 'chậm', '”', '-', 'nguyễn_hữu_nguyên', 'đánh_giá', '.', '*', 'nhiều', '“', 'nút', 'thắt', '”', 'kìm_hãm', 'tiến_độ', 'giải_ngân', 'chính_thức', 'ký', 'hợp_đồng', 'thi_công', 'từ', 'cuối', 'năm', '2020', ',', 'tuy_nhiên', ',', 'đến', ',', 'dự_án', 'chống', 'ngập', 'khu_vực', 'suối', 'chùa', ',', 'suối', 'lúa', 'và', 'suối', 'cầu', 'quan', ',', 'tp', '.', 'biên', 'hòa', 'vẫn', 'chưa_thể', 'khởi_công', 'thực_hiện', '.', 'nguyên_nhân', 'chính', 'dẫn', 'đến', 'tình_trạng', 'này', 'là', 'do', 'dự_án', 'vẫn', 'được', 'bàn_giao', 'mặt_bằng', 'để', 'phục_vụ', 'thi_công', '.', 'dự_án', 'chống', 'ngập', 'khu_vực', 'suối', 'chùa', ',', 'suối', 'bà', 'lúa', 'và', 'suối', 'cầu', 'quan', 'là', 'một', 'trong', 'rất', 'nhiều', 'dự_án', 'trên', 'địa_bàn', 'tỉnh', 'bị', 'chậm', 'tiến_độ', 'do', 'những', 'vướng_mắc', 'trong', 'công_tác', 'giải_phóng', 'mặt_bằng', '.', 'đây', 'là', 'một', 'trong', 'những', 'nguyên_nhân', 'lớn', 'nhất', 'ảnh_hưởng', 'đến', 'tiến_độ', 'giải_ngân', 'nguồn', 'vốn', 'đầu_tư', 'công', 'nhiều', 'năm', 'qua', '.', 'giám_đốc', 'ban', 'quản_lý', 'dự_án', 'đầu_tư', 'xây_dựng', 'tỉnh', 'ngô', 'ân', 'cho', 'biết', ',', 'đến', 'tháng', '8-2022', ',', 'tỷ_lệ', 'giải_ngân', 'nguồn', 'vốn', 'đối_với', 'các', 'dự_án', 'được', 'giao', 'cho', 'đơn_vị', 'làm_chủ', 'đầu_tư', 'chỉ', 'đạt', 'khoảng', '15', '%', 'tổng', 'nguồn', 'vốn', 'được', 'bố_trí', ',', 'hơn', 'mức', 'bình_quân', 'chung', 'của', 'tỉnh', '.', 'khó_khăn', ',', 'ảnh_hưởng', 'nhiều', 'nhất', 'đến', 'công_tác', 'giải_ngân', 'nguồn', 'vốn', 'cũng', 'được', 'ông', 'ân', 'chỉ', 'ra', 'là', 'do', 'những', 'vướng_mắc', 'trong', 'công_tác', 'giải_phóng', 'mặt_bằng', '.', 'hiện_nay', ',', 'ban', 'quản_lý', 'dự_án', 'đầu_tư', 'xây_dựng', 'tỉnh', 'đang', 'làm_chủ', 'đầu_tư', 'có', '23', 'dự_án', 'chuyển_tiếp', 'từ', 'các', 'năm', '.', 'trong', 'số', 'này', ',', '14', 'dự_án', 'đang', 'gặp', 'vướng_mắc', 'mặt_bằng', '.', '“', '23', 'dự_án', 'có', 'tổng', 'vốn', 'được', 'bố_trí', 'hơn', '200', 'tỷ', 'đồng', '14', 'dự_án', 'đang', 'gặp', 'vướng_mắc', 'về', 'mặt_bằng', 'chiếm', 'số', 'vốn', 'lên', 'đến', '170', 'tỷ', '.', 'mặt_bằng', 'bàn_giao', 'chậm', ',', 'da', 'beo', ',', 'đứt_đoạn', 'cho', 'việc', 'thi_công', 'bị', 'chậm', ',', 'ảnh_hưởng', 'lớn', 'đến', 'công_tác', 'giải_ngân', 'nguồn', 'vốn', '”', '-', 'ông', 'ngô', 'thế', 'ân', 'cho', '.', 'chủ_tịch', 'ubnd', 'h', '.', 'thống_nhất', 'mai', 'văn', 'hiền', 'nhận_định', ',', 'nhiều', 'năm', 'nay', ',', 'địa_phương', 'đã', 'cố_gắng', 'dồn_lực', 'để', 'giải_ngân', 'hết', 'vốn', 'được', 'bố_trí', ',', 'song', 'những', 'công_trình', ',', 'dự_án', 'phải', 'thu_hồi', 'đất', 'khâu', 'giải_phóng', 'mặt_bằng', 'kéo_dài', ',', 'ảnh_hưởng', 'trực_tiếp', 'đến', 'tiến_độ', '.', 'dự_án', 'không', 'theo', 'lộ_trình', 'không', 'giải_ngân', 'được', ',', 'không', 'tạo', 'đột_phá', 'trong', 'phát_triển', 'kinh_tế', '-', 'xã_hội', '.', 'cạnh', 'vướng_mắc', 'công_tác', 'giải_phóng', 'mặt_bằng', ',', 'tiến_độ', 'giải_ngân', 'nguồn', 'vốn', 'đầu_tư', 'công', 'trên', 'địa_bàn', 'tỉnh', 'trong', 'những', 'năm', 'qua', 'cũng', 'gặp', 'rất', 'nhiều', 'khó_khăn', 'do', 'nhiều', 'nguyên_nhân', 'khác', '.', 'giám_đốc', 'sở', 'kh-đt', 'nguyễn_hữu_nguyên', 'cho', ',', 'hơn', '2', 'năm', 'qua', 'do', 'ảnh_hưởng', 'của', 'dịch_bệnh', 'covid-19', 'nên', 'tiến_độ', 'lập', 'hồ_sơ', 'cũng', 'như', 'công_tác', 'giải_phóng', 'mặt_bằng', 'các', 'dự_án', 'bị', 'kéo_dài', '.', 'đặc_biệt', ',', 'trong', 'năm', '2021', ',', 'do', 'ảnh_hưởng', 'của', 'dịch', 'bênh', 'nên', 'nhiều', 'dự_án', 'khởi_công', 'phải', 'đến', 'thời_điểm', 'cuối', 'năm', 'mới', 'hoàn_thành', 'các', 'thủ_tục', 'đấu_thầu', 'để', 'khởi_công', '.', 'vì_vậy', ',', 'các', 'dự_án', 'được', 'tạm_ứng', 'nguồn', 'vốn', 'để', 'thực_hiện', 'hợp_đồng', 'khá', 'lớn', '.', 'đến', 'năm', '2022', ',', 'các', 'dự_án', 'này', 'được', 'bố_trí', 'nguồn', 'vốn', 'chuyển_tiếp', 'để', 'thực_hiện', '.', 'tuy_nhiên', ',', 'phần_lớn', 'khối_lượng', 'thực_hiện', 'để', 'giải_ngân', 'giai_đoạn', 'đầu', 'năm', '2022', 'phải', 'hoàn_lại', 'vốn', 'đã', 'tạm_ứng', 'nên', 'tỷ_lệ', 'giải_ngân', 'của', 'các', 'dự_án', 'này', 'đạt', 'thấp', '.', 'đồng_thời', ',', 'từ', 'đầu', 'năm', '2022', 'đến', 'nay', ',', 'do', 'chưa', 'có', 'đơn_giá', 'bồi_thường', 'cây_trồng', 'nên', 'các', 'địa_phương', 'cũng', 'gặp', 'khó_khăn', 'trong', 'công_tác', 'giải_phóng', 'mặt_bằng', 'thực_hiện', 'các', 'dự_án', '.', 'này', 'cũng', 'ảnh_hưởng', 'đến', 'tiến_độ', 'giải_ngân', 'nguồn', 'vốn', 'đầu_tư', 'công', '.', 'phó', 'chủ_tịch', 'ubnd', 'h', '.', 'xuân_lộc', 'lê_khắc_sơn', 'chia_sẻ', ':', '“', 'từ', 'đầu', 'năm', '2022', 'đến', 'nay', ',', 'kết_quả', 'giải_ngân', 'nguồn', 'vốn', 'đầu_tư', 'công', 'của', 'h', '.', 'xuân_lộc', 'thấp', 'còn', 'nguyên_nhân', 'là', 'do', 'một_số', 'dự_án', 'chưa', 'có', 'kế_hoạch', 'sử_dụng', 'đất', 'và', 'phải', 'đợi', 'tỉnh', 'phê_duyệt', 'mới', 'tiếp_tục', 'triển_khai', ',', 'đơn_giá', 'cây_trồng', '.', 'hơn', '7', 'tháng', 'của', 'năm', '2022', ',', 'giải_ngân', 'của', 'huyện', 'đạt', 'trên', '30', '%', 'và', 'huyện', 'đang', 'nỗ_lực', 'để', 'có_thể', 'hoàn_thành', 'kế_hoạch', '”', '.', 'tiến_độ', 'giải_ngân', 'nguồn', 'vốn', 'đầu_tư', 'công', 'trên', 'địa_bàn', 'tỉnh', 'nhiều', 'năm', 'qua', 'bị', 'chậm', 'còn', 'có', 'nguyên_nhân', 'đến', 'từ', 'năng_lực', 'của', 'các', 'nhà_thầu', 'thi_công', '.', 'đặc_biệt', 'là', 'tình_trạng', 'nhà_thầu', 'trúng_thầu', 'nhiều', 'công_trình', 'nhưng', 'không', 'đủ', 'năng_lực', 'thi_công', 'dẫn', 'đến', 'việc', 'chậm', 'tiến_độ', 'dự_án', 'và', 'giải_ngân', 'nguồn', 'vốn', '.', 'phạm', 'tùng', '-', 'hương', 'giang', 'bài', '2', ':', 'gỡ', '“', 'nút', 'thắt', '”', 'cho', 'giải_ngân', 'vốn', 'đầu_tư', 'công', 'nguồn', 'vốn', 'đầu_tư', 'công', 'là', 'một', 'trong', 'hai', 'nguồn', 'đầu_tư', 'chính', 'tạo', 'nên', 'tăng_trưởng', 'kinh_tế', '.', 'tuy_nhiên', ',', 'nhiều', 'năm', 'qua', ',', 'việc', 'giải_ngân', 'nguồn', 'vốn', 'đầu_tư', 'công', 'tỉnh', 'đồng', 'nai', 'liên_tiếp', 'bị', 'chậm', '...', 'báo', 'đồng', 'nai', 'điện_tử', ',', 'cơ_quan', 'của', 'đảng_bộ', ',', 'chính_quyền', 'và', 'nhân_dân', 'tỉnh', 'đồng', 'nai'], -1)\n",
      "(['nghị_quyết', '18', '-', 'nq', '/', 'tw', ',', '10', 'thực_hiện', 'nghị_quyết', 'số', '19', '-', 'nq', '/', 'tw', 'ban_chấp_hành', 'trung_ương', 'đảng', 'khoá', 'xi', ',', 'công_tác', 'quản_lý', 'sử_dụng', 'đất', 'hạn_chế', '.', 'một_số', 'nội_dung', 'của', 'nghị_quyết', 'thể_chế_hoá', 'thể_chế_hoá', 'chậm', ',', 'chưa', 'đầy_đủ', ';', 'luật', 'đất_đai', 'và', 'một_số', 'văn_bản', 'pháp_luật', 'liên_quan', 'còn', 'chồng_chéo', ',', 'chưa', 'thống_nhất', ',', 'đồng_bộ', '.', 'một_số', 'trường_hợp', ',', 'chính_sách', ',', 'pháp_luật', 'đất_đai', 'chưa', 'theo', 'kịp', 'thay_đổi', 'nhanh_chóng', 'của', 'thực_tiễn', '.', 'khắc_phục', 'tình_trạng', ',', 'nghị_quyết', 'số', '18', '-', 'nq', '/', 'tw', 'hội_nghị', '5', 'ban_chấp_hành', 'trung_ương', 'đảng', 'khóa', 'xiii', 'đề', 'nhiệm_vụ', ',', 'giải_pháp', ':', 'hoàn_thiện', 'thể_chế', ',', 'chính_sách', 'quản_lý', 'và', 'sử_dụng', 'đất', 'đồng_bộ', 'thể_chế', 'phát_triển', 'kinh_tế_thị_trường', 'định_hướng', 'xã_hội_chủ_nghĩa', ',', 'trọng_tâm', 'sửa_đổi', ',', 'bổ_sung', ',', 'hoàn_thiện', 'luật', 'đất_đai', 'năm', '2013', 'và', 'văn_bản', 'quy_phạm_pháp_luật', 'có', 'liên_quan', ',', 'bảo_đảm', 'đồng_bộ', ',', 'thống_nhất', ',', 'đáp_ứng', 'yêu_cầu', 'phát_triển', '.', 'là', ',', 'đổi_mới', 'và', 'nâng', 'chất_lượng', 'quy_hoạch', ',', 'kế_hoạch', 'sử_dụng', 'đất', 'các', 'quy_hoạch', 'quốc_gia', 'quy_hoạch', 'sử_dụng', 'đất', 'và', 'các', 'quy_hoạch', 'ngành', ',', 'lĩnh_vực', 'có', 'sử_dụng', 'đất', 'bảo_đảm', 'phù_hợp', ',', 'thống_nhất', ',', 'đồng_bộ', ',', 'gắn_kết', 'chặt_chẽ', ',', 'thúc_đẩy', 'lẫn', 'để', 'phát_triển', '.', 'quy_hoạch', ',', 'kế_hoạch', 'sử_dụng', 'đất', 'được', 'lập', 'quốc_gia', ',', 'cấp', 'tỉnh', 'và', 'cấp', 'huyện', ',', 'đáp_ứng', 'yêu_cầu', 'thực_hiện', 'chiến_lược', 'phát_triển', 'kinh_tế', '-', 'xã_hội', ',', 'bền_vững', ';', 'bảo_đảm', 'quốc_phòng', ',', 'an_ninh', ';', 'bảo_vệ', 'môi_trường', ',', 'thích_ứng', 'với', 'biến_đổi', 'khí_hậu', '.', 'nội_dung', 'quy_hoạch', 'sử_dụng', 'đất', 'phải', 'kết_hợp', 'chỉ_tiêu', 'các', 'đất', 'gắn', 'với', 'không_gian', ',', 'phân_vùng', 'sử_dụng', 'đất', ',', 'hệ_sinh_thái', 'tự_nhiên', ',', 'thể_hiện', 'được', 'thông_tin', 'đất', '.', 'xác_định', 'chỉ_tiêu', 'sử_dụng', 'đất', 'phải', 'phù_hợp', 'với', 'nhu_cầu', 'sử_dụng', 'đất', ',', 'lãng_phí', 'trong', 'phân_bổ', ',', 'quản_lý', 'và', 'sử_dụng', 'đất', '.', 'quy_định', ',', 'chặt_chẽ', 'việc', 'phê_duyệt', ',', 'ban_hành', 'kế_hoạch', 'sử_dụng', 'đất', 'hằng', 'năm', '.', 'nhà_nước', 'bảo_đảm', 'nguồn_lực', 'để', 'lập_quy_hoạch', 'sử_dụng', 'đất', 'và', 'các', 'quy_hoạch', 'ngành', ',', 'lĩnh_vực', 'có', 'sử_dụng', 'đất', '.', 'hai', 'là', ',', 'hoàn_thiện', 'các', 'quy_định', 'về', 'giao', 'đất', ',', 'thuê', 'đất', ',', 'mục_đích', 'sử_dụng', 'đất', 'thực_hiện', 'việc', 'giao', 'đất', ',', 'cho', 'thuê', 'đất', 'chủ_yếu', 'thông_qua', 'đấu_giá', 'quyền', 'sử_dụng', 'đất', ',', 'đấu_thầu', 'dự_án', 'có', 'sử_dụng', 'đất', '.', 'quy_định', 'cụ_thể', 'về', 'đấu_giá', 'quyền', 'sử_dụng', 'đất', ',', 'đấu_thầu', 'dự_án', 'có', 'sử_dụng', 'đất', ';', 'hạn_chế', 'và', 'quy_định', 'chặt_chẽ', 'các', 'trường_hợp_giao', 'đất', ',', 'cho', 'thuê', 'đất', 'thông_qua', 'đấu_giá', 'quyền', 'sử_dụng', 'đất', ',', 'đấu_thầu', 'dự_án', 'có', 'sử_dụng', 'đất', ';', 'bảo_đảm', 'công_khai', ',', 'minh_bạch', '.', 'có', 'cơ_chế', 'đồng_bộ', ',', 'cụ_thể', 'để', 'xử_lý', 'vi_phạm', 'quy_định', 'về', 'giao', 'đất', ',', 'cho', 'thuê', 'đất', ',', 'nhất_là', 'liên_quan', 'đấu_giá', 'quyền', 'sử_dụng', 'đất', 'và', 'đấu_thầu', 'dự_án', 'có', 'sử_dụng', 'đất', '.', 'cơ_bản', 'thực_hiện', 'hình_thức', 'cho', 'thuê', 'đất', 'tiền', 'hằng', 'năm', 'và', 'quy_định', 'cụ_thể', 'các', 'trường_hợp', 'trả', 'tiền', 'thuê', 'đất', 'một', 'lần', ',', 'phù_hợp', 'với', 'tính_chất', ',', 'mục_đích', 'sử_dụng', 'đất', ',', 'bảo_đảm', 'thu', 'ổn_định', ',', 'tránh', 'thất_thoát', 'ngân_sách', 'nhà_nước', '.', 'nhà_nước', 'thực_hiện', 'giao', 'đất', 'có', 'hạn', 'không', 'thu', 'tiền', 'sử_dụng', 'đất', 'đối_với', 'đất', 'sử_dụng', 'cơ_sở', 'thờ_tự', ',', 'trụ_sở', 'của', 'các', 'tổ_chức', 'tôn_giáo', '.', 'các', 'tổ_chức', 'tôn_giáo', 'sử_dụng', 'đất', 'mục_đích', 'khác', 'phải', 'trả', 'tiền', 'thuê', 'đất', 'cho', 'nhà_nước', 'theo', 'quy_định', 'của', 'pháp_luật', '.', 'quy_định', 'điều_kiện', 'giao', 'đất', ',', 'cho', 'thuê', 'đất', ',', 'hạn_mức', 'sử_dụng', 'đối_với', 'các', 'tổ_chức', 'tôn_giáo', 'phù_hợp', 'với', 'quỹ', 'đất', 'hiện', 'có', 'của', 'địa_phương', '.', 'tăng_cường', 'công_tác', 'quản_lý', ',', 'kiểm_soát', 'chặt_chẽ', 'việc', 'chuyển', 'mục_đích', 'sử_dụng', 'đất', ',', 'đặc_biệt', 'là', 'đất', 'trồng', 'lúa', ',', 'đất', 'rừng_phòng_hộ', ',', 'đất', 'rừng_đặc_dụng', ',', 'đất', 'rừng_sản_xuất', 'là', 'rừng', 'tự_nhiên', ',', 'đất', 'của', 'các', 'doanh_nghiệp', 'nhà_nước', 'thoái', 'vốn', ',', 'cổ_phần_hoá', 'và', 'các', 'loại', 'đất', 'được', 'sử_dụng', 'đa', 'mục_đích', ';', 'tăng_cường', 'phân_cấp', ',', 'phân_quyền', 'đi_đôi', 'với', 'kiểm_tra', ',', 'giám_sát', ',', 'đẩy_mạnh', 'cải_cách', 'thủ_tục', 'hành_chính', 'trong', 'chuyển', 'mục_đích', 'sử_dụng', 'đất', '.', 'là', ',', 'hoàn_thiện', 'quy_định', 'về', 'bồi_thường', ',', 'hỗ_trợ', ',', 'tái_định_cư', ',', 'thu_hồi', 'đất', 'mục_đích', 'quốc_phòng', ',', 'an_ninh', ';', 'phát_triển', 'kinh_tế', '-', 'xã_hội', 'vì', 'lợi_ích', 'quốc_gia', ',', 'công_cộng', 'việc', 'thu_hồi', 'đất', 'phải', 'tuân_thủ_hiến_pháp', 'và', 'pháp_luật', ';', 'được', 'thực_hiện', 'sau', 'phương_án', 'bồi_thường', ',', 'hỗ_trợ', ',', 'tái_định_cư', 'được', 'phê_duyệt', '.', 'đối_với', 'trường_hợp', 'thu_hồi', 'đất', 'phải', 'bố_trí', 'tái_định_cư', 'phải', 'hoàn_thành', 'bố_trí', 'tái_định_cư', 'khi', 'thu_hồi', 'đất', '.', 'việc', 'bồi_thường', ',', 'hỗ_trợ', ',', 'tái_định_cư', 'phải', 'đi', 'trước', 'một', ',', 'bảo_đảm', 'công_khai', ',', 'minh_bạch', ',', 'hài_hoà', 'lợi_ích', 'của', 'nhà_nước', ',', 'có', 'đất', 'thu_hồi', 'và', 'nhà_đầu_tư', 'theo', 'quy_định', 'của', 'hiến_pháp', 'và', 'pháp_luật', ';', 'có', 'quy_định', 'cụ_thể', 'về', 'bồi_thường', ',', 'hỗ_trợ', ',', 'tái_định_cư', 'để', 'sau', 'khi', 'thu_hồi', 'đất', 'thì', 'người_dân', 'có', 'đất', 'bị', 'thu_hồi', 'phải', 'có', 'chỗ', 'ở', ',', 'bảo_đảm', 'cuộc_sống', 'hoặc', 'ở', 'cũ', '.', 'thực_hiện', 'có', 'hiệu_quả', 'việc', 'đào_tạo', 'nghề', ',', 'việc_làm', ',', 'tổ_chức', 'sản_xuất', ',', 'ổn_định', 'đời_sống', 'cho', 'người', 'có', 'đất', 'bị', 'thu_hồi', '.', 'tiếp_tục', 'thực_hiện', 'thí_điểm', 'và', 'tổng_kết', 'chủ_trương', 'tách', 'dự_án', 'bồi_thường', ',', 'hỗ_trợ', ',', 'tái_định_cư', 'ra', 'dự_án', 'đầu_tư', 'để', 'thực_hiện', 'trước', '.', 'quy_định', 'cụ_thể', 'hơn', 'về', 'thẩm_quyền', ',', 'mục_đích', ',', 'phạm_vi', 'thu_hồi', 'đất', ',', 'điều_kiện', ',', 'tiêu_chí', 'cụ_thể', 'việc_nhà_nước', 'thu_hồi', 'đất', 'để', 'phát_triển', 'kinh_tế', '-', 'xã_hội', 'vì', 'lợi_ích', 'quốc_gia', ',', 'công_cộng', '.', 'tiếp_tục', 'thực_hiện', 'cơ_chế', 'thoả_thuận', 'giữa', 'người', 'dân', 'và', 'doanh_nghiệp', 'trong', 'chuyển_nhượng', 'quyền', 'sử_dụng', 'đất', 'để', 'thực_hiện', 'các', 'dự_án', 'đô_thị', ',', 'nhà_ở', 'thương_mại', '.', 'hoàn_thiện', 'tổ_chức', ',', 'bộ_máy', ',', 'cơ_chế', 'hoạt_động', ',', 'cơ_chế', 'tài_chính', 'của', 'các', 'tổ_chức', 'phát_triển', 'quỹ', 'đất', ',', 'bảo_đảm', 'tinh_gọn', ',', 'hoạt_động', 'hiệu_quả', ',', 'đủ', 'năng_lực', 'tạo_lập', ',', 'quản_lý', ',', 'khai_thác', 'quỹ', 'đất', ',', 'thực_hiện', 'tốt', 'nhiệm_vụ', 'bồi_thường', ',', 'hỗ_trợ', ',', 'tái_định_cư', 'khi', 'nhà_nước', 'thu_hồi', 'đất', '.', 'quy_định', 'cụ_thể', 'việc', 'khai_thác', 'hiệu_quả', 'quỹ', 'đất', 'phụ_cận', 'các', 'công_trình', 'kết_cấu_hạ_tầng', 'theo', 'quy_hoạch', ',', 'kế_hoạch', 'sử_dụng', 'đất', 'và', 'chính_sách', 'ưu_tiên', 'cho', 'người', 'có', 'đất', 'ở', 'bị', 'thu_hồi', 'đất', 'được', 'giao', 'đất', 'hoặc', 'mua', 'diện_tích', 'đất', 'thu_hồi', 'mở_rộng', 'theo', 'quy_định', 'của', 'pháp_luật', '.', 'đối_với', 'các', 'dự_án', 'phát_triển', 'kinh_tế', '-', 'xã_hội', 'phù_hợp', 'với', 'quy_hoạch', 'và', 'kế_hoạch', 'sử_dụng', 'đất', ',', 'sớm', 'xây_dựng', 'và', 'hoàn_thiện', 'cơ_chế', ',', 'chính_sách', 'để', 'tổ_chức', ',', 'hộ', 'gia_đình', ',', 'cá_nhân', 'có', 'quyền', 'sử_dụng', 'đất', 'tham_gia', 'với', 'nhà_đầu_tư', 'để', 'thực_hiện', 'các', 'dự_án', 'hình_thức', 'chuyển_nhượng', ',', 'cho', 'thuê', ',', 'góp', 'vốn', 'bằng', 'quyền', 'sử_dụng', 'đất', '.', 'quy_định', 'cơ_chế', 'góp', 'quyền', 'sử_dụng', 'đất', ',', 'điều_chỉnh', 'lại', 'đất_đai', 'đối_với', 'các', 'dự_án', 'phát_triển', ',', 'chỉnh_trang', 'đô_thị', 'và', 'khu', 'dân_cư', 'nông_thôn', '.', 'có', 'chế_tài', 'cụ_thể', 'và', 'đồng_bộ', 'để', 'xử_lý', 'các', 'trường_hợp', 'đã', 'được', 'nhà_nước', 'giao', 'đất', ',', 'cho', 'thuê', 'đất', 'không', 'sử_dụng', 'hoặc', 'chậm', 'sử_dụng', '.', 'kiên_quyết', 'thu_hồi', 'đất', 'của', 'tổ_chức', ',', 'cơ_quan', 'nhà_nước', ',', 'đơn_vị', 'sự_nghiệp', 'sử_dụng', 'đất', 'không', 'mục_đích', ',', 'nhất_là', 'các', 'vị_trí', 'có', 'lợi_thế', ',', 'khả_năng', 'sinh_lợi', 'cao', ',', 'ngăn_chặn', 'thất_thoát', 'vốn', ',', 'tài_sản', 'nhà_nước', '.', 'bốn', 'là', ',', 'hoàn_thiện', 'cơ_chế', 'xác_định', 'giá', 'đất', 'khung', 'giá', 'đất', '.', 'có', 'cơ_chế', ',', 'phương_pháp', 'xác_định', 'giá', 'đất', 'theo', 'nguyên_tắc', 'thị_trường', ',', 'quy_định', 'chức_năng', ',', 'nhiệm_vụ', 'và', 'trách_nhiệm', 'của', 'cơ_quan', 'có', 'nhiệm_vụ', 'xác_định', 'giá', 'đất', '.', 'trung_ương', 'xây_dựng', 'tiêu_chí', 'và', 'quy_trình', 'kiểm_tra', ',', 'giám_sát', 'các', 'địa_phương', 'trong', 'việc', 'xây_dựng', 'bảng', 'giá', 'đất', '.', 'hội_đồng_nhân_dân', 'cấp', 'tỉnh', 'quyết_định', 'và', 'kiểm_tra', ',', 'giám_sát', 'việc', 'thực_hiện', 'giá', 'đất', '.', 'có', 'cơ_chế', 'hữu_hiệu', 'để', 'nâng', 'cao', 'chất_lượng', 'công_tác', 'định_giá', 'đất', ',', 'bảo_đảm', 'độc_lập', 'của', 'hội_đồng', 'thẩm_định_giá', 'đất', ',', 'năng_lực', 'của', 'tổ_chức', 'tư_vấn', 'xác_định', 'giá', 'đất', ',', 'năng_lực', 'và', 'đạo_đức', 'của', 'các', 'định_giá', 'viên', '.', 'bổ_sung', ',', 'hoàn_thiện', 'các', 'quy_định', 'bảo_đảm', 'công_khai', ',', 'minh_bạch', 'như', ':', 'công_khai', 'giá', 'đất', ',', 'bắt_buộc', 'giao_dịch', 'các', 'sàn', 'giao_dịch', ',', 'thanh_toán', 'qua', 'ngân_hàng', ',', 'không', 'tiền_mặt', ';', 'xử_lý', 'nghiêm', 'các', 'vi_phạm', '...', 'năm', 'là', ',', 'hoàn_thiện', 'cơ_chế', ',', 'chính_sách', 'tài_chính', 'về', 'đất_đai', 'chính_sách', 'tài_chính', 'về', 'đất_đai', 'phải', 'bảo_đảm', 'hài_hoà', 'lợi_ích', 'của', 'nhà_nước', ',', 'người', 'sử_dụng', 'đất', 'và', 'nhà_đầu_tư', ';', 'có', 'cơ_chế', 'điều_tiết_hợp_lý', ',', 'hiệu_quả', 'nguồn', 'thu', 'tiền', 'sử_dụng', 'đất', ',', 'tiền', 'thuê', 'đất', 'giữa', 'trung_ương', 'và', 'địa_phương', ';', 'nghiên_cứu', 'có', 'chính_sách', 'điều_tiết', 'chênh_lệch', 'địa_tô', ',', 'bảo_đảm', 'công_khai', ',', 'minh_bạch', '.', 'rà_soát', 'chính_sách', ',', 'pháp_luật', 'về', 'thuế', 'sử_dụng', 'đất', 'nông_nghiệp', 'và', 'đất', 'phi', 'nông_nghiệp', ',', 'xây_dựng', 'chính_sách', ',', 'pháp_luật', 'về', 'thuế', 'sử_dụng', 'đất', 'theo', 'thông_lệ', 'quốc_tế', ',', 'phù_hợp', 'với', 'trình_độ', 'phát_triển', ',', 'điều_kiện', 'cụ_thể', 'và', 'lộ_trình', 'thích_hợp', '.', 'quy_định', 'mức', 'thuế', 'cao', 'hơn', 'đối_với', 'người', 'sử_dụng', 'nhiều', 'diện_tích', 'đất', ',', 'nhiều', 'nhà_ở', ',', 'đầu_cơ', 'đất', ',', 'chậm', 'sử_dụng', 'đất', ',', 'bỏ', 'đất_hoang', '.', 'có', 'chính_sách', 'ưu_đãi', 'thuế', ',', 'tiền', 'sử_dụng', 'đất', ',', 'tiền', 'thuê', 'đất', 'phù_hợp', 'với', 'lĩnh_vực', ',', 'địa_bàn', 'ưu_đãi', 'đầu_tư', ';', 'đối_với', 'hộ', 'nghèo', ',', 'đồng_bào', 'dân_tộc_thiểu_số', ',', 'gia_đình', 'người', 'có', 'công', 'với', 'cách_mạng', ';', 'địa_phương', 'được', 'quy_hoạch', 'sản_xuất', 'bảo_đảm', 'an_ninh', 'lương_thực', 'quốc_gia', ',', 'bảo_vệ', 'các', 'loại', 'rừng', ',', 'nhất_là', 'rừng_phòng_hộ', ',', 'rừng_đặc_dụng', '…', 'sáu', 'là', ',', 'hoàn_thiện', 'các', 'quy_định', 'pháp_luật', 'có', 'liên_quan', 'đến', 'thị_trường', 'bất_động_sản', ',', 'trong', 'có', 'thị_trường', 'quyền', 'sử_dụng', 'đất', 'đẩy_mạnh', 'thương_mại_hoá', 'quyền', 'sử_dụng', 'đất', '.', 'xây_dựng', 'hệ_thống', 'thông_tin', 'thị_trường', 'bất_động_sản', 'gắn', 'với', 'thông_tin', 'đất_đai', ';', 'có', 'chính_sách', 'khuyến_khích', 'phát_triển', 'thị_trường', 'quyền', 'sử_dụng', 'đất', ',', 'nhất_là', 'thị_trường', 'cho', 'thuê', 'đất', 'nông_nghiệp', '.', 'hoàn_thiện', 'cơ_sở', 'pháp_lý', 'và', 'tăng_cường', 'thực_hiện', 'thanh_toán', 'không', 'dùng', 'tiền_mặt', 'trong', 'giao_dịch', 'bất_động_sản', '.', 'có', 'cơ_chế', 'bảo_đảm', 'thị_trường', 'bất_động_sản', 'phát_triển', 'lành_mạnh', ',', 'an_toàn', ',', 'bền_vững', ';', 'kiểm_soát', 'chặt_chẽ', ',', 'khắc_phục', 'tình_trạng', 'đầu_cơ', 'đất_đai', '.', 'bảy', 'là', ',', 'hoàn_thiện', 'cơ_chế', ',', 'chính_sách', 'về', 'quản_lý', ',', 'sử_dụng', 'đất', 'nông_nghiệp', 'mở_rộng', 'đối_tượng', ',', 'hạn_mức', 'chuyển_quyền', 'sử_dụng', 'đất', 'nông_nghiệp', 'phù_hợp', 'với', 'đặc_điểm', ',', 'điều_kiện', 'của', 'từng', ',', 'địa_phương', ',', 'với', 'việc', 'chuyển_đổi', 'nghề', ',', 'việc_làm', ',', 'lao_động', 'ở', 'nông_thôn', '.', 'tạo', 'điều_kiện', 'thuận_lợi', 'để', 'người', 'sử_dụng', 'đất', 'nông_nghiệp', 'được', 'chuyển_đổi', 'mục_đích', 'sản_xuất', 'cây_trồng', ',', 'vật_nuôi', ',', 'nâng', 'cao', 'hiệu_quả', 'sử_dụng', 'đất', 'nông_nghiệp', 'theo', 'quy_hoạch', '.', 'tăng_cường', 'quản_lý', 'chất_lượng', 'đất', ',', 'khắc_phục', 'tình_trạng', 'thoái_hoá', ',', 'suy_giảm', 'chất_lượng', 'đất', '.', 'xây_dựng', 'quy_định', 'về', 'ngân_hàng', 'cho', 'thuê', 'đất', 'nông_nghiệp', '.', 'xây_dựng', 'cơ_chế', ',', 'chính_sách', 'phù_hợp', 'và', 'tổ_chức', 'thực_hiện', 'thu_hồi', 'đất', 'giao_khoán', 'không', 'đầu_tư', 'từ', 'các', 'công_ty', 'nông', ',', 'lâm_nghiệp', 'về', 'địa_phương', 'quản_lý', 'và', 'thực_hiện', 'giao', 'đất', ',', 'cho', 'thuê', 'đất', 'theo', 'quy_định', ',', 'phù_hợp', 'với', 'điều_kiện', 'của', 'từng', 'địa_phương', ',', 'vùng', ',', 'miền', '.', 'có', 'chính_sách', 'phù_hợp', 'để', 'ưu_tiên', 'giao', 'đất', 'cho', 'đồng_bào', 'dân_tộc', 'đất', 'sản_xuất', ',', 'với', 'các', 'cơ_chế', 'hiệu_quả', 'để', 'ngăn_chặn', 'người', 'dân', 'chuyển_nhượng', 'sau', 'khi', 'được', 'giao', 'đất', '.', 'tám', 'là', ',', 'xây_dựng', 'các', 'quy_định', 'pháp_luật', 'đối_với', 'quản_lý', 'và', 'sử_dụng', 'đất', 'kết_hợp', 'đa', 'mục_đích', 'bổ_sung', ',', 'hoàn_thiện', 'các', 'quy_định', 'đối_với', 'quản_lý', ',', 'sử_dụng', 'đất', 'quốc_phòng', ',', 'an_ninh', 'trên', 'cơ_sở', 'tổng_kết', 'việc', 'thí_điểm', 'một_số', 'chính_sách', 'để', 'tháo_gỡ', 'vướng_mắc', ',', 'tồn_đọng', 'trong', 'quản_lý', ',', 'sử_dụng', 'đất', 'quốc_phòng', ',', 'an_ninh', 'kết_hợp', 'với', 'sản_xuất', 'và', 'xây_dựng', 'kinh_tế', '.', 'bổ_sung', 'các', 'quy_định', 'về', 'đất', 'ở', 'kết_hợp', 'với', 'thương_mại', ',', 'dịch_vụ', ';', 'đất', 'nông_nghiệp', 'kết_hợp', 'với', 'thương_mại', ',', 'dịch_vụ', ';', 'đất', 'dự_án', 'du_lịch', 'có', 'yếu_tố', 'tâm_linh', '.', 'quy_định', 'chế_độ', 'sử_dụng', 'đất', 'xây_dựng', 'công_trình', 'trên', 'không', ',', 'công_trình', 'ngầm', ',', 'đất', 'hình_thành', 'từ', 'hoạt_động', 'lấn', 'biển', '.', 'hoàn_thiện', 'thể_chế', ',', 'chính_sách', 'quản_lý', 'và', 'sử_dụng', 'đất', 'đồng_bộ', 'với', 'thể_chế', 'phát_triển', 'nền', 'kinh_tế_thị_trường', 'định_hướng', 'xã_hội_chủ_nghĩa_là', 'một', 'trong', 'những', 'nhiệm_vụ', ',', 'giải_pháp', 'chủ_yếu', 'được', 'ra', 'tại', 'nghị_quyết', 'số', '18', '-', 'nq', '/', 'tw', 'hội_nghị', 'lần', 'thứ', '5', 'ban_chấp_hành', 'trung_ương', 'đảng', 'khóa', 'xiii', 'về', '\"', 'tiếp_tục', 'đổi_mới', ',', 'hoàn_thiện', 'thể_chế', ',', 'chính_sách', ',', 'nâng', 'cao', 'hiệu_lực', ',', 'hiệu_quả', 'quản_lý', 'và', 'sử_dụng', 'đất', ',', 'tạo', 'động_lực', 'đưa', 'ta', 'trở_thành', 'nước', 'phát_triển', 'có', 'thu_nhập', 'cao', '\"', '.'], -1)\n"
     ]
    }
   ],
   "source": [
    "print(list_train[1])\n",
    "print(list_test[1])"
   ]
  },
  {
   "cell_type": "code",
   "execution_count": 7,
   "metadata": {},
   "outputs": [],
   "source": [
    "def list_to_dict(words_list):\n",
    "  return dict([(word, True) for word in words_list])\n",
    " \n",
    "training_set_formatted = [(list_to_dict(element[0]), element[1]) for element in list_train]"
   ]
  },
  {
   "cell_type": "code",
   "execution_count": 8,
   "metadata": {},
   "outputs": [],
   "source": [
    "test_set_formatted = [(list_to_dict(element[0]), element[1]) for element in list_test]"
   ]
  },
  {
   "cell_type": "code",
   "execution_count": 9,
   "metadata": {},
   "outputs": [
    {
     "name": "stdout",
     "output_type": "stream",
     "text": [
      "  ==> Training (150 iterations)\n",
      "\n",
      "      Iteration    Log Likelihood    Accuracy\n",
      "      ---------------------------------------\n",
      "             1          -0.69315        0.599\n",
      "             2          -0.69032        0.786\n",
      "             3          -0.68753        0.788\n",
      "             4          -0.68476        0.789\n",
      "             5          -0.68203        0.791\n",
      "             6          -0.67932        0.794\n",
      "             7          -0.67664        0.799\n",
      "             8          -0.67399        0.799\n",
      "             9          -0.67137        0.800\n",
      "            10          -0.66877        0.802\n",
      "            11          -0.66621        0.805\n",
      "            12          -0.66366        0.807\n",
      "            13          -0.66115        0.807\n",
      "            14          -0.65866        0.808\n",
      "            15          -0.65620        0.813\n",
      "            16          -0.65376        0.816\n",
      "            17          -0.65134        0.816\n",
      "            18          -0.64895        0.817\n",
      "            19          -0.64659        0.819\n",
      "            20          -0.64425        0.819\n",
      "            21          -0.64193        0.819\n",
      "            22          -0.63963        0.819\n",
      "            23          -0.63736        0.822\n",
      "            24          -0.63511        0.825\n",
      "            25          -0.63288        0.828\n",
      "            26          -0.63067        0.833\n",
      "            27          -0.62848        0.833\n",
      "            28          -0.62632        0.835\n",
      "            29          -0.62417        0.838\n",
      "            30          -0.62204        0.838\n",
      "            31          -0.61994        0.838\n",
      "            32          -0.61785        0.839\n",
      "            33          -0.61578        0.841\n",
      "            34          -0.61373        0.841\n",
      "            35          -0.61170        0.842\n",
      "            36          -0.60969        0.842\n",
      "            37          -0.60769        0.844\n",
      "            38          -0.60571        0.844\n",
      "            39          -0.60375        0.844\n",
      "            40          -0.60181        0.844\n",
      "            41          -0.59988        0.844\n",
      "            42          -0.59797        0.846\n",
      "            43          -0.59608        0.846\n",
      "            44          -0.59420        0.847\n",
      "            45          -0.59234        0.847\n",
      "            46          -0.59049        0.850\n",
      "            47          -0.58866        0.850\n",
      "            48          -0.58684        0.850\n",
      "            49          -0.58504        0.850\n",
      "            50          -0.58326        0.852\n",
      "            51          -0.58148        0.853\n",
      "            52          -0.57973        0.855\n",
      "            53          -0.57798        0.856\n",
      "            54          -0.57625        0.856\n",
      "            55          -0.57453        0.858\n",
      "            56          -0.57283        0.860\n",
      "            57          -0.57114        0.860\n",
      "            58          -0.56946        0.863\n",
      "            59          -0.56780        0.863\n",
      "            60          -0.56615        0.863\n",
      "            61          -0.56451        0.863\n",
      "            62          -0.56288        0.864\n",
      "            63          -0.56127        0.864\n",
      "            64          -0.55966        0.864\n",
      "            65          -0.55807        0.866\n",
      "            66          -0.55649        0.867\n",
      "            67          -0.55493        0.867\n",
      "            68          -0.55337        0.867\n",
      "            69          -0.55183        0.867\n",
      "            70          -0.55029        0.867\n",
      "            71          -0.54877        0.867\n",
      "            72          -0.54726        0.867\n",
      "            73          -0.54576        0.867\n",
      "            74          -0.54427        0.871\n",
      "            75          -0.54279        0.871\n",
      "            76          -0.54132        0.872\n",
      "            77          -0.53986        0.872\n",
      "            78          -0.53841        0.874\n",
      "            79          -0.53697        0.874\n",
      "            80          -0.53555        0.875\n",
      "            81          -0.53413        0.875\n",
      "            82          -0.53272        0.875\n",
      "            83          -0.53132        0.875\n",
      "            84          -0.52993        0.875\n",
      "            85          -0.52855        0.875\n",
      "            86          -0.52717        0.875\n",
      "            87          -0.52581        0.875\n",
      "            88          -0.52446        0.878\n",
      "            89          -0.52311        0.878\n",
      "            90          -0.52178        0.878\n",
      "            91          -0.52045        0.881\n",
      "            92          -0.51913        0.881\n",
      "            93          -0.51782        0.885\n",
      "            94          -0.51652        0.886\n",
      "            95          -0.51523        0.886\n",
      "            96          -0.51394        0.888\n",
      "            97          -0.51267        0.888\n",
      "            98          -0.51140        0.888\n",
      "            99          -0.51014        0.889\n",
      "           100          -0.50889        0.889\n",
      "           101          -0.50764        0.889\n",
      "           102          -0.50640        0.891\n",
      "           103          -0.50518        0.891\n",
      "           104          -0.50395        0.891\n",
      "           105          -0.50274        0.891\n",
      "           106          -0.50153        0.891\n",
      "           107          -0.50033        0.891\n",
      "           108          -0.49914        0.891\n",
      "           109          -0.49796        0.891\n",
      "           110          -0.49678        0.889\n",
      "           111          -0.49561        0.889\n",
      "           112          -0.49445        0.889\n",
      "           113          -0.49329        0.889\n",
      "           114          -0.49214        0.889\n",
      "           115          -0.49100        0.889\n",
      "           116          -0.48987        0.891\n",
      "           117          -0.48874        0.892\n",
      "           118          -0.48761        0.892\n",
      "           119          -0.48650        0.892\n",
      "           120          -0.48539        0.892\n",
      "           121          -0.48429        0.892\n",
      "           122          -0.48319        0.892\n",
      "           123          -0.48210        0.892\n",
      "           124          -0.48102        0.892\n",
      "           125          -0.47994        0.892\n",
      "           126          -0.47887        0.892\n",
      "           127          -0.47780        0.892\n",
      "           128          -0.47674        0.892\n",
      "           129          -0.47569        0.892\n",
      "           130          -0.47464        0.892\n",
      "           131          -0.47360        0.892\n",
      "           132          -0.47257        0.892\n",
      "           133          -0.47154        0.892\n",
      "           134          -0.47051        0.892\n",
      "           135          -0.46949        0.892\n",
      "           136          -0.46848        0.892\n",
      "           137          -0.46748        0.892\n",
      "           138          -0.46647        0.892\n",
      "           139          -0.46548        0.892\n",
      "           140          -0.46449        0.892\n",
      "           141          -0.46350        0.894\n",
      "           142          -0.46252        0.895\n",
      "           143          -0.46155        0.897\n",
      "           144          -0.46058        0.897\n",
      "           145          -0.45961        0.897\n",
      "           146          -0.45865        0.899\n",
      "           147          -0.45770        0.899\n",
      "           148          -0.45675        0.899\n",
      "           149          -0.45581        0.899\n",
      "         Final          -0.45487        0.899\n",
      "  -0.045 loay_hoay==True and label is 1\n",
      "  -0.044 xã_hội_chủ_nghĩa==True and label is -1\n",
      "  -0.040 chỉnh_lý==True and label is -1\n",
      "  -0.039 vương_đình==True and label is -1\n",
      "  -0.039 2006==True and label is 1\n",
      "  -0.038 biến_đổi==True and label is -1\n",
      "  -0.037 xu_thế==True and label is -1\n",
      "  -0.037 loại_bỏ==True and label is -1\n",
      "  -0.037 khí_hậu==True and label is -1\n",
      "  -0.037 dân_tộc==True and label is -1\n"
     ]
    }
   ],
   "source": [
    "algorithm = nltk.classify.MaxentClassifier.ALGORITHMS[0]\n",
    "mx = MaxentClassifier.train(training_set_formatted, algorithm,max_iter = 150)\n",
    "mx.show_most_informative_features(10)"
   ]
  },
  {
   "cell_type": "code",
   "execution_count": 10,
   "metadata": {},
   "outputs": [],
   "source": [
    "y_test_pred = mx.classify_many([test_set_formatted[i][0] for i in range(len(list_label_test))])"
   ]
  },
  {
   "cell_type": "code",
   "execution_count": 11,
   "metadata": {},
   "outputs": [
    {
     "name": "stdout",
     "output_type": "stream",
     "text": [
      "Maxent Accuracy Score ->  85.08771929824562\n",
      "              precision    recall  f1-score   support\n",
      "\n",
      "          -1       0.92      0.71      0.80        48\n",
      "           1       0.82      0.95      0.88        66\n",
      "\n",
      "    accuracy                           0.85       114\n",
      "   macro avg       0.87      0.83      0.84       114\n",
      "weighted avg       0.86      0.85      0.85       114\n",
      "\n"
     ]
    }
   ],
   "source": [
    "print(\"Maxent Accuracy Score -> \",accuracy_score(list_label_test, y_test_pred)*100)\n",
    "print(classification_report(list_label_test,y_test_pred))"
   ]
  },
  {
   "cell_type": "code",
   "execution_count": null,
   "metadata": {},
   "outputs": [],
   "source": []
  }
 ],
 "metadata": {
  "kernelspec": {
   "display_name": "Python 3.8.8 ('base')",
   "language": "python",
   "name": "python3"
  },
  "language_info": {
   "codemirror_mode": {
    "name": "ipython",
    "version": 3
   },
   "file_extension": ".py",
   "mimetype": "text/x-python",
   "name": "python",
   "nbconvert_exporter": "python",
   "pygments_lexer": "ipython3",
   "version": "3.8.8"
  },
  "orig_nbformat": 4,
  "vscode": {
   "interpreter": {
    "hash": "88279d2366fe020547cde40dd65aa0e3aa662a6ec1f3ca12d88834876c85e1a6"
   }
  }
 },
 "nbformat": 4,
 "nbformat_minor": 2
}
